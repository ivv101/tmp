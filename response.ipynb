{
 "cells": [
  {
   "cell_type": "code",
   "execution_count": 10,
   "id": "61827a78-268d-4d97-b403-f15c2c55c904",
   "metadata": {
    "tags": []
   },
   "outputs": [],
   "source": [
    "import os\n",
    "import openai\n",
    "openai.api_key = os.getenv('OPENAI_API_KEY')\n",
    "\n",
    "from glob import glob\n",
    "from pathlib import Path\n",
    "\n",
    "import tiktoken"
   ]
  },
  {
   "cell_type": "code",
   "execution_count": 11,
   "id": "a60a0412-1fd8-4fa9-9a90-cbf1de74e442",
   "metadata": {},
   "outputs": [],
   "source": [
    "# openai.Model.values()"
   ]
  },
  {
   "cell_type": "code",
   "execution_count": null,
   "id": "fbe971ba-fe53-4ad4-ba35-29b986afaedc",
   "metadata": {},
   "outputs": [],
   "source": []
  },
  {
   "cell_type": "code",
   "execution_count": 2,
   "id": "6b130065-e64b-4a68-ae78-454f4ebbc7d8",
   "metadata": {
    "tags": []
   },
   "outputs": [],
   "source": [
    "# openai.Model.list()"
   ]
  },
  {
   "cell_type": "code",
   "execution_count": 12,
   "id": "551cb096-78d2-455d-8497-0dab1e00a941",
   "metadata": {
    "tags": []
   },
   "outputs": [],
   "source": [
    "def ask(messages, model='gpt-4-1106-preview', top_p=1, presence_penalty=0, stream=True, verbose=True):\n",
    "    \n",
    "    '''\n",
    "    \n",
    "    input can be either list of dicts or a string (converted to user's)\n",
    "    \n",
    "    https://platform.openai.com/docs/api-reference/chat\n",
    "    \n",
    "    '''\n",
    "    \n",
    "    if type(messages) == str:\n",
    "        messages = [{'role': 'user', 'content': messages}]\n",
    "\n",
    "    compl = openai.ChatCompletion.create(\n",
    "        model=model,\n",
    "        messages=messages,\n",
    "        stream=stream,\n",
    "        top_p=top_p,\n",
    "        presence_penalty=presence_penalty\n",
    "    )\n",
    "\n",
    "    out = []\n",
    "    out_content = ''\n",
    "    \n",
    "    if stream:\n",
    "\n",
    "        for _ in compl:\n",
    "\n",
    "            out.append(_)\n",
    "\n",
    "            c = _['choices'][0]['delta']\n",
    "\n",
    "            if 'content' in c:\n",
    "\n",
    "                out_content += c['content']\n",
    "\n",
    "                if verbose:\n",
    "                    print(c['content'], end='')\n",
    "                    \n",
    "    else:\n",
    "        \n",
    "        out.append(compl)\n",
    "        \n",
    "        out_content = compl.choices[0].message.content\n",
    "        \n",
    "        if verbose:            \n",
    "            print(out_content) \n",
    "            \n",
    "    if verbose:            \n",
    "        print('\\n')          \n",
    "            \n",
    "    return out, out_content"
   ]
  },
  {
   "cell_type": "code",
   "execution_count": null,
   "id": "0e99eb38-8bfd-4a9d-8454-e1e1541501a6",
   "metadata": {
    "tags": []
   },
   "outputs": [],
   "source": [
    "_ = ask('''using jquery and bulma, make table scrllable if it has > 10 entries. ''')"
   ]
  },
  {
   "cell_type": "code",
   "execution_count": null,
   "id": "e73ebfdb-041e-4b7c-aa7f-7341d336263d",
   "metadata": {},
   "outputs": [],
   "source": []
  }
 ],
 "metadata": {
  "jupytext": {
   "formats": "ipynb,py:light"
  },
  "kernelspec": {
   "display_name": "p311",
   "language": "python",
   "name": "p311"
  },
  "language_info": {
   "codemirror_mode": {
    "name": "ipython",
    "version": 3
   },
   "file_extension": ".py",
   "mimetype": "text/x-python",
   "name": "python",
   "nbconvert_exporter": "python",
   "pygments_lexer": "ipython3",
   "version": "3.11.6"
  }
 },
 "nbformat": 4,
 "nbformat_minor": 5
}
