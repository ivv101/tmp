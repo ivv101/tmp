{
 "cells": [
  {
   "cell_type": "code",
   "execution_count": null,
   "id": "51b1317d-6873-41fd-8950-bfdfdee240cd",
   "metadata": {},
   "outputs": [],
   "source": [
    "from keras.models import Sequential\n",
    "from keras.layers import Dense\n",
    "from keras.optimizers import Adam\n",
    "\n",
    "# Assuming X_train is your feature set and y_train is your target variable\n",
    "X_train = # your 25000x5 feature dataset\n",
    "y_train = # your 25000 target values\n",
    "\n",
    "# Define the model\n",
    "model = Sequential()\n",
    "model.add(Dense(10, input_dim=5, activation='relu'))  # First hidden layer with 10 neurons\n",
    "model.add(Dense(10, activation='relu'))  # Second hidden layer\n",
    "model.add(Dense(1, activation='sigmoid'))  # Output layer\n",
    "\n",
    "# Compile the model\n",
    "model.compile(optimizer=Adam(learning_rate=0.001),\n",
    "              loss='binary_crossentropy',\n",
    "              metrics=['accuracy'])\n",
    "\n",
    "# Train the model\n",
    "history = model.fit(X_train, y_train, epochs=100, batch_size=32, validation_split=0.2)\n",
    "\n",
    "# You can add callbacks, and further fine-tune your model based on the validation performance\n"
   ]
  },
  {
   "cell_type": "code",
   "execution_count": null,
   "id": "0851070c-5c9d-4dda-8e72-e9d39184702f",
   "metadata": {},
   "outputs": [],
   "source": []
  }
 ],
 "metadata": {
  "kernelspec": {
   "display_name": "p311",
   "language": "python",
   "name": "p311"
  },
  "language_info": {
   "codemirror_mode": {
    "name": "ipython",
    "version": 3
   },
   "file_extension": ".py",
   "mimetype": "text/x-python",
   "name": "python",
   "nbconvert_exporter": "python",
   "pygments_lexer": "ipython3",
   "version": "3.11.6"
  }
 },
 "nbformat": 4,
 "nbformat_minor": 5
}
