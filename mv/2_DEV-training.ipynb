{
 "cells": [
  {
   "cell_type": "code",
   "execution_count": 1,
   "metadata": {
    "id": "pUnlnXGt2NET"
   },
   "outputs": [
    {
     "name": "stderr",
     "output_type": "stream",
     "text": [
      "2023-02-02 17:08:05.663367: I tensorflow/core/platform/cpu_feature_guard.cc:193] This TensorFlow binary is optimized with oneAPI Deep Neural Network Library (oneDNN) to use the following CPU instructions in performance-critical operations:  AVX2 FMA\n",
      "To enable them in other operations, rebuild TensorFlow with the appropriate compiler flags.\n",
      "2023-02-02 17:08:06.192566: W tensorflow/compiler/xla/stream_executor/platform/default/dso_loader.cc:64] Could not load dynamic library 'libnvinfer.so.7'; dlerror: libnvinfer.so.7: cannot open shared object file: No such file or directory; LD_LIBRARY_PATH: /home/ivv101/arrayfire/lib64:/usr/local/cuda/lib64:/home/ivv101/arrayfire/lib64:/usr/local/cuda/lib64::/home/ivv101/miniconda3/envs/p310/lib/:/home/ivv101/miniconda3/envs/p310/lib/\n",
      "2023-02-02 17:08:06.192663: W tensorflow/compiler/xla/stream_executor/platform/default/dso_loader.cc:64] Could not load dynamic library 'libnvinfer_plugin.so.7'; dlerror: libnvinfer_plugin.so.7: cannot open shared object file: No such file or directory; LD_LIBRARY_PATH: /home/ivv101/arrayfire/lib64:/usr/local/cuda/lib64:/home/ivv101/arrayfire/lib64:/usr/local/cuda/lib64::/home/ivv101/miniconda3/envs/p310/lib/:/home/ivv101/miniconda3/envs/p310/lib/\n",
      "2023-02-02 17:08:06.192668: W tensorflow/compiler/tf2tensorrt/utils/py_utils.cc:38] TF-TRT Warning: Cannot dlopen some TensorRT libraries. If you would like to use Nvidia GPU with TensorRT, please make sure the missing libraries mentioned above are installed properly.\n"
     ]
    },
    {
     "name": "stdout",
     "output_type": "stream",
     "text": [
      "INFO: Pandarallel will run on 6 workers.\n",
      "INFO: Pandarallel will use Memory file system to transfer data between the main process and workers.\n"
     ]
    }
   ],
   "source": [
    "import numpy as np\n",
    "import pandas as pd\n",
    "\n",
    "import os\n",
    "import pickle as pkl\n",
    "import re\n",
    "\n",
    "import tensorflow as tf\n",
    "from tensorflow import keras\n",
    "from tensorflow.keras.callbacks import EarlyStopping\n",
    "\n",
    "from sklearn.preprocessing import MultiLabelBinarizer\n",
    "\n",
    "from sklearn.model_selection import train_test_split\n",
    "\n",
    "from sklearn.metrics import classification_report\n",
    "\n",
    "import autokeras as ak # !pip install autokeras\n",
    "\n",
    "import json\n",
    "\n",
    "import matplotlib.pyplot as plt\n",
    "\n",
    "from pandarallel import pandarallel\n",
    "pandarallel.initialize(progress_bar=False)"
   ]
  },
  {
   "cell_type": "code",
   "execution_count": 2,
   "metadata": {},
   "outputs": [],
   "source": [
    "# tf.keras.backend.binary_crossentropy??"
   ]
  },
  {
   "cell_type": "code",
   "execution_count": 3,
   "metadata": {},
   "outputs": [],
   "source": [
    "# y_true = np.array([[1, 1, 0], [1, 1, 1]])\n",
    "# y_pred = np.array([[1, 0, 1], [1, 0, 0]]).astype(float)\n",
    "\n",
    "\n",
    "# bce_func = tf.keras.losses.BinaryCrossentropy(from_logits=True)\n",
    "# # bce_func(y_true, y_pred).numpy()\n",
    "\n",
    "\n",
    "# target = y_true\n",
    "# output = y_pred\n",
    "\n",
    "# epsilon_ = tf.keras.backend.epsilon()\n",
    "\n",
    "# output = tf.clip_by_value(output, epsilon_, 1.0 - epsilon_)\n",
    "\n",
    "# bce = target * tf.math.log(output + epsilon_)\n",
    "# bce += (1 - target) * tf.math.log(1 - output + epsilon_)\n",
    "\n",
    "# -bce.numpy(), bce_func(y_true, y_pred).numpy()"
   ]
  },
  {
   "cell_type": "code",
   "execution_count": 4,
   "metadata": {},
   "outputs": [],
   "source": [
    "# import tensorflow as tf\n",
    "# from tensorflow.keras.layers import *\n",
    "# from tensorflow.keras import Model\n",
    "# import numpy as np\n",
    "\n",
    "# a = np.random.randint(10,size=(10,20,1))\n",
    "# b = np.random.rand(10,15)\n",
    "# train_dataset = tf.data.Dataset.from_tensor_slices((a,b)).batch(4)\n",
    "\n",
    "# inp = Input(shape=(None,), dtype=\"int32\")\n",
    "# embedding = Embedding(12, 300, trainable=False, mask_zero=True)(inp)\n",
    "# gru = Bidirectional(GRU(128, recurrent_dropout=0.5))(embedding)\n",
    "# out = Dense(64, activation=tf.nn.relu)(gru)\n",
    "# out = Dropout(0.5)(out)\n",
    "# out = Dense(15, activation='sigmoid')(out)\n",
    "# m = Model(inputs=inp, outputs = out)\n",
    "# m.compile(\"adam\", 'categorical_crossentropy')\n",
    "\n",
    "# # m.fit(a,b)\n",
    "# # m.fit(train_dataset)"
   ]
  },
  {
   "cell_type": "code",
   "execution_count": 5,
   "metadata": {},
   "outputs": [],
   "source": [
    "# tf.nn.sigmoid_cross_entropy_with_logits??"
   ]
  },
  {
   "cell_type": "code",
   "execution_count": 6,
   "metadata": {},
   "outputs": [],
   "source": [
    "# eps = tf.keras.backend.epsilon()\n",
    "# eps"
   ]
  },
  {
   "cell_type": "code",
   "execution_count": 7,
   "metadata": {},
   "outputs": [],
   "source": [
    "# tf.keras.losses.binary_crossentropy??"
   ]
  },
  {
   "cell_type": "code",
   "execution_count": null,
   "metadata": {},
   "outputs": [],
   "source": []
  },
  {
   "cell_type": "code",
   "execution_count": 8,
   "metadata": {},
   "outputs": [],
   "source": [
    "# ls /usr/local/cuda-11.2/"
   ]
  },
  {
   "cell_type": "code",
   "execution_count": 9,
   "metadata": {},
   "outputs": [],
   "source": [
    "# mirrored_strategy = tf.distribute.MirroredStrategy()\n",
    "\n",
    "# with mirrored_strategy.scope():\n",
    "#     model = tf.keras.Sequential([tf.keras.layers.Dense(1, input_shape=(1,))])\n",
    "\n",
    "# model.compile(loss='mse', optimizer='sgd')"
   ]
  },
  {
   "cell_type": "code",
   "execution_count": 10,
   "metadata": {},
   "outputs": [],
   "source": [
    "SEED = 321 #434"
   ]
  },
  {
   "cell_type": "code",
   "execution_count": 11,
   "metadata": {},
   "outputs": [],
   "source": [
    "use_cache = True\n",
    "\n",
    "data_dir = 'data' # folder containing original datasets\n",
    "tmp_dir = 'tmp' # temporal folder containing intermediate results of Jupyter notebooks\n",
    "out_dir = 'out' # folder containing the model and other files needed for classification"
   ]
  },
  {
   "cell_type": "code",
   "execution_count": 12,
   "metadata": {},
   "outputs": [],
   "source": [
    "if not os.path.exists(out_dir):\n",
    "    os.mkdir(out_dir)"
   ]
  },
  {
   "cell_type": "code",
   "execution_count": 13,
   "metadata": {},
   "outputs": [],
   "source": [
    "df = pkl.load(open(f'{tmp_dir}/data.pkl', 'rb'))"
   ]
  },
  {
   "cell_type": "code",
   "execution_count": 14,
   "metadata": {},
   "outputs": [],
   "source": [
    "def remove_labels(df, labels, in_col='genres', out_col='genres2'):\n",
    "    \n",
    "    if type(labels)==str:\n",
    "        labels = [labels]\n",
    "        \n",
    "    df[out_col] = [sorted(list(set(_).difference(set(labels)))) for _ in df[in_col]]\n",
    "    \n",
    "    return df"
   ]
  },
  {
   "cell_type": "markdown",
   "metadata": {},
   "source": [
    "### Let us remove genres that have <1000 entries as well as 'Musical', 'Mystery', and 'Biography' (they were found to be poorly perfoming in training, which makes sense)."
   ]
  },
  {
   "cell_type": "code",
   "execution_count": 15,
   "metadata": {},
   "outputs": [
    {
     "data": {
      "text/plain": [
       "{'Biography', 'Film-Noir', 'History', 'Music', 'Musical', 'Mystery', 'Sport'}"
      ]
     },
     "execution_count": 15,
     "metadata": {},
     "output_type": "execute_result"
    }
   ],
   "source": [
    "labels, abund = np.unique(np.concatenate(df['genres'].tolist()), return_counts=True)\n",
    "        \n",
    "to_remove = set(labels[np.where(abund<1000)[0]])\n",
    "to_remove = to_remove.union({'Musical', 'Mystery', 'Biography'})\n",
    "\n",
    "to_remove"
   ]
  },
  {
   "cell_type": "code",
   "execution_count": 16,
   "metadata": {},
   "outputs": [
    {
     "data": {
      "text/html": [
       "<div>\n",
       "<style scoped>\n",
       "    .dataframe tbody tr th:only-of-type {\n",
       "        vertical-align: middle;\n",
       "    }\n",
       "\n",
       "    .dataframe tbody tr th {\n",
       "        vertical-align: top;\n",
       "    }\n",
       "\n",
       "    .dataframe thead th {\n",
       "        text-align: right;\n",
       "    }\n",
       "</style>\n",
       "<table border=\"1\" class=\"dataframe\">\n",
       "  <thead>\n",
       "    <tr style=\"text-align: right;\">\n",
       "      <th></th>\n",
       "      <th>name</th>\n",
       "      <th>year</th>\n",
       "      <th>revenue</th>\n",
       "      <th>genres</th>\n",
       "      <th>synopsis</th>\n",
       "      <th>clean</th>\n",
       "      <th>genres2</th>\n",
       "    </tr>\n",
       "    <tr>\n",
       "      <th>wiki_id</th>\n",
       "      <th></th>\n",
       "      <th></th>\n",
       "      <th></th>\n",
       "      <th></th>\n",
       "      <th></th>\n",
       "      <th></th>\n",
       "      <th></th>\n",
       "    </tr>\n",
       "  </thead>\n",
       "  <tbody>\n",
       "    <tr>\n",
       "      <th>23890098</th>\n",
       "      <td>Taxi Blues</td>\n",
       "      <td>1990</td>\n",
       "      <td>NaN</td>\n",
       "      <td>[Drama]</td>\n",
       "      <td>Shlykov, a hard-working taxi driver and Lyosha...</td>\n",
       "      <td>Shlykov, a hard-working taxi driver and Lyosha...</td>\n",
       "      <td>[Drama]</td>\n",
       "    </tr>\n",
       "    <tr>\n",
       "      <th>31186339</th>\n",
       "      <td>The Hunger Games</td>\n",
       "      <td>2012</td>\n",
       "      <td>686533290.0</td>\n",
       "      <td>[Action, Adventure, Drama, Sci-Fi]</td>\n",
       "      <td>The nation of Panem consists of a wealthy Capi...</td>\n",
       "      <td>The nation of Panem consists of a wealthy Capi...</td>\n",
       "      <td>[Action, Adventure, Drama, Sci-Fi]</td>\n",
       "    </tr>\n",
       "    <tr>\n",
       "      <th>20663735</th>\n",
       "      <td>Narasimham</td>\n",
       "      <td>2000</td>\n",
       "      <td>NaN</td>\n",
       "      <td>[Action, Drama, Musical]</td>\n",
       "      <td>Poovalli Induchoodan  is sentenced for six yea...</td>\n",
       "      <td>Poovalli Induchoodan is sentenced for six year...</td>\n",
       "      <td>[Action, Drama]</td>\n",
       "    </tr>\n",
       "    <tr>\n",
       "      <th>2231378</th>\n",
       "      <td>The Lemon Drop Kid</td>\n",
       "      <td>1951</td>\n",
       "      <td>2300000.0</td>\n",
       "      <td>[Comedy]</td>\n",
       "      <td>The Lemon Drop Kid , a New York City swindler,...</td>\n",
       "      <td>The Lemon Drop Kid, a New York City swindler, ...</td>\n",
       "      <td>[Comedy]</td>\n",
       "    </tr>\n",
       "    <tr>\n",
       "      <th>595909</th>\n",
       "      <td>A Cry in the Dark</td>\n",
       "      <td>1988</td>\n",
       "      <td>6908797.0</td>\n",
       "      <td>[Crime, Drama]</td>\n",
       "      <td>Seventh-day Adventist Church pastor Michael Ch...</td>\n",
       "      <td>Seventh-day Adventist Church pastor Michael Ch...</td>\n",
       "      <td>[Crime, Drama]</td>\n",
       "    </tr>\n",
       "    <tr>\n",
       "      <th>...</th>\n",
       "      <td>...</td>\n",
       "      <td>...</td>\n",
       "      <td>...</td>\n",
       "      <td>...</td>\n",
       "      <td>...</td>\n",
       "      <td>...</td>\n",
       "      <td>...</td>\n",
       "    </tr>\n",
       "    <tr>\n",
       "      <th>2867597</th>\n",
       "      <td>Mr. Bill's Real Life Adventures</td>\n",
       "      <td>1986</td>\n",
       "      <td>NaN</td>\n",
       "      <td>[Comedy]</td>\n",
       "      <td>An attempt to bring the famed \"Mr. Bill\" clay ...</td>\n",
       "      <td>An attempt to bring the famed clay characters ...</td>\n",
       "      <td>[Comedy]</td>\n",
       "    </tr>\n",
       "    <tr>\n",
       "      <th>1096473</th>\n",
       "      <td>The Last Command</td>\n",
       "      <td>1928</td>\n",
       "      <td>NaN</td>\n",
       "      <td>[Drama, War]</td>\n",
       "      <td>In 1928 Hollywood, director Leo Andreyev  look...</td>\n",
       "      <td>In 1928 Hollywood, director Leo Andreyev looks...</td>\n",
       "      <td>[Drama, War]</td>\n",
       "    </tr>\n",
       "    <tr>\n",
       "      <th>35102018</th>\n",
       "      <td>Randy Parsons: American Luthier</td>\n",
       "      <td>2011</td>\n",
       "      <td>NaN</td>\n",
       "      <td>[Biography, Music]</td>\n",
       "      <td>American Luthier focuses on Randy Parsons’ tra...</td>\n",
       "      <td>American Luthier focuses on Randy transformati...</td>\n",
       "      <td>[]</td>\n",
       "    </tr>\n",
       "    <tr>\n",
       "      <th>8628195</th>\n",
       "      <td>Kabuliwala</td>\n",
       "      <td>1961</td>\n",
       "      <td>NaN</td>\n",
       "      <td>[Drama]</td>\n",
       "      <td>Abdur Rehman Khan , a middle-aged dry fruit se...</td>\n",
       "      <td>Abdur Rehman Khan, a middle-aged dry fruit sel...</td>\n",
       "      <td>[Drama]</td>\n",
       "    </tr>\n",
       "    <tr>\n",
       "      <th>6040782</th>\n",
       "      <td>Dad's Army</td>\n",
       "      <td>1971</td>\n",
       "      <td>NaN</td>\n",
       "      <td>[Comedy]</td>\n",
       "      <td>1940 - Operation Dynamo has just taken place. ...</td>\n",
       "      <td>1940 - Operation Dynamo has just taken place. ...</td>\n",
       "      <td>[Comedy]</td>\n",
       "    </tr>\n",
       "  </tbody>\n",
       "</table>\n",
       "<p>39086 rows × 7 columns</p>\n",
       "</div>"
      ],
      "text/plain": [
       "                                     name  year      revenue  \\\n",
       "wiki_id                                                        \n",
       "23890098                       Taxi Blues  1990          NaN   \n",
       "31186339                 The Hunger Games  2012  686533290.0   \n",
       "20663735                       Narasimham  2000          NaN   \n",
       "2231378                The Lemon Drop Kid  1951    2300000.0   \n",
       "595909                  A Cry in the Dark  1988    6908797.0   \n",
       "...                                   ...   ...          ...   \n",
       "2867597   Mr. Bill's Real Life Adventures  1986          NaN   \n",
       "1096473                  The Last Command  1928          NaN   \n",
       "35102018  Randy Parsons: American Luthier  2011          NaN   \n",
       "8628195                        Kabuliwala  1961          NaN   \n",
       "6040782                        Dad's Army  1971          NaN   \n",
       "\n",
       "                                      genres  \\\n",
       "wiki_id                                        \n",
       "23890098                             [Drama]   \n",
       "31186339  [Action, Adventure, Drama, Sci-Fi]   \n",
       "20663735            [Action, Drama, Musical]   \n",
       "2231378                             [Comedy]   \n",
       "595909                        [Crime, Drama]   \n",
       "...                                      ...   \n",
       "2867597                             [Comedy]   \n",
       "1096473                         [Drama, War]   \n",
       "35102018                  [Biography, Music]   \n",
       "8628195                              [Drama]   \n",
       "6040782                             [Comedy]   \n",
       "\n",
       "                                                   synopsis  \\\n",
       "wiki_id                                                       \n",
       "23890098  Shlykov, a hard-working taxi driver and Lyosha...   \n",
       "31186339  The nation of Panem consists of a wealthy Capi...   \n",
       "20663735  Poovalli Induchoodan  is sentenced for six yea...   \n",
       "2231378   The Lemon Drop Kid , a New York City swindler,...   \n",
       "595909    Seventh-day Adventist Church pastor Michael Ch...   \n",
       "...                                                     ...   \n",
       "2867597   An attempt to bring the famed \"Mr. Bill\" clay ...   \n",
       "1096473   In 1928 Hollywood, director Leo Andreyev  look...   \n",
       "35102018  American Luthier focuses on Randy Parsons’ tra...   \n",
       "8628195   Abdur Rehman Khan , a middle-aged dry fruit se...   \n",
       "6040782   1940 - Operation Dynamo has just taken place. ...   \n",
       "\n",
       "                                                      clean  \\\n",
       "wiki_id                                                       \n",
       "23890098  Shlykov, a hard-working taxi driver and Lyosha...   \n",
       "31186339  The nation of Panem consists of a wealthy Capi...   \n",
       "20663735  Poovalli Induchoodan is sentenced for six year...   \n",
       "2231378   The Lemon Drop Kid, a New York City swindler, ...   \n",
       "595909    Seventh-day Adventist Church pastor Michael Ch...   \n",
       "...                                                     ...   \n",
       "2867597   An attempt to bring the famed clay characters ...   \n",
       "1096473   In 1928 Hollywood, director Leo Andreyev looks...   \n",
       "35102018  American Luthier focuses on Randy transformati...   \n",
       "8628195   Abdur Rehman Khan, a middle-aged dry fruit sel...   \n",
       "6040782   1940 - Operation Dynamo has just taken place. ...   \n",
       "\n",
       "                                     genres2  \n",
       "wiki_id                                       \n",
       "23890098                             [Drama]  \n",
       "31186339  [Action, Adventure, Drama, Sci-Fi]  \n",
       "20663735                     [Action, Drama]  \n",
       "2231378                             [Comedy]  \n",
       "595909                        [Crime, Drama]  \n",
       "...                                      ...  \n",
       "2867597                             [Comedy]  \n",
       "1096473                         [Drama, War]  \n",
       "35102018                                  []  \n",
       "8628195                              [Drama]  \n",
       "6040782                             [Comedy]  \n",
       "\n",
       "[39086 rows x 7 columns]"
      ]
     },
     "execution_count": 16,
     "metadata": {},
     "output_type": "execute_result"
    }
   ],
   "source": [
    "df = remove_labels(df, to_remove)\n",
    "df"
   ]
  },
  {
   "cell_type": "code",
   "execution_count": 17,
   "metadata": {},
   "outputs": [],
   "source": [
    "# from collections import Counter\n",
    "# Counter([len(_) for _ in df['genres2']])"
   ]
  },
  {
   "cell_type": "markdown",
   "metadata": {},
   "source": [
    "### Binarizing labels for multi-label classification with Autokeras' TextClassifier model. It appears to be the simplest method that provided good f1 micro scores. Also, it does not require a heavy cleaning of the input such as stemming.\n",
    "\n",
    "### Other models could include Bidirectional LSTM layers, or RoBERTa transformer model. Also one could fine-tune a pretrained model that calculates a semantic similarity between texts on pairs (synopsis, genres)."
   ]
  },
  {
   "cell_type": "code",
   "execution_count": 18,
   "metadata": {},
   "outputs": [
    {
     "data": {
      "text/plain": [
       "(array(['Action', 'Adventure', 'Animation', 'Comedy', 'Crime', 'Drama',\n",
       "        'Family', 'Fantasy', 'Horror', 'Romance', 'Sci-Fi', 'Thriller',\n",
       "        'War', 'Western'], dtype=object),\n",
       " (39086, 14))"
      ]
     },
     "execution_count": 18,
     "metadata": {},
     "output_type": "execute_result"
    }
   ],
   "source": [
    "mlb = MultiLabelBinarizer()\n",
    "labels = mlb.fit_transform(df['genres2'])\n",
    "classes = mlb.classes_\n",
    "\n",
    "classes, labels.shape"
   ]
  },
  {
   "cell_type": "code",
   "execution_count": 19,
   "metadata": {},
   "outputs": [],
   "source": [
    "# mlb.transform([df['genres'].iloc[1]])"
   ]
  },
  {
   "cell_type": "code",
   "execution_count": 20,
   "metadata": {
    "scrolled": true,
    "tags": []
   },
   "outputs": [
    {
     "name": "stderr",
     "output_type": "stream",
     "text": [
      "/home/ivv101/miniconda3/envs/p310/lib/python3.10/site-packages/sklearn/preprocessing/_label.py:895: UserWarning: unknown class(es) ['Musical'] will be ignored\n",
      "  warnings.warn(\n",
      "/home/ivv101/miniconda3/envs/p310/lib/python3.10/site-packages/sklearn/preprocessing/_label.py:895: UserWarning: unknown class(es) ['Mystery'] will be ignored\n",
      "  warnings.warn(\n",
      "/home/ivv101/miniconda3/envs/p310/lib/python3.10/site-packages/sklearn/preprocessing/_label.py:895: UserWarning: unknown class(es) ['History'] will be ignored\n",
      "  warnings.warn(\n",
      "/home/ivv101/miniconda3/envs/p310/lib/python3.10/site-packages/sklearn/preprocessing/_label.py:895: UserWarning: unknown class(es) ['Biography'] will be ignored\n",
      "  warnings.warn(\n",
      "/home/ivv101/miniconda3/envs/p310/lib/python3.10/site-packages/sklearn/preprocessing/_label.py:895: UserWarning: unknown class(es) ['Sport'] will be ignored\n",
      "  warnings.warn(\n",
      "/home/ivv101/miniconda3/envs/p310/lib/python3.10/site-packages/sklearn/preprocessing/_label.py:895: UserWarning: unknown class(es) ['Music'] will be ignored\n",
      "  warnings.warn(\n",
      "/home/ivv101/miniconda3/envs/p310/lib/python3.10/site-packages/sklearn/preprocessing/_label.py:895: UserWarning: unknown class(es) ['Biography', 'History'] will be ignored\n",
      "  warnings.warn(\n",
      "/home/ivv101/miniconda3/envs/p310/lib/python3.10/site-packages/sklearn/preprocessing/_label.py:895: UserWarning: unknown class(es) ['Musical', 'Mystery'] will be ignored\n",
      "  warnings.warn(\n",
      "/home/ivv101/miniconda3/envs/p310/lib/python3.10/site-packages/sklearn/preprocessing/_label.py:895: UserWarning: unknown class(es) ['Film-Noir'] will be ignored\n",
      "  warnings.warn(\n",
      "/home/ivv101/miniconda3/envs/p310/lib/python3.10/site-packages/sklearn/preprocessing/_label.py:895: UserWarning: unknown class(es) ['Film-Noir', 'Mystery'] will be ignored\n",
      "  warnings.warn(\n",
      "/home/ivv101/miniconda3/envs/p310/lib/python3.10/site-packages/sklearn/preprocessing/_label.py:895: UserWarning: unknown class(es) ['History', 'Musical'] will be ignored\n",
      "  warnings.warn(\n",
      "/home/ivv101/miniconda3/envs/p310/lib/python3.10/site-packages/sklearn/preprocessing/_label.py:895: UserWarning: unknown class(es) ['History', 'Music'] will be ignored\n",
      "  warnings.warn(\n",
      "/home/ivv101/miniconda3/envs/p310/lib/python3.10/site-packages/sklearn/preprocessing/_label.py:895: UserWarning: unknown class(es) ['Biography', 'Sport'] will be ignored\n",
      "  warnings.warn(\n",
      "/home/ivv101/miniconda3/envs/p310/lib/python3.10/site-packages/sklearn/preprocessing/_label.py:895: UserWarning: unknown class(es) ['Music', 'Musical'] will be ignored\n",
      "  warnings.warn(\n",
      "/home/ivv101/miniconda3/envs/p310/lib/python3.10/site-packages/sklearn/preprocessing/_label.py:895: UserWarning: unknown class(es) ['Biography', 'Mystery'] will be ignored\n",
      "  warnings.warn(\n",
      "/home/ivv101/miniconda3/envs/p310/lib/python3.10/site-packages/sklearn/preprocessing/_label.py:895: UserWarning: unknown class(es) ['History', 'Mystery'] will be ignored\n",
      "  warnings.warn(\n",
      "/home/ivv101/miniconda3/envs/p310/lib/python3.10/site-packages/sklearn/preprocessing/_label.py:895: UserWarning: unknown class(es) ['Biography', 'Music'] will be ignored\n",
      "  warnings.warn(\n",
      "/home/ivv101/miniconda3/envs/p310/lib/python3.10/site-packages/sklearn/preprocessing/_label.py:895: UserWarning: unknown class(es) ['Biography', 'Musical'] will be ignored\n",
      "  warnings.warn(\n",
      "/home/ivv101/miniconda3/envs/p310/lib/python3.10/site-packages/sklearn/preprocessing/_label.py:895: UserWarning: unknown class(es) ['Biography', 'Music', 'Musical'] will be ignored\n",
      "  warnings.warn(\n",
      "/home/ivv101/miniconda3/envs/p310/lib/python3.10/site-packages/sklearn/preprocessing/_label.py:895: UserWarning: unknown class(es) ['Film-Noir', 'Sport'] will be ignored\n",
      "  warnings.warn(\n",
      "/home/ivv101/miniconda3/envs/p310/lib/python3.10/site-packages/sklearn/preprocessing/_label.py:895: UserWarning: unknown class(es) ['Musical', 'Sport'] will be ignored\n",
      "  warnings.warn(\n",
      "/home/ivv101/miniconda3/envs/p310/lib/python3.10/site-packages/sklearn/preprocessing/_label.py:895: UserWarning: unknown class(es) ['History', 'Music', 'Musical'] will be ignored\n",
      "  warnings.warn(\n",
      "/home/ivv101/miniconda3/envs/p310/lib/python3.10/site-packages/sklearn/preprocessing/_label.py:895: UserWarning: unknown class(es) ['History', 'Sport'] will be ignored\n",
      "  warnings.warn(\n",
      "/home/ivv101/miniconda3/envs/p310/lib/python3.10/site-packages/sklearn/preprocessing/_label.py:895: UserWarning: unknown class(es) ['Biography', 'History', 'Musical'] will be ignored\n",
      "  warnings.warn(\n",
      "/home/ivv101/miniconda3/envs/p310/lib/python3.10/site-packages/sklearn/preprocessing/_label.py:895: UserWarning: unknown class(es) ['Mystery', 'Sport'] will be ignored\n",
      "  warnings.warn(\n",
      "/home/ivv101/miniconda3/envs/p310/lib/python3.10/site-packages/sklearn/preprocessing/_label.py:895: UserWarning: unknown class(es) ['Music', 'Mystery'] will be ignored\n",
      "  warnings.warn(\n",
      "/home/ivv101/miniconda3/envs/p310/lib/python3.10/site-packages/sklearn/preprocessing/_label.py:895: UserWarning: unknown class(es) ['Film-Noir', 'Music'] will be ignored\n",
      "  warnings.warn(\n",
      "/home/ivv101/miniconda3/envs/p310/lib/python3.10/site-packages/sklearn/preprocessing/_label.py:895: UserWarning: unknown class(es) ['Biography', 'History', 'Music'] will be ignored\n",
      "  warnings.warn(\n",
      "/home/ivv101/miniconda3/envs/p310/lib/python3.10/site-packages/sklearn/preprocessing/_label.py:895: UserWarning: unknown class(es) ['Film-Noir', 'History', 'Mystery'] will be ignored\n",
      "  warnings.warn(\n",
      "/home/ivv101/miniconda3/envs/p310/lib/python3.10/site-packages/sklearn/preprocessing/_label.py:895: UserWarning: unknown class(es) ['Music', 'Sport'] will be ignored\n",
      "  warnings.warn(\n",
      "/home/ivv101/miniconda3/envs/p310/lib/python3.10/site-packages/sklearn/preprocessing/_label.py:895: UserWarning: unknown class(es) ['Biography', 'History', 'Mystery'] will be ignored\n",
      "  warnings.warn(\n",
      "/home/ivv101/miniconda3/envs/p310/lib/python3.10/site-packages/sklearn/preprocessing/_label.py:895: UserWarning: unknown class(es) ['Film-Noir', 'Musical'] will be ignored\n",
      "  warnings.warn(\n",
      "/home/ivv101/miniconda3/envs/p310/lib/python3.10/site-packages/sklearn/preprocessing/_label.py:895: UserWarning: unknown class(es) ['Biography', 'History', 'Sport'] will be ignored\n",
      "  warnings.warn(\n",
      "/home/ivv101/miniconda3/envs/p310/lib/python3.10/site-packages/sklearn/preprocessing/_label.py:895: UserWarning: unknown class(es) ['Film-Noir', 'Musical', 'Mystery'] will be ignored\n",
      "  warnings.warn(\n",
      "/home/ivv101/miniconda3/envs/p310/lib/python3.10/site-packages/sklearn/preprocessing/_label.py:895: UserWarning: unknown class(es) ['Film-Noir', 'Music', 'Musical'] will be ignored\n",
      "  warnings.warn(\n",
      "/home/ivv101/miniconda3/envs/p310/lib/python3.10/site-packages/sklearn/preprocessing/_label.py:895: UserWarning: unknown class(es) ['Biography', 'Film-Noir', 'Mystery'] will be ignored\n",
      "  warnings.warn(\n",
      "/home/ivv101/miniconda3/envs/p310/lib/python3.10/site-packages/sklearn/preprocessing/_label.py:895: UserWarning: unknown class(es) ['Music', 'Musical', 'Mystery'] will be ignored\n",
      "  warnings.warn(\n",
      "/home/ivv101/miniconda3/envs/p310/lib/python3.10/site-packages/sklearn/preprocessing/_label.py:895: UserWarning: unknown class(es) ['History', 'Music', 'Sport'] will be ignored\n",
      "  warnings.warn(\n",
      "/home/ivv101/miniconda3/envs/p310/lib/python3.10/site-packages/sklearn/preprocessing/_label.py:895: UserWarning: unknown class(es) ['Biography', 'Film-Noir'] will be ignored\n",
      "  warnings.warn(\n",
      "/home/ivv101/miniconda3/envs/p310/lib/python3.10/site-packages/sklearn/preprocessing/_label.py:895: UserWarning: unknown class(es) ['Film-Noir', 'Music', 'Mystery'] will be ignored\n",
      "  warnings.warn(\n",
      "/home/ivv101/miniconda3/envs/p310/lib/python3.10/site-packages/sklearn/preprocessing/_label.py:895: UserWarning: unknown class(es) ['Film-Noir', 'Mystery', 'Sport'] will be ignored\n",
      "  warnings.warn(\n",
      "/home/ivv101/miniconda3/envs/p310/lib/python3.10/site-packages/sklearn/preprocessing/_label.py:895: UserWarning: unknown class(es) ['Biography', 'Film-Noir', 'Sport'] will be ignored\n",
      "  warnings.warn(\n"
     ]
    }
   ],
   "source": [
    "# all zeros for no genres \n",
    "\n",
    "df['labels'] = df['genres'].map(lambda x : mlb.transform([x])[0])"
   ]
  },
  {
   "cell_type": "code",
   "execution_count": null,
   "metadata": {},
   "outputs": [],
   "source": []
  },
  {
   "cell_type": "code",
   "execution_count": null,
   "metadata": {},
   "outputs": [],
   "source": []
  },
  {
   "cell_type": "code",
   "execution_count": 21,
   "metadata": {},
   "outputs": [
    {
     "name": "stderr",
     "output_type": "stream",
     "text": [
      "2023-02-02 17:08:09.409796: I tensorflow/compiler/xla/stream_executor/cuda/cuda_gpu_executor.cc:981] successful NUMA node read from SysFS had negative value (-1), but there must be at least one NUMA node, so returning NUMA node zero\n",
      "2023-02-02 17:08:09.414229: I tensorflow/compiler/xla/stream_executor/cuda/cuda_gpu_executor.cc:981] successful NUMA node read from SysFS had negative value (-1), but there must be at least one NUMA node, so returning NUMA node zero\n",
      "2023-02-02 17:08:09.414374: I tensorflow/compiler/xla/stream_executor/cuda/cuda_gpu_executor.cc:981] successful NUMA node read from SysFS had negative value (-1), but there must be at least one NUMA node, so returning NUMA node zero\n",
      "2023-02-02 17:08:09.414857: I tensorflow/core/platform/cpu_feature_guard.cc:193] This TensorFlow binary is optimized with oneAPI Deep Neural Network Library (oneDNN) to use the following CPU instructions in performance-critical operations:  AVX2 FMA\n",
      "To enable them in other operations, rebuild TensorFlow with the appropriate compiler flags.\n",
      "2023-02-02 17:08:09.415694: I tensorflow/compiler/xla/stream_executor/cuda/cuda_gpu_executor.cc:981] successful NUMA node read from SysFS had negative value (-1), but there must be at least one NUMA node, so returning NUMA node zero\n",
      "2023-02-02 17:08:09.415843: I tensorflow/compiler/xla/stream_executor/cuda/cuda_gpu_executor.cc:981] successful NUMA node read from SysFS had negative value (-1), but there must be at least one NUMA node, so returning NUMA node zero\n",
      "2023-02-02 17:08:09.415972: I tensorflow/compiler/xla/stream_executor/cuda/cuda_gpu_executor.cc:981] successful NUMA node read from SysFS had negative value (-1), but there must be at least one NUMA node, so returning NUMA node zero\n",
      "2023-02-02 17:08:09.817074: I tensorflow/compiler/xla/stream_executor/cuda/cuda_gpu_executor.cc:981] successful NUMA node read from SysFS had negative value (-1), but there must be at least one NUMA node, so returning NUMA node zero\n",
      "2023-02-02 17:08:09.817269: I tensorflow/compiler/xla/stream_executor/cuda/cuda_gpu_executor.cc:981] successful NUMA node read from SysFS had negative value (-1), but there must be at least one NUMA node, so returning NUMA node zero\n",
      "2023-02-02 17:08:09.817394: I tensorflow/compiler/xla/stream_executor/cuda/cuda_gpu_executor.cc:981] successful NUMA node read from SysFS had negative value (-1), but there must be at least one NUMA node, so returning NUMA node zero\n",
      "2023-02-02 17:08:09.817486: I tensorflow/core/common_runtime/gpu/gpu_device.cc:1613] Created device /job:localhost/replica:0/task:0/device:GPU:0 with 22264 MB memory:  -> device: 0, name: NVIDIA GeForce RTX 3090 Ti, pci bus id: 0000:01:00.0, compute capability: 8.6\n"
     ]
    }
   ],
   "source": [
    "text_input = df['clean'].to_numpy()\n",
    "\n",
    "x_train, x_test, y_train, y_test = train_test_split(text_input, labels, test_size=0.2, random_state=SEED)\n",
    "\n",
    "train_dataset = tf.data.Dataset.from_tensor_slices((x_train, y_train)).batch(32)"
   ]
  },
  {
   "cell_type": "code",
   "execution_count": 22,
   "metadata": {},
   "outputs": [],
   "source": [
    "METRICS = [\n",
    "    keras.metrics.CategoricalAccuracy(name='accuracy'),\n",
    "    keras.metrics.Precision(name='precision'),\n",
    "    keras.metrics.Recall(name='recall'),\n",
    "]"
   ]
  },
  {
   "cell_type": "code",
   "execution_count": 23,
   "metadata": {},
   "outputs": [],
   "source": [
    "from transformers import AutoTokenizer\n",
    "from transformers import TFAutoModelForSequenceClassification\n",
    "\n",
    "model_checkpoint = 'distilbert-base-uncased'\n",
    "num_labels = len(classes)\n",
    "\n",
    "tokenizer = AutoTokenizer.from_pretrained(model_checkpoint)"
   ]
  },
  {
   "cell_type": "code",
   "execution_count": 24,
   "metadata": {},
   "outputs": [],
   "source": [
    "x_train_tok = tokenizer(x_train.tolist(), truncation=True)   "
   ]
  },
  {
   "cell_type": "code",
   "execution_count": 25,
   "metadata": {},
   "outputs": [
    {
     "name": "stderr",
     "output_type": "stream",
     "text": [
      "2023-02-02 17:08:16.354792: I tensorflow/compiler/xla/stream_executor/cuda/cuda_blas.cc:630] TensorFloat-32 will be used for the matrix multiplication. This will only be logged once.\n",
      "Some layers from the model checkpoint at distilbert-base-uncased were not used when initializing TFDistilBertForSequenceClassification: ['vocab_transform', 'activation_13', 'vocab_layer_norm', 'vocab_projector']\n",
      "- This IS expected if you are initializing TFDistilBertForSequenceClassification from the checkpoint of a model trained on another task or with another architecture (e.g. initializing a BertForSequenceClassification model from a BertForPreTraining model).\n",
      "- This IS NOT expected if you are initializing TFDistilBertForSequenceClassification from the checkpoint of a model that you expect to be exactly identical (initializing a BertForSequenceClassification model from a BertForSequenceClassification model).\n",
      "Some layers of TFDistilBertForSequenceClassification were not initialized from the model checkpoint at distilbert-base-uncased and are newly initialized: ['pre_classifier', 'dropout_19', 'classifier']\n",
      "You should probably TRAIN this model on a down-stream task to be able to use it for predictions and inference.\n"
     ]
    }
   ],
   "source": [
    "model = TFAutoModelForSequenceClassification.from_pretrained(\n",
    "    model_checkpoint, num_labels=num_labels#, id2label=id2label, label2id=label2id\n",
    ")"
   ]
  },
  {
   "cell_type": "code",
   "execution_count": 27,
   "metadata": {},
   "outputs": [],
   "source": [
    "model.compile(optimizer='adam', loss=tf.keras.losses.BinaryCrossentropy(from_logits=False), metrics=METRICS)"
   ]
  },
  {
   "cell_type": "code",
   "execution_count": null,
   "metadata": {},
   "outputs": [],
   "source": [
    "%%time\n",
    "\n",
    "hist = model.fit(\n",
    "    x_train_tok, y_train,\n",
    "    epochs=1, \n",
    "    batch_size=32, \n",
    "    # validation_data=(padded_docs_test, y_test),\n",
    "    # verbose=1,\n",
    "    validation_split=0.2\n",
    ")"
   ]
  },
  {
   "cell_type": "code",
   "execution_count": 31,
   "metadata": {},
   "outputs": [],
   "source": [
    "# x_train_tok.data"
   ]
  },
  {
   "cell_type": "code",
   "execution_count": null,
   "metadata": {},
   "outputs": [],
   "source": []
  },
  {
   "cell_type": "code",
   "execution_count": null,
   "metadata": {},
   "outputs": [],
   "source": []
  },
  {
   "cell_type": "code",
   "execution_count": 34,
   "metadata": {},
   "outputs": [
    {
     "name": "stdout",
     "output_type": "stream",
     "text": [
      "4.26.0\n"
     ]
    }
   ],
   "source": [
    "import transformers\n",
    "\n",
    "from transformers import TFAutoModelForSequenceClassification\n",
    "import tensorflow as tf\n",
    "from datasets import Dataset\n",
    "\n",
    "print(transformers.__version__)"
   ]
  },
  {
   "cell_type": "code",
   "execution_count": 35,
   "metadata": {},
   "outputs": [],
   "source": [
    "model_checkpoint = \"distilbert-base-uncased\"\n",
    "batch_size = 32\n",
    "\n",
    "num_labels = len(classes)"
   ]
  },
  {
   "cell_type": "code",
   "execution_count": 36,
   "metadata": {},
   "outputs": [],
   "source": [
    "tokenizer = AutoTokenizer.from_pretrained(model_checkpoint)"
   ]
  },
  {
   "cell_type": "code",
   "execution_count": 50,
   "metadata": {},
   "outputs": [],
   "source": [
    "df_train, df_test = train_test_split(df[['clean', 'labels']], test_size=0.2, random_state=SEED)\n",
    "\n",
    "ds_train = Dataset.from_pandas(df_train)\n",
    "ds_test = Dataset.from_pandas(df_test)"
   ]
  },
  {
   "cell_type": "code",
   "execution_count": 52,
   "metadata": {},
   "outputs": [],
   "source": [
    "def preprocess_function(x):\n",
    "    \n",
    "        return tokenizer(x['clean'], truncation=True)    "
   ]
  },
  {
   "cell_type": "code",
   "execution_count": 56,
   "metadata": {},
   "outputs": [
    {
     "data": {
      "application/vnd.jupyter.widget-view+json": {
       "model_id": "c216902bacd147198556e9c6d1aaf89c",
       "version_major": 2,
       "version_minor": 0
      },
      "text/plain": [
       "  0%|          | 0/32 [00:00<?, ?ba/s]"
      ]
     },
     "metadata": {},
     "output_type": "display_data"
    },
    {
     "data": {
      "application/vnd.jupyter.widget-view+json": {
       "model_id": "73513cc68d0545f090714f08e65567bd",
       "version_major": 2,
       "version_minor": 0
      },
      "text/plain": [
       "  0%|          | 0/8 [00:00<?, ?ba/s]"
      ]
     },
     "metadata": {},
     "output_type": "display_data"
    }
   ],
   "source": [
    "encoded_ds_train = ds_train.map(preprocess_function, batched=True)\n",
    "encoded_ds_test = ds_test.map(preprocess_function, batched=True)"
   ]
  },
  {
   "cell_type": "code",
   "execution_count": 70,
   "metadata": {},
   "outputs": [
    {
     "data": {
      "text/plain": [
       "Dataset({\n",
       "    features: ['clean', 'labels', 'wiki_id', 'input_ids', 'attention_mask'],\n",
       "    num_rows: 31268\n",
       "})"
      ]
     },
     "execution_count": 70,
     "metadata": {},
     "output_type": "execute_result"
    }
   ],
   "source": [
    "encoded_ds_train"
   ]
  },
  {
   "cell_type": "code",
   "execution_count": 54,
   "metadata": {},
   "outputs": [
    {
     "name": "stderr",
     "output_type": "stream",
     "text": [
      "Some layers from the model checkpoint at distilbert-base-uncased were not used when initializing TFDistilBertForSequenceClassification: ['activation_13', 'vocab_layer_norm', 'vocab_projector', 'vocab_transform']\n",
      "- This IS expected if you are initializing TFDistilBertForSequenceClassification from the checkpoint of a model trained on another task or with another architecture (e.g. initializing a BertForSequenceClassification model from a BertForPreTraining model).\n",
      "- This IS NOT expected if you are initializing TFDistilBertForSequenceClassification from the checkpoint of a model that you expect to be exactly identical (initializing a BertForSequenceClassification model from a BertForSequenceClassification model).\n",
      "Some layers of TFDistilBertForSequenceClassification were not initialized from the model checkpoint at distilbert-base-uncased and are newly initialized: ['pre_classifier', 'classifier', 'dropout_39']\n",
      "You should probably TRAIN this model on a down-stream task to be able to use it for predictions and inference.\n"
     ]
    }
   ],
   "source": [
    "# # This next little bit is optional, but will give us cleaner label outputs later\n",
    "# # If you're using a task other than CoLA, you will probably need to change these\n",
    "# # to match the label names for your task!\n",
    "# id2label = {0: \"Invalid\", 1: \"Valid\"}\n",
    "# label2id = {val: key for key, val in id2label.items()}\n",
    "\n",
    "model = TFAutoModelForSequenceClassification.from_pretrained(\n",
    "    model_checkpoint, num_labels=num_labels#, id2label=id2label, label2id=label2id\n",
    ")"
   ]
  },
  {
   "cell_type": "code",
   "execution_count": 1,
   "metadata": {},
   "outputs": [
    {
     "name": "stdout",
     "output_type": "stream",
     "text": [
      "Object `TFAutoModelForSequenceClassification.from_pretrained` not found.\n"
     ]
    }
   ],
   "source": [
    "TFAutoModelForSequenceClassification.from_pretrained?"
   ]
  },
  {
   "cell_type": "code",
   "execution_count": 69,
   "metadata": {},
   "outputs": [
    {
     "data": {
      "text/plain": [
       "Dataset({\n",
       "    features: ['clean', 'labels', 'wiki_id', 'input_ids', 'attention_mask'],\n",
       "    num_rows: 31268\n",
       "})"
      ]
     },
     "execution_count": 69,
     "metadata": {},
     "output_type": "execute_result"
    }
   ],
   "source": [
    "encoded_ds_train[['']]"
   ]
  },
  {
   "cell_type": "code",
   "execution_count": 57,
   "metadata": {},
   "outputs": [
    {
     "name": "stderr",
     "output_type": "stream",
     "text": [
      "You're using a DistilBertTokenizerFast tokenizer. Please note that with a fast tokenizer, using the `__call__` method is faster than using a method to encode the text followed by a call to the `pad` method to get a padded encoding.\n"
     ]
    }
   ],
   "source": [
    "tf_train_dataset = model.prepare_tf_dataset(\n",
    "    encoded_ds_train,\n",
    "    shuffle=True,\n",
    "    batch_size=16,\n",
    "    tokenizer=tokenizer\n",
    ")\n",
    "\n",
    "tf_test_dataset = model.prepare_tf_dataset(\n",
    "    encoded_ds_test,\n",
    "    shuffle=False,\n",
    "    batch_size=16,\n",
    "    tokenizer=tokenizer,\n",
    ")"
   ]
  },
  {
   "cell_type": "code",
   "execution_count": 58,
   "metadata": {},
   "outputs": [
    {
     "name": "stderr",
     "output_type": "stream",
     "text": [
      "No loss specified in compile() - the model's internal loss computation will be used as the loss. Don't panic - this is a common way to train TensorFlow models in Transformers! To disable this behaviour please pass a loss argument, or explicitly pass `loss=None` if you do not want your model to compute a loss.\n"
     ]
    }
   ],
   "source": [
    "from transformers import create_optimizer\n",
    "\n",
    "num_epochs = 3\n",
    "batches_per_epoch = len(encoded_ds_train) // batch_size\n",
    "total_train_steps = int(batches_per_epoch * num_epochs)\n",
    "\n",
    "optimizer, schedule = create_optimizer(\n",
    "    init_lr=2e-5, num_warmup_steps=0, num_train_steps=total_train_steps\n",
    ")\n",
    "model.compile(optimizer=optimizer)"
   ]
  },
  {
   "cell_type": "code",
   "execution_count": null,
   "metadata": {},
   "outputs": [],
   "source": [
    "from transformers.keras_callbacks import KerasMetricCallback\n",
    "\n",
    "def compute_metrics(eval_predictions):\n",
    "    predictions, labels = eval_predictions\n",
    "    if task != \"stsb\":\n",
    "        predictions = np.argmax(predictions, axis=1)\n",
    "    else:\n",
    "        predictions = predictions[:, 0]\n",
    "    return metric.compute(predictions=predictions, references=labels)\n",
    "\n",
    "\n",
    "metric_callback = KerasMetricCallback(\n",
    "    metric_fn=compute_metrics, eval_dataset=tf_validation_dataset\n",
    ")"
   ]
  },
  {
   "cell_type": "code",
   "execution_count": 68,
   "metadata": {},
   "outputs": [
    {
     "data": {
      "text/plain": [
       "<tf.Tensor: shape=(), dtype=int64, numpy=1954>"
      ]
     },
     "execution_count": 68,
     "metadata": {},
     "output_type": "execute_result"
    }
   ],
   "source": [
    "tf_train_dataset.cardinality()"
   ]
  },
  {
   "cell_type": "code",
   "execution_count": null,
   "metadata": {},
   "outputs": [],
   "source": [
    "%%time\n",
    "\n",
    "# from transformers.keras_callbacks import PushToHubCallback\n",
    "# from tensorflow.keras.callbacks import TensorBoard\n",
    "\n",
    "model_name = model_checkpoint.split(\"/\")[-1]\n",
    "# push_to_hub_model_id = f\"{model_name}-finetuned-{task}\"\n",
    "\n",
    "# tensorboard_callback = TensorBoard(log_dir=\"./text_classification_model_save/logs\")\n",
    "\n",
    "# push_to_hub_callback = PushToHubCallback(\n",
    "#     output_dir=\"./text_classification_model_save\",\n",
    "#     tokenizer=tokenizer,\n",
    "#     hub_model_id=push_to_hub_model_id,\n",
    "# )\n",
    "\n",
    "# callbacks = [metric_callback, tensorboard_callback, push_to_hub_callback]\n",
    "\n",
    "model.fit(\n",
    "    tf_train_dataset,\n",
    "    # validation_split=0.2,\n",
    "    validation_data=tf_test_dataset,\n",
    "    epochs=num_epochs\n",
    "    # callbacks=callbacks,\n",
    ")"
   ]
  },
  {
   "cell_type": "code",
   "execution_count": 63,
   "metadata": {},
   "outputs": [
    {
     "data": {
      "text/plain": [
       "<PrefetchDataset element_spec=({'input_ids': TensorSpec(shape=(16, None), dtype=tf.int64, name=None), 'attention_mask': TensorSpec(shape=(16, None), dtype=tf.int64, name=None)}, TensorSpec(shape=(16, 14), dtype=tf.int64, name=None))>"
      ]
     },
     "execution_count": 63,
     "metadata": {},
     "output_type": "execute_result"
    }
   ],
   "source": [
    "tf_train_dataset"
   ]
  },
  {
   "cell_type": "code",
   "execution_count": null,
   "metadata": {},
   "outputs": [],
   "source": [
    "# pre_tokenizer_columns = set(dataset[\"train\"].features)\n",
    "# encoded_dataset = dataset.map(preprocess_function, batched=True)\n",
    "# tokenizer_columns = list(set(encoded_dataset[\"train\"].features) - pre_tokenizer_columns)\n",
    "# print(\"Columns added by tokenizer:\", tokenizer_columns)"
   ]
  },
  {
   "cell_type": "code",
   "execution_count": 33,
   "metadata": {},
   "outputs": [],
   "source": [
    "# model.fit?"
   ]
  },
  {
   "cell_type": "code",
   "execution_count": 25,
   "metadata": {},
   "outputs": [
    {
     "data": {
      "text/plain": [
       "{'input_ids': [[101, 7592, 1010, 2023, 2003, 1037, 6251, 999, 102], [101, 1998, 2023, 6251, 3632, 2007, 2009, 1012, 1040, 10343, 16409, 16526, 102]], 'attention_mask': [[1, 1, 1, 1, 1, 1, 1, 1, 1], [1, 1, 1, 1, 1, 1, 1, 1, 1, 1, 1, 1, 1]]}"
      ]
     },
     "execution_count": 25,
     "metadata": {},
     "output_type": "execute_result"
    }
   ],
   "source": [
    "# tokenizer([\"Hello, this is a sentence!\", \"And this sentence goes with it.dfsdcwc\"])"
   ]
  },
  {
   "cell_type": "code",
   "execution_count": 26,
   "metadata": {},
   "outputs": [],
   "source": []
  },
  {
   "cell_type": "code",
   "execution_count": null,
   "metadata": {},
   "outputs": [],
   "source": [
    "from transformers import create_optimizer\n",
    "\n",
    "num_epochs = 3\n",
    "batches_per_epoch = len(encoded_dataset[\"train\"]) // batch_size\n",
    "total_train_steps = int(batches_per_epoch * num_epochs)\n",
    "\n",
    "optimizer, schedule = create_optimizer(\n",
    "    init_lr=2e-5, num_warmup_steps=0, num_train_steps=total_train_steps\n",
    ")\n",
    "model.compile(optimizer=optimizer)"
   ]
  },
  {
   "cell_type": "code",
   "execution_count": null,
   "metadata": {},
   "outputs": [],
   "source": []
  },
  {
   "cell_type": "code",
   "execution_count": null,
   "metadata": {},
   "outputs": [],
   "source": [
    "tf_train_dataset = model.prepare_tf_dataset(\n",
    "    encoded_dataset[\"train\"],\n",
    "    shuffle=True,\n",
    "    batch_size=16,\n",
    "    tokenizer=tokenizer\n",
    ")"
   ]
  },
  {
   "cell_type": "code",
   "execution_count": null,
   "metadata": {},
   "outputs": [],
   "source": []
  },
  {
   "cell_type": "code",
   "execution_count": null,
   "metadata": {},
   "outputs": [],
   "source": []
  },
  {
   "cell_type": "code",
   "execution_count": null,
   "metadata": {},
   "outputs": [],
   "source": []
  },
  {
   "cell_type": "code",
   "execution_count": null,
   "metadata": {},
   "outputs": [],
   "source": []
  },
  {
   "cell_type": "code",
   "execution_count": null,
   "metadata": {},
   "outputs": [],
   "source": []
  },
  {
   "cell_type": "code",
   "execution_count": null,
   "metadata": {},
   "outputs": [],
   "source": []
  },
  {
   "cell_type": "code",
   "execution_count": null,
   "metadata": {},
   "outputs": [],
   "source": []
  },
  {
   "cell_type": "code",
   "execution_count": null,
   "metadata": {},
   "outputs": [],
   "source": []
  },
  {
   "cell_type": "code",
   "execution_count": null,
   "metadata": {},
   "outputs": [],
   "source": []
  },
  {
   "cell_type": "code",
   "execution_count": 13,
   "metadata": {},
   "outputs": [
    {
     "name": "stdout",
     "output_type": "stream",
     "text": [
      "CPU times: user 541 ms, sys: 750 ms, total: 1.29 s\n",
      "Wall time: 1.29 s\n"
     ]
    }
   ],
   "source": [
    "%time xt = np.array([[_] for _ in x_train])"
   ]
  },
  {
   "cell_type": "code",
   "execution_count": 14,
   "metadata": {},
   "outputs": [
    {
     "name": "stdout",
     "output_type": "stream",
     "text": [
      "CPU times: user 4.23 s, sys: 152 ms, total: 4.38 s\n",
      "Wall time: 3.97 s\n"
     ]
    }
   ],
   "source": [
    "%%time\n",
    "\n",
    "inp_dataset = tf.data.Dataset.from_tensor_slices(x_train)\n",
    "\n",
    "vectorize_layer = keras.layers.TextVectorization(\n",
    "    max_tokens=5000,\n",
    "    output_sequence_length=512\n",
    ")\n",
    "\n",
    "vectorize_layer.adapt(inp_dataset.batch(64))"
   ]
  },
  {
   "cell_type": "code",
   "execution_count": 15,
   "metadata": {},
   "outputs": [],
   "source": [
    "# kernel_initializer=tf.keras.initializers.RandomUniform()"
   ]
  },
  {
   "cell_type": "code",
   "execution_count": 34,
   "metadata": {},
   "outputs": [],
   "source": [
    "# ak.BertBlock??"
   ]
  },
  {
   "cell_type": "code",
   "execution_count": 16,
   "metadata": {},
   "outputs": [],
   "source": [
    "# keras.layers.GlobalMaxPooling1D?"
   ]
  },
  {
   "cell_type": "code",
   "execution_count": 47,
   "metadata": {},
   "outputs": [],
   "source": [
    "inputs = keras.layers.Input(\n",
    "    shape=(1,), \n",
    "    dtype=tf.string\n",
    ")\n",
    "\n",
    "x = inputs\n",
    "\n",
    "x = vectorize_layer(x)\n",
    "\n",
    "x = keras.layers.Embedding(\n",
    "    5001, \n",
    "    64, \n",
    "    embeddings_initializer=tf.keras.initializers.RandomUniform()\n",
    ")(x)\n",
    "\n",
    "x = keras.layers.Dropout(0.25)(x)\n",
    "\n",
    "x = keras.layers.Conv1D(\n",
    "    filters=256,\n",
    "    kernel_size=5,\n",
    "    strides=1,\n",
    "    activation='relu'\n",
    ")(x)\n",
    "\n",
    "x = keras.layers.GlobalMaxPooling1D()(x)\n",
    "\n",
    "x = keras.layers.Dense(\n",
    "    units=256,\n",
    "    activation='relu'\n",
    ")(x)\n",
    "\n",
    "x = keras.layers.Dropout(0.5)(x)\n",
    "\n",
    "x = keras.layers.Dense(\n",
    "    units=14,\n",
    "    activation='sigmoid'\n",
    ")(x)\n",
    "\n",
    "\n",
    "input_model = keras.Model(inputs, x)"
   ]
  },
  {
   "cell_type": "code",
   "execution_count": 48,
   "metadata": {},
   "outputs": [],
   "source": [
    "input_model.compile(optimizer='adam', loss=tf.keras.losses.BinaryCrossentropy(from_logits=False), metrics=METRICS)"
   ]
  },
  {
   "cell_type": "code",
   "execution_count": null,
   "metadata": {},
   "outputs": [],
   "source": []
  },
  {
   "cell_type": "code",
   "execution_count": 2,
   "metadata": {},
   "outputs": [
    {
     "name": "stderr",
     "output_type": "stream",
     "text": [
      "2023-02-01 19:01:35.604687: I tensorflow/compiler/xla/stream_executor/cuda/cuda_gpu_executor.cc:981] successful NUMA node read from SysFS had negative value (-1), but there must be at least one NUMA node, so returning NUMA node zero\n",
      "2023-02-01 19:01:35.609381: I tensorflow/compiler/xla/stream_executor/cuda/cuda_gpu_executor.cc:981] successful NUMA node read from SysFS had negative value (-1), but there must be at least one NUMA node, so returning NUMA node zero\n",
      "2023-02-01 19:01:35.609536: I tensorflow/compiler/xla/stream_executor/cuda/cuda_gpu_executor.cc:981] successful NUMA node read from SysFS had negative value (-1), but there must be at least one NUMA node, so returning NUMA node zero\n",
      "2023-02-01 19:01:35.609826: I tensorflow/core/platform/cpu_feature_guard.cc:193] This TensorFlow binary is optimized with oneAPI Deep Neural Network Library (oneDNN) to use the following CPU instructions in performance-critical operations:  AVX2 FMA\n",
      "To enable them in other operations, rebuild TensorFlow with the appropriate compiler flags.\n",
      "2023-02-01 19:01:35.610274: I tensorflow/compiler/xla/stream_executor/cuda/cuda_gpu_executor.cc:981] successful NUMA node read from SysFS had negative value (-1), but there must be at least one NUMA node, so returning NUMA node zero\n",
      "2023-02-01 19:01:35.610435: I tensorflow/compiler/xla/stream_executor/cuda/cuda_gpu_executor.cc:981] successful NUMA node read from SysFS had negative value (-1), but there must be at least one NUMA node, so returning NUMA node zero\n",
      "2023-02-01 19:01:35.610563: I tensorflow/compiler/xla/stream_executor/cuda/cuda_gpu_executor.cc:981] successful NUMA node read from SysFS had negative value (-1), but there must be at least one NUMA node, so returning NUMA node zero\n",
      "2023-02-01 19:01:36.013170: I tensorflow/compiler/xla/stream_executor/cuda/cuda_gpu_executor.cc:981] successful NUMA node read from SysFS had negative value (-1), but there must be at least one NUMA node, so returning NUMA node zero\n",
      "2023-02-01 19:01:36.013346: I tensorflow/compiler/xla/stream_executor/cuda/cuda_gpu_executor.cc:981] successful NUMA node read from SysFS had negative value (-1), but there must be at least one NUMA node, so returning NUMA node zero\n",
      "2023-02-01 19:01:36.013466: I tensorflow/compiler/xla/stream_executor/cuda/cuda_gpu_executor.cc:981] successful NUMA node read from SysFS had negative value (-1), but there must be at least one NUMA node, so returning NUMA node zero\n",
      "2023-02-01 19:01:36.013556: I tensorflow/core/common_runtime/gpu/gpu_device.cc:1613] Created device /job:localhost/replica:0/task:0/device:GPU:0 with 22264 MB memory:  -> device: 0, name: NVIDIA GeForce RTX 3090 Ti, pci bus id: 0000:01:00.0, compute capability: 8.6\n"
     ]
    },
    {
     "data": {
      "image/png": "[encoded data removed]",
      "text/plain": [
       "<IPython.core.display.Image object>"
      ]
     },
     "execution_count": 2,
     "metadata": {},
     "output_type": "execute_result"
    }
   ],
   "source": [
    "input = tf.keras.Input(shape=(100,), dtype='int32', name='input')\n",
    "x = tf.keras.layers.Embedding(\n",
    "    output_dim=512, input_dim=10000, input_length=100)(input)\n",
    "x = tf.keras.layers.LSTM(32)(x)\n",
    "x = tf.keras.layers.Dense(64, activation='relu')(x)\n",
    "x = tf.keras.layers.Dense(64, activation='relu')(x)\n",
    "x = tf.keras.layers.Dense(64, activation='relu')(x)\n",
    "output = tf.keras.layers.Dense(1, activation='sigmoid', name='output')(x)\n",
    "model = tf.keras.Model(inputs=[input], outputs=[output])\n",
    "dot_img_file = '/tmp/model_1.png'\n",
    "tf.keras.utils.plot_model(model, to_file=dot_img_file, show_shapes=True)"
   ]
  },
  {
   "cell_type": "code",
   "execution_count": null,
   "metadata": {},
   "outputs": [],
   "source": []
  },
  {
   "cell_type": "code",
   "execution_count": 49,
   "metadata": {},
   "outputs": [],
   "source": [
    "# tf.keras.losses.BinaryCrossentropy?"
   ]
  },
  {
   "cell_type": "code",
   "execution_count": 50,
   "metadata": {},
   "outputs": [
    {
     "name": "stdout",
     "output_type": "stream",
     "text": [
      "782/782 [==============================] - 33s 41ms/step - loss: 0.3680 - accuracy: 0.2827 - precision: 0.5685 - recall: 0.1583 - val_loss: 0.3310 - val_accuracy: 0.3198 - val_precision: 0.6381 - val_recall: 0.2030\n",
      "CPU times: user 32.9 s, sys: 771 ms, total: 33.6 s\n",
      "Wall time: 33.1 s\n"
     ]
    }
   ],
   "source": [
    "%%time\n",
    "\n",
    "hist = input_model.fit(\n",
    "    xt, y_train,\n",
    "    epochs=1, \n",
    "    batch_size=32, \n",
    "    # validation_data=(padded_docs_test, y_test),\n",
    "    # verbose=1,\n",
    "    validation_split=0.2\n",
    ")"
   ]
  },
  {
   "cell_type": "code",
   "execution_count": 42,
   "metadata": {},
   "outputs": [
    {
     "name": "stdout",
     "output_type": "stream",
     "text": [
      "245/245 [==============================] - 1s 3ms/step\n"
     ]
    }
   ],
   "source": [
    "y_pred = input_model.predict(np.array([[_] for _ in x_test]))"
   ]
  },
  {
   "cell_type": "markdown",
   "metadata": {},
   "source": [
    "### We chose a threshold of 0.95 for a prediction array normalized by its maximum value in order to allow for multiple genres"
   ]
  },
  {
   "cell_type": "code",
   "execution_count": 43,
   "metadata": {},
   "outputs": [],
   "source": [
    "new_y_pred = np.where((y_pred.T/y_pred.max(1)).T > 0.95, 1, 0)"
   ]
  },
  {
   "cell_type": "code",
   "execution_count": 44,
   "metadata": {},
   "outputs": [
    {
     "data": {
      "text/plain": [
       "Counter({1: 6813, 2: 883, 3: 114, 4: 8})"
      ]
     },
     "execution_count": 44,
     "metadata": {},
     "output_type": "execute_result"
    }
   ],
   "source": [
    "from collections import Counter\n",
    "\n",
    "Counter(new_y_pred.sum(1))"
   ]
  },
  {
   "cell_type": "markdown",
   "metadata": {},
   "source": [
    "### f1 micro avg is 0.47. "
   ]
  },
  {
   "cell_type": "code",
   "execution_count": 45,
   "metadata": {},
   "outputs": [
    {
     "name": "stdout",
     "output_type": "stream",
     "text": [
      "              precision    recall  f1-score   support\n",
      "\n",
      "      Action       0.39      0.11      0.17      1389\n",
      "   Adventure       0.39      0.50      0.44      1245\n",
      "   Animation       1.00      0.00      0.01       521\n",
      "      Comedy       0.40      0.19      0.25      2514\n",
      "       Crime       0.00      0.00      0.00      1022\n",
      "       Drama       0.61      0.87      0.72      4000\n",
      "      Family       0.00      0.00      0.00       795\n",
      "     Fantasy       0.00      0.00      0.00       431\n",
      "      Horror       0.43      0.00      0.01       846\n",
      "     Romance       0.75      0.00      0.00      1467\n",
      "      Sci-Fi       0.67      0.10      0.17       471\n",
      "    Thriller       0.44      0.01      0.01      1417\n",
      "         War       0.00      0.00      0.00       315\n",
      "     Western       0.00      0.00      0.00       236\n",
      "\n",
      "   micro avg       0.53      0.29      0.37     16669\n",
      "   macro avg       0.36      0.13      0.13     16669\n",
      "weighted avg       0.44      0.29      0.26     16669\n",
      " samples avg       0.56      0.33      0.39     16669\n",
      "\n"
     ]
    },
    {
     "name": "stderr",
     "output_type": "stream",
     "text": [
      "/home/ivv101/miniconda3/envs/p310/lib/python3.10/site-packages/sklearn/metrics/_classification.py:1344: UndefinedMetricWarning: Precision and F-score are ill-defined and being set to 0.0 in labels with no predicted samples. Use `zero_division` parameter to control this behavior.\n",
      "  _warn_prf(average, modifier, msg_start, len(result))\n",
      "/home/ivv101/miniconda3/envs/p310/lib/python3.10/site-packages/sklearn/metrics/_classification.py:1344: UndefinedMetricWarning: Recall and F-score are ill-defined and being set to 0.0 in samples with no true labels. Use `zero_division` parameter to control this behavior.\n",
      "  _warn_prf(average, modifier, msg_start, len(result))\n"
     ]
    }
   ],
   "source": [
    "print(classification_report(y_test, \n",
    "                            new_y_pred, \n",
    "                            output_dict=False,\n",
    "                            target_names=classes))"
   ]
  },
  {
   "cell_type": "code",
   "execution_count": 40,
   "metadata": {},
   "outputs": [
    {
     "data": {
      "image/png": "[encoded data removed]",
      "text/plain": [
       "<Figure size 640x480 with 1 Axes>"
      ]
     },
     "metadata": {},
     "output_type": "display_data"
    }
   ],
   "source": [
    "plt.plot(hist.history['loss'])\n",
    "plt.plot(hist.history['val_loss'])\n",
    "plt.title('Baseline Embedding model loss')\n",
    "plt.ylabel('loss')\n",
    "plt.xlabel('epoch')\n",
    "plt.legend(['train','val'], loc='upper right')\n",
    "plt.show()"
   ]
  },
  {
   "cell_type": "code",
   "execution_count": null,
   "metadata": {},
   "outputs": [],
   "source": []
  },
  {
   "cell_type": "code",
   "execution_count": null,
   "metadata": {},
   "outputs": [],
   "source": []
  },
  {
   "cell_type": "code",
   "execution_count": null,
   "metadata": {},
   "outputs": [],
   "source": []
  },
  {
   "cell_type": "code",
   "execution_count": null,
   "metadata": {},
   "outputs": [],
   "source": []
  },
  {
   "cell_type": "code",
   "execution_count": null,
   "metadata": {},
   "outputs": [],
   "source": []
  },
  {
   "cell_type": "code",
   "execution_count": null,
   "metadata": {},
   "outputs": [],
   "source": []
  },
  {
   "cell_type": "code",
   "execution_count": null,
   "metadata": {},
   "outputs": [],
   "source": []
  },
  {
   "cell_type": "code",
   "execution_count": null,
   "metadata": {},
   "outputs": [],
   "source": []
  },
  {
   "cell_type": "code",
   "execution_count": null,
   "metadata": {},
   "outputs": [],
   "source": []
  },
  {
   "cell_type": "code",
   "execution_count": null,
   "metadata": {},
   "outputs": [],
   "source": []
  },
  {
   "cell_type": "code",
   "execution_count": null,
   "metadata": {},
   "outputs": [],
   "source": []
  },
  {
   "cell_type": "code",
   "execution_count": null,
   "metadata": {},
   "outputs": [],
   "source": []
  },
  {
   "cell_type": "code",
   "execution_count": null,
   "metadata": {},
   "outputs": [],
   "source": []
  },
  {
   "cell_type": "code",
   "execution_count": null,
   "metadata": {},
   "outputs": [],
   "source": []
  },
  {
   "cell_type": "code",
   "execution_count": 13,
   "metadata": {
    "id": "aq55Ba1_2NEW"
   },
   "outputs": [],
   "source": [
    "ak_model = ak.TextClassifier(\n",
    "    multi_label=True,\n",
    "    overwrite=True, \n",
    "    max_trials=1,\n",
    "    project_name='ak_model_14_vanilla',\n",
    "    metrics=METRICS,\n",
    "    seed=SEED\n",
    ") "
   ]
  },
  {
   "cell_type": "code",
   "execution_count": null,
   "metadata": {},
   "outputs": [],
   "source": [
    "_ = ak_model.tuner.get_best_hyperparameters()[0]\n",
    "_.get_config()"
   ]
  },
  {
   "cell_type": "code",
   "execution_count": 288,
   "metadata": {},
   "outputs": [
    {
     "data": {
      "text/plain": [
       "{'losses': [{'module': 'keras.losses',\n",
       "   'class_name': 'BinaryCrossentropy',\n",
       "   'config': {'reduction': 'auto',\n",
       "    'name': 'binary_crossentropy',\n",
       "    'from_logits': False,\n",
       "    'label_smoothing': 0.0,\n",
       "    'axis': -1},\n",
       "   'registered_name': None}],\n",
       " 'total_loss_mean': {'module': 'keras.metrics',\n",
       "  'class_name': 'Mean',\n",
       "  'config': {'name': 'loss', 'dtype': 'float32'},\n",
       "  'registered_name': None}}"
      ]
     },
     "execution_count": 288,
     "metadata": {},
     "output_type": "execute_result"
    }
   ],
   "source": [
    "base_model.compiled_loss.get_config()"
   ]
  },
  {
   "cell_type": "code",
   "execution_count": 281,
   "metadata": {},
   "outputs": [
    {
     "data": {
      "text/plain": [
       "{'name': 'Adam',\n",
       " 'weight_decay': None,\n",
       " 'clipnorm': None,\n",
       " 'global_clipnorm': None,\n",
       " 'clipvalue': None,\n",
       " 'use_ema': False,\n",
       " 'ema_momentum': 0.99,\n",
       " 'ema_overwrite_frequency': None,\n",
       " 'jit_compile': True,\n",
       " 'is_legacy_optimizer': False,\n",
       " 'learning_rate': 0.001,\n",
       " 'beta_1': 0.9,\n",
       " 'beta_2': 0.999,\n",
       " 'epsilon': 1e-07,\n",
       " 'amsgrad': False}"
      ]
     },
     "execution_count": 281,
     "metadata": {},
     "output_type": "execute_result"
    }
   ],
   "source": [
    "base_model.optimizer.get_config()"
   ]
  },
  {
   "cell_type": "code",
   "execution_count": 256,
   "metadata": {},
   "outputs": [],
   "source": [
    "# base_model.get_config()"
   ]
  },
  {
   "cell_type": "code",
   "execution_count": 257,
   "metadata": {},
   "outputs": [],
   "source": [
    "# ak.TextBlock??"
   ]
  },
  {
   "cell_type": "code",
   "execution_count": 13,
   "metadata": {
    "id": "aq55Ba1_2NEW"
   },
   "outputs": [],
   "source": [
    "# input_node = ak.TextToIntSequence(max_tokens=max_tokens)\n",
    "\n",
    "\n",
    "\n",
    "# output_node = ak.Normalization()(input_node)\n",
    "# output_node1 = ak.ConvBlock()(output_node)\n",
    "# output_node2 = ak.ResNetBlock(version=\"v2\")(output_node)\n",
    "# output_node = ak.Merge()([output_node1, output_node2])\n",
    "# output_node = ak.ClassificationHead()(output_node)\n",
    "\n",
    "# auto_model = ak.AutoModel(\n",
    "#     inputs=input_node, \n",
    "#     outputs=output_node, \n",
    "#     overwrite=True, \n",
    "#     max_trials=1\n",
    "# )\n",
    "\n",
    "\n",
    "\n",
    "\n",
    "\n",
    "\n",
    "# ak_model = ak.TextClassifier(\n",
    "#     multi_label=True,\n",
    "#     overwrite=True, \n",
    "#     max_trials=1,\n",
    "#     project_name='ak_model_14_vanilla',\n",
    "#     metrics=METRICS,\n",
    "#     seed=SEED\n",
    "# ) "
   ]
  },
  {
   "cell_type": "code",
   "execution_count": 258,
   "metadata": {},
   "outputs": [],
   "source": [
    "# ak.AutoModel?"
   ]
  },
  {
   "cell_type": "code",
   "execution_count": 14,
   "metadata": {
    "id": "aq55Ba1_2NEW"
   },
   "outputs": [
    {
     "name": "stdout",
     "output_type": "stream",
     "text": [
      "Trial 1 Complete [00h 01m 56s]\n",
      "val_loss: 0.27152201533317566\n",
      "\n",
      "Best val_loss So Far: 0.27152201533317566\n",
      "Total elapsed time: 00h 01m 56s\n",
      "INFO:tensorflow:Oracle triggered exit\n",
      "Epoch 1/10\n",
      "978/978 [==============================] - 37s 37ms/step - loss: 0.3599 - accuracy: 0.3076 - precision: 0.5871 - recall: 0.2201\n",
      "Epoch 2/10\n",
      "978/978 [==============================] - 7s 7ms/step - loss: 0.2989 - accuracy: 0.3801 - precision: 0.6494 - recall: 0.3220\n",
      "Epoch 3/10\n",
      "978/978 [==============================] - 8s 8ms/step - loss: 0.2720 - accuracy: 0.4393 - precision: 0.6720 - recall: 0.4253\n",
      "Epoch 4/10\n",
      "978/978 [==============================] - 7s 8ms/step - loss: 0.2568 - accuracy: 0.4642 - precision: 0.6865 - recall: 0.4724\n",
      "Epoch 5/10\n",
      "978/978 [==============================] - 7s 7ms/step - loss: 0.2454 - accuracy: 0.4827 - precision: 0.7034 - recall: 0.5101\n",
      "Epoch 6/10\n",
      "978/978 [==============================] - 8s 8ms/step - loss: 0.2349 - accuracy: 0.4988 - precision: 0.7155 - recall: 0.5382\n",
      "Epoch 7/10\n",
      "978/978 [==============================] - 8s 8ms/step - loss: 0.2270 - accuracy: 0.5096 - precision: 0.7234 - recall: 0.5619\n",
      "Epoch 8/10\n",
      "978/978 [==============================] - 7s 7ms/step - loss: 0.2192 - accuracy: 0.5203 - precision: 0.7323 - recall: 0.5861\n",
      "Epoch 9/10\n",
      "978/978 [==============================] - 7s 7ms/step - loss: 0.2113 - accuracy: 0.5362 - precision: 0.7404 - recall: 0.6051\n",
      "Epoch 10/10\n",
      "978/978 [==============================] - 8s 8ms/step - loss: 0.2059 - accuracy: 0.5409 - precision: 0.7456 - recall: 0.6191\n"
     ]
    },
    {
     "name": "stderr",
     "output_type": "stream",
     "text": [
      "WARNING:absl:Found untraced functions such as _jit_compiled_convolution_op while saving (showing 1 of 1). These functions will not be directly callable after loading.\n"
     ]
    },
    {
     "name": "stdout",
     "output_type": "stream",
     "text": [
      "INFO:tensorflow:Assets written to: ./ak_model_14_vanilla/best_model/assets\n"
     ]
    },
    {
     "name": "stderr",
     "output_type": "stream",
     "text": [
      "INFO:tensorflow:Assets written to: ./ak_model_14_vanilla/best_model/assets\n"
     ]
    },
    {
     "name": "stdout",
     "output_type": "stream",
     "text": [
      "CPU times: user 4min 39s, sys: 15 s, total: 4min 54s\n",
      "Wall time: 3min 44s\n"
     ]
    }
   ],
   "source": [
    "%time history = ak_model.fit(x_train, y_train, epochs=10)"
   ]
  },
  {
   "cell_type": "code",
   "execution_count": 234,
   "metadata": {},
   "outputs": [],
   "source": [
    "# base_model.save(\"model_autokeras.h5\")"
   ]
  },
  {
   "cell_type": "code",
   "execution_count": 287,
   "metadata": {},
   "outputs": [
    {
     "name": "stdout",
     "output_type": "stream",
     "text": [
      "Model: \"model\"\n",
      "_________________________________________________________________\n",
      " Layer (type)                Output Shape              Param #   \n",
      "=================================================================\n",
      " input_1 (InputLayer)        [(None,)]                 0         \n",
      "                                                                 \n",
      " expand_last_dim (ExpandLast  (None, 1)                0         \n",
      " Dim)                                                            \n",
      "                                                                 \n",
      " text_vectorization (TextVec  (None, 512)              0         \n",
      " torization)                                                     \n",
      "                                                                 \n",
      " embedding (Embedding)       (None, 512, 64)           320064    \n",
      "                                                                 \n",
      " dropout (Dropout)           (None, 512, 64)           0         \n",
      "                                                                 \n",
      " conv1d (Conv1D)             (None, 508, 256)          82176     \n",
      "                                                                 \n",
      " global_max_pooling1d (Globa  (None, 256)              0         \n",
      " lMaxPooling1D)                                                  \n",
      "                                                                 \n",
      " dense (Dense)               (None, 256)               65792     \n",
      "                                                                 \n",
      " re_lu (ReLU)                (None, 256)               0         \n",
      "                                                                 \n",
      " dropout_1 (Dropout)         (None, 256)               0         \n",
      "                                                                 \n",
      " dense_1 (Dense)             (None, 14)                3598      \n",
      "                                                                 \n",
      " classification_head_1 (Acti  (None, 14)               0         \n",
      " vation)                                                         \n",
      "                                                                 \n",
      "=================================================================\n",
      "Total params: 471,630\n",
      "Trainable params: 471,630\n",
      "Non-trainable params: 0\n",
      "_________________________________________________________________\n"
     ]
    }
   ],
   "source": [
    "base_model = ak_model.export_model()\n",
    "base_model.summary()"
   ]
  },
  {
   "cell_type": "code",
   "execution_count": 263,
   "metadata": {},
   "outputs": [
    {
     "name": "stderr",
     "output_type": "stream",
     "text": [
      "WARNING:absl:Found untraced functions such as _jit_compiled_convolution_op while saving (showing 1 of 1). These functions will not be directly callable after loading.\n"
     ]
    },
    {
     "name": "stdout",
     "output_type": "stream",
     "text": [
      "INFO:tensorflow:Assets written to: out/base_model/assets\n"
     ]
    },
    {
     "name": "stderr",
     "output_type": "stream",
     "text": [
      "INFO:tensorflow:Assets written to: out/base_model/assets\n"
     ]
    }
   ],
   "source": [
    "# base_model.save(f'{out_dir}/base_model')"
   ]
  },
  {
   "cell_type": "code",
   "execution_count": 264,
   "metadata": {},
   "outputs": [],
   "source": [
    "base_model = keras.models.load_model(f'{out_dir}/base_model', custom_objects=ak.CUSTOM_OBJECTS)"
   ]
  },
  {
   "cell_type": "code",
   "execution_count": 265,
   "metadata": {},
   "outputs": [],
   "source": [
    "def reinitialize(model):\n",
    "    for l in model.layers:\n",
    "        if hasattr(l,\"kernel_initializer\"):\n",
    "            l.kernel.assign(l.kernel_initializer(tf.shape(l.kernel)))\n",
    "        if hasattr(l,\"bias_initializer\"):\n",
    "            l.bias.assign(l.bias_initializer(tf.shape(l.bias)))\n",
    "        if hasattr(l,\"recurrent_initializer\"):\n",
    "            l.recurrent_kernel.assign(l.recurrent_initializer(tf.shape(l.recurrent_kernel)))"
   ]
  },
  {
   "cell_type": "code",
   "execution_count": 266,
   "metadata": {},
   "outputs": [
    {
     "name": "stderr",
     "output_type": "stream",
     "text": [
      "/home/ivv101/miniconda3/envs/movie_classifier/lib/python3.10/site-packages/keras/initializers/initializers_v2.py:120: UserWarning: The initializer GlorotUniform is unseeded and being called multiple times, which will return identical values  each time (even if the initializer is unseeded). Please update your code to provide a seed to the initializer, or avoid using the same initalizer instance more than once.\n",
      "  warnings.warn(\n"
     ]
    }
   ],
   "source": [
    "reinitialize(base_model)"
   ]
  },
  {
   "cell_type": "code",
   "execution_count": 280,
   "metadata": {},
   "outputs": [
    {
     "ename": "RuntimeError",
     "evalue": "You must compile your model before training/testing. Use `model.compile(optimizer, loss)`.",
     "output_type": "error",
     "traceback": [
      "\u001b[0;31m---------------------------------------------------------------------------\u001b[0m",
      "\u001b[0;31mRuntimeError\u001b[0m                              Traceback (most recent call last)",
      "File \u001b[0;32m<timed exec>:1\u001b[0m\n",
      "File \u001b[0;32m~/miniconda3/envs/movie_classifier/lib/python3.10/site-packages/keras/utils/traceback_utils.py:70\u001b[0m, in \u001b[0;36mfilter_traceback.<locals>.error_handler\u001b[0;34m(*args, **kwargs)\u001b[0m\n\u001b[1;32m     67\u001b[0m     filtered_tb \u001b[38;5;241m=\u001b[39m _process_traceback_frames(e\u001b[38;5;241m.\u001b[39m__traceback__)\n\u001b[1;32m     68\u001b[0m     \u001b[38;5;66;03m# To get the full stack trace, call:\u001b[39;00m\n\u001b[1;32m     69\u001b[0m     \u001b[38;5;66;03m# `tf.debugging.disable_traceback_filtering()`\u001b[39;00m\n\u001b[0;32m---> 70\u001b[0m     \u001b[38;5;28;01mraise\u001b[39;00m e\u001b[38;5;241m.\u001b[39mwith_traceback(filtered_tb) \u001b[38;5;28;01mfrom\u001b[39;00m \u001b[38;5;28mNone\u001b[39m\n\u001b[1;32m     71\u001b[0m \u001b[38;5;28;01mfinally\u001b[39;00m:\n\u001b[1;32m     72\u001b[0m     \u001b[38;5;28;01mdel\u001b[39;00m filtered_tb\n",
      "File \u001b[0;32m~/miniconda3/envs/movie_classifier/lib/python3.10/site-packages/keras/engine/training.py:3690\u001b[0m, in \u001b[0;36mModel._assert_compile_was_called\u001b[0;34m(self)\u001b[0m\n\u001b[1;32m   3684\u001b[0m \u001b[38;5;28;01mdef\u001b[39;00m \u001b[38;5;21m_assert_compile_was_called\u001b[39m(\u001b[38;5;28mself\u001b[39m):\n\u001b[1;32m   3685\u001b[0m     \u001b[38;5;66;03m# Checks whether `compile` has been called. If it has been called,\u001b[39;00m\n\u001b[1;32m   3686\u001b[0m     \u001b[38;5;66;03m# then the optimizer is set. This is different from whether the\u001b[39;00m\n\u001b[1;32m   3687\u001b[0m     \u001b[38;5;66;03m# model is compiled\u001b[39;00m\n\u001b[1;32m   3688\u001b[0m     \u001b[38;5;66;03m# (i.e. whether the model is built and its inputs/outputs are set).\u001b[39;00m\n\u001b[1;32m   3689\u001b[0m     \u001b[38;5;28;01mif\u001b[39;00m \u001b[38;5;129;01mnot\u001b[39;00m \u001b[38;5;28mself\u001b[39m\u001b[38;5;241m.\u001b[39m_is_compiled:\n\u001b[0;32m-> 3690\u001b[0m         \u001b[38;5;28;01mraise\u001b[39;00m \u001b[38;5;167;01mRuntimeError\u001b[39;00m(\n\u001b[1;32m   3691\u001b[0m             \u001b[38;5;124m\"\u001b[39m\u001b[38;5;124mYou must compile your model before \u001b[39m\u001b[38;5;124m\"\u001b[39m\n\u001b[1;32m   3692\u001b[0m             \u001b[38;5;124m\"\u001b[39m\u001b[38;5;124mtraining/testing. \u001b[39m\u001b[38;5;124m\"\u001b[39m\n\u001b[1;32m   3693\u001b[0m             \u001b[38;5;124m\"\u001b[39m\u001b[38;5;124mUse `model.compile(optimizer, loss)`.\u001b[39m\u001b[38;5;124m\"\u001b[39m\n\u001b[1;32m   3694\u001b[0m         )\n",
      "\u001b[0;31mRuntimeError\u001b[0m: You must compile your model before training/testing. Use `model.compile(optimizer, loss)`."
     ]
    }
   ],
   "source": [
    "%%time\n",
    "\n",
    "hist = model.fit(\n",
    "    x_train, y_train,\n",
    "    epochs=10, \n",
    "    batch_size=32, \n",
    "    # validation_data=(padded_docs_test, y_test),\n",
    "    # verbose=1,\n",
    "    validation_split=0.2\n",
    ")"
   ]
  },
  {
   "cell_type": "code",
   "execution_count": 279,
   "metadata": {},
   "outputs": [],
   "source": [
    "# base_model.get_config()"
   ]
  },
  {
   "cell_type": "code",
   "execution_count": null,
   "metadata": {},
   "outputs": [],
   "source": [
    "a"
   ]
  },
  {
   "cell_type": "code",
   "execution_count": 261,
   "metadata": {},
   "outputs": [
    {
     "data": {
      "text/plain": [
       "\u001b[0;31mSignature:\u001b[0m \u001b[0mbase_model\u001b[0m\u001b[0;34m.\u001b[0m\u001b[0mreset_states\u001b[0m\u001b[0;34m(\u001b[0m\u001b[0;34m)\u001b[0m\u001b[0;34m\u001b[0m\u001b[0;34m\u001b[0m\u001b[0m\n",
       "\u001b[0;31mDocstring:\u001b[0m <no docstring>\n",
       "\u001b[0;31mSource:\u001b[0m   \n",
       "    \u001b[0;32mdef\u001b[0m \u001b[0mreset_states\u001b[0m\u001b[0;34m(\u001b[0m\u001b[0mself\u001b[0m\u001b[0;34m)\u001b[0m\u001b[0;34m:\u001b[0m\u001b[0;34m\u001b[0m\n",
       "\u001b[0;34m\u001b[0m        \u001b[0;32mfor\u001b[0m \u001b[0mlayer\u001b[0m \u001b[0;32min\u001b[0m \u001b[0mself\u001b[0m\u001b[0;34m.\u001b[0m\u001b[0mlayers\u001b[0m\u001b[0;34m:\u001b[0m\u001b[0;34m\u001b[0m\n",
       "\u001b[0;34m\u001b[0m            \u001b[0;32mif\u001b[0m \u001b[0mhasattr\u001b[0m\u001b[0;34m(\u001b[0m\u001b[0mlayer\u001b[0m\u001b[0;34m,\u001b[0m \u001b[0;34m\"reset_states\"\u001b[0m\u001b[0;34m)\u001b[0m \u001b[0;32mand\u001b[0m \u001b[0mgetattr\u001b[0m\u001b[0;34m(\u001b[0m\u001b[0;34m\u001b[0m\n",
       "\u001b[0;34m\u001b[0m                \u001b[0mlayer\u001b[0m\u001b[0;34m,\u001b[0m \u001b[0;34m\"stateful\"\u001b[0m\u001b[0;34m,\u001b[0m \u001b[0;32mFalse\u001b[0m\u001b[0;34m\u001b[0m\n",
       "\u001b[0;34m\u001b[0m            \u001b[0;34m)\u001b[0m\u001b[0;34m:\u001b[0m\u001b[0;34m\u001b[0m\n",
       "\u001b[0;34m\u001b[0m                \u001b[0mlayer\u001b[0m\u001b[0;34m.\u001b[0m\u001b[0mreset_states\u001b[0m\u001b[0;34m(\u001b[0m\u001b[0;34m)\u001b[0m\u001b[0;34m\u001b[0m\u001b[0;34m\u001b[0m\u001b[0m\n",
       "\u001b[0;31mFile:\u001b[0m      ~/miniconda3/envs/movie_classifier/lib/python3.10/site-packages/keras/engine/training.py\n",
       "\u001b[0;31mType:\u001b[0m      method"
      ]
     },
     "metadata": {},
     "output_type": "display_data"
    }
   ],
   "source": [
    "base_model.reset_states??"
   ]
  },
  {
   "cell_type": "code",
   "execution_count": 222,
   "metadata": {},
   "outputs": [],
   "source": [
    "hp = ak_model.tuner.get_best_hyperparameters()[0]"
   ]
  },
  {
   "cell_type": "code",
   "execution_count": 276,
   "metadata": {},
   "outputs": [
    {
     "data": {
      "text/plain": [
       "\u001b[0;31mInit signature:\u001b[0m \u001b[0mak\u001b[0m\u001b[0;34m.\u001b[0m\u001b[0mkeras_layers\u001b[0m\u001b[0;34m.\u001b[0m\u001b[0mExpandLastDim\u001b[0m\u001b[0;34m(\u001b[0m\u001b[0;34m*\u001b[0m\u001b[0margs\u001b[0m\u001b[0;34m,\u001b[0m \u001b[0;34m**\u001b[0m\u001b[0mkwargs\u001b[0m\u001b[0;34m)\u001b[0m\u001b[0;34m\u001b[0m\u001b[0;34m\u001b[0m\u001b[0m\n",
       "\u001b[0;31mDocstring:\u001b[0m     \n",
       "Base class for Preprocessing Layers.\n",
       "\n",
       "**Don't use this class directly: it's an abstract base class!** You may\n",
       "be looking for one of the many built-in\n",
       "[preprocessing layers](https://keras.io/guides/preprocessing_layers/)\n",
       "instead.\n",
       "\n",
       "Preprocessing layers are layers whose state gets computed before model\n",
       "training starts. They do not get updated during training. Most\n",
       "preprocessing layers implement an `adapt()` method for state computation.\n",
       "\n",
       "The `PreprocessingLayer` class is the base class you would subclass to\n",
       "implement your own preprocessing layers.\n",
       "\u001b[0;31mFile:\u001b[0m           ~/miniconda3/envs/movie_classifier/lib/python3.10/site-packages/autokeras/keras_layers.py\n",
       "\u001b[0;31mType:\u001b[0m           ABCMeta\n",
       "\u001b[0;31mSubclasses:\u001b[0m     "
      ]
     },
     "metadata": {},
     "output_type": "display_data"
    }
   ],
   "source": [
    "ak.keras_layers.ExpandLastDim?"
   ]
  },
  {
   "cell_type": "code",
   "execution_count": 225,
   "metadata": {},
   "outputs": [
    {
     "data": {
      "text/plain": [
       "{'text_block_1/block_type': 'vanilla',\n",
       " 'classification_head_1/dropout': 0,\n",
       " 'text_block_1/max_tokens': 5000,\n",
       " 'text_block_1/conv_block_1/separable': False,\n",
       " 'text_block_1/text_to_int_sequence_1/output_sequence_length': 512,\n",
       " 'text_block_1/embedding_1/pretraining': 'none',\n",
       " 'text_block_1/embedding_1/embedding_dim': 64,\n",
       " 'text_block_1/embedding_1/dropout': 0.25,\n",
       " 'text_block_1/conv_block_1/kernel_size': 5,\n",
       " 'text_block_1/conv_block_1/num_blocks': 1,\n",
       " 'text_block_1/conv_block_1/num_layers': 1,\n",
       " 'text_block_1/conv_block_1/max_pooling': False,\n",
       " 'text_block_1/conv_block_1/dropout': 0,\n",
       " 'text_block_1/conv_block_1/filters_0_0': 256,\n",
       " 'text_block_1/spatial_reduction_1/reduction_type': 'global_max',\n",
       " 'text_block_1/dense_block_1/num_layers': 1,\n",
       " 'text_block_1/dense_block_1/use_batchnorm': False,\n",
       " 'text_block_1/dense_block_1/dropout': 0.5,\n",
       " 'text_block_1/dense_block_1/units_0': 256,\n",
       " 'optimizer': 'adam',\n",
       " 'learning_rate': 0.001}"
      ]
     },
     "execution_count": 225,
     "metadata": {},
     "output_type": "execute_result"
    }
   ],
   "source": [
    "hp.values"
   ]
  },
  {
   "cell_type": "code",
   "execution_count": 270,
   "metadata": {},
   "outputs": [
    {
     "name": "stdout",
     "output_type": "stream",
     "text": [
      "245/245 [==============================] - 1s 3ms/step\n"
     ]
    }
   ],
   "source": [
    "y_pred = base_model.predict(x_test)"
   ]
  },
  {
   "cell_type": "markdown",
   "metadata": {},
   "source": [
    "### We chose a threshold of 0.95 for a prediction array normalized by its maximum value in order to allow for multiple genres"
   ]
  },
  {
   "cell_type": "code",
   "execution_count": 271,
   "metadata": {},
   "outputs": [],
   "source": [
    "new_y_pred = np.where((y_pred.T/y_pred.max(1)).T > 0.95, 1, 0)"
   ]
  },
  {
   "cell_type": "code",
   "execution_count": 272,
   "metadata": {},
   "outputs": [
    {
     "data": {
      "text/plain": [
       "Counter({1: 6814, 2: 939, 3: 64, 4: 1})"
      ]
     },
     "execution_count": 272,
     "metadata": {},
     "output_type": "execute_result"
    }
   ],
   "source": [
    "from collections import Counter\n",
    "\n",
    "Counter(new_y_pred.sum(1))"
   ]
  },
  {
   "cell_type": "markdown",
   "metadata": {},
   "source": [
    "### f1 micro avg is 0.47. "
   ]
  },
  {
   "cell_type": "code",
   "execution_count": 273,
   "metadata": {},
   "outputs": [
    {
     "name": "stdout",
     "output_type": "stream",
     "text": [
      "              precision    recall  f1-score   support\n",
      "\n",
      "      Action       0.58      0.30      0.39      1389\n",
      "   Adventure       0.56      0.26      0.36      1245\n",
      "   Animation       0.69      0.42      0.52       521\n",
      "      Comedy       0.66      0.39      0.49      2514\n",
      "       Crime       0.58      0.14      0.23      1022\n",
      "       Drama       0.74      0.62      0.67      4000\n",
      "      Family       0.56      0.15      0.23       795\n",
      "     Fantasy       0.46      0.06      0.11       431\n",
      "      Horror       0.72      0.62      0.66       846\n",
      "     Romance       0.61      0.13      0.21      1467\n",
      "      Sci-Fi       0.71      0.34      0.46       471\n",
      "    Thriller       0.57      0.18      0.28      1417\n",
      "         War       0.69      0.21      0.32       315\n",
      "     Western       0.80      0.31      0.45       236\n",
      "\n",
      "   micro avg       0.67      0.36      0.47     16669\n",
      "   macro avg       0.64      0.30      0.39     16669\n",
      "weighted avg       0.65      0.36      0.44     16669\n",
      " samples avg       0.68      0.42      0.49     16669\n",
      "\n"
     ]
    },
    {
     "name": "stderr",
     "output_type": "stream",
     "text": [
      "/home/ivv101/miniconda3/envs/movie_classifier/lib/python3.10/site-packages/sklearn/metrics/_classification.py:1344: UndefinedMetricWarning: Recall and F-score are ill-defined and being set to 0.0 in samples with no true labels. Use `zero_division` parameter to control this behavior.\n",
      "  _warn_prf(average, modifier, msg_start, len(result))\n"
     ]
    }
   ],
   "source": [
    "print(classification_report(y_test, \n",
    "                            new_y_pred, \n",
    "                            output_dict=False,\n",
    "                            target_names=classes))"
   ]
  },
  {
   "cell_type": "code",
   "execution_count": 19,
   "metadata": {},
   "outputs": [
    {
     "name": "stdout",
     "output_type": "stream",
     "text": [
      "              precision    recall  f1-score   support\n",
      "\n",
      "      Action       0.59      0.36      0.45      1389\n",
      "   Adventure       0.59      0.23      0.33      1245\n",
      "   Animation       0.69      0.44      0.54       521\n",
      "      Comedy       0.66      0.45      0.54      2514\n",
      "       Crime       0.56      0.24      0.33      1022\n",
      "       Drama       0.75      0.56      0.64      4000\n",
      "      Family       0.66      0.18      0.28       795\n",
      "     Fantasy       0.50      0.10      0.17       431\n",
      "      Horror       0.70      0.63      0.66       846\n",
      "     Romance       0.61      0.16      0.25      1467\n",
      "      Sci-Fi       0.72      0.34      0.46       471\n",
      "    Thriller       0.59      0.25      0.35      1417\n",
      "         War       0.76      0.23      0.35       315\n",
      "     Western       0.78      0.25      0.37       236\n",
      "\n",
      "   micro avg       0.68      0.37      0.48     16669\n",
      "   macro avg       0.65      0.31      0.41     16669\n",
      "weighted avg       0.66      0.37      0.46     16669\n",
      " samples avg       0.69      0.43      0.50     16669\n",
      "\n"
     ]
    },
    {
     "name": "stderr",
     "output_type": "stream",
     "text": [
      "/home/ivv101/miniconda3/envs/movie_classifier/lib/python3.10/site-packages/sklearn/metrics/_classification.py:1344: UndefinedMetricWarning: Recall and F-score are ill-defined and being set to 0.0 in samples with no true labels. Use `zero_division` parameter to control this behavior.\n",
      "  _warn_prf(average, modifier, msg_start, len(result))\n"
     ]
    }
   ],
   "source": [
    "print(classification_report(y_test, \n",
    "                            new_y_pred, \n",
    "                            output_dict=False,\n",
    "                            target_names=classes))"
   ]
  },
  {
   "cell_type": "code",
   "execution_count": 22,
   "metadata": {
    "scrolled": true,
    "tags": []
   },
   "outputs": [
    {
     "data": {
      "text/plain": [
       "[{'batch_input_shape': (None,),\n",
       "  'dtype': 'string',\n",
       "  'sparse': False,\n",
       "  'ragged': False,\n",
       "  'name': 'input_1'},\n",
       " {'name': 'expand_last_dim', 'trainable': True, 'dtype': 'float32'},\n",
       " {'name': 'text_vectorization',\n",
       "  'trainable': True,\n",
       "  'dtype': 'string',\n",
       "  'max_tokens': 5000,\n",
       "  'standardize': 'lower_and_strip_punctuation',\n",
       "  'split': 'whitespace',\n",
       "  'ngrams': None,\n",
       "  'output_mode': 'int',\n",
       "  'output_sequence_length': 512,\n",
       "  'pad_to_max_tokens': False,\n",
       "  'sparse': False,\n",
       "  'ragged': False,\n",
       "  'vocabulary': None,\n",
       "  'idf_weights': None,\n",
       "  'encoding': 'utf-8'},\n",
       " {'name': 'embedding',\n",
       "  'trainable': True,\n",
       "  'dtype': 'float32',\n",
       "  'batch_input_shape': (None, None),\n",
       "  'input_dim': 5001,\n",
       "  'output_dim': 64,\n",
       "  'embeddings_initializer': {'class_name': 'RandomUniform',\n",
       "   'config': {'minval': -0.05, 'maxval': 0.05, 'seed': None}},\n",
       "  'embeddings_regularizer': None,\n",
       "  'activity_regularizer': None,\n",
       "  'embeddings_constraint': None,\n",
       "  'mask_zero': False,\n",
       "  'input_length': None},\n",
       " {'name': 'dropout',\n",
       "  'trainable': True,\n",
       "  'dtype': 'float32',\n",
       "  'rate': 0.25,\n",
       "  'noise_shape': None,\n",
       "  'seed': None},\n",
       " {'name': 'conv1d',\n",
       "  'trainable': True,\n",
       "  'dtype': 'float32',\n",
       "  'filters': 256,\n",
       "  'kernel_size': (5,),\n",
       "  'strides': (1,),\n",
       "  'padding': 'valid',\n",
       "  'data_format': 'channels_last',\n",
       "  'dilation_rate': (1,),\n",
       "  'groups': 1,\n",
       "  'activation': 'relu',\n",
       "  'use_bias': True,\n",
       "  'kernel_initializer': {'class_name': 'GlorotUniform',\n",
       "   'config': {'seed': None}},\n",
       "  'bias_initializer': {'class_name': 'Zeros', 'config': {}},\n",
       "  'kernel_regularizer': None,\n",
       "  'bias_regularizer': None,\n",
       "  'activity_regularizer': None,\n",
       "  'kernel_constraint': None,\n",
       "  'bias_constraint': None},\n",
       " {'name': 'global_max_pooling1d',\n",
       "  'trainable': True,\n",
       "  'dtype': 'float32',\n",
       "  'data_format': 'channels_last',\n",
       "  'keepdims': False},\n",
       " {'name': 'dense',\n",
       "  'trainable': True,\n",
       "  'dtype': 'float32',\n",
       "  'units': 256,\n",
       "  'activation': 'linear',\n",
       "  'use_bias': True,\n",
       "  'kernel_initializer': {'class_name': 'GlorotUniform',\n",
       "   'config': {'seed': None}},\n",
       "  'bias_initializer': {'class_name': 'Zeros', 'config': {}},\n",
       "  'kernel_regularizer': None,\n",
       "  'bias_regularizer': None,\n",
       "  'activity_regularizer': None,\n",
       "  'kernel_constraint': None,\n",
       "  'bias_constraint': None},\n",
       " {'name': 're_lu',\n",
       "  'trainable': True,\n",
       "  'dtype': 'float32',\n",
       "  'max_value': None,\n",
       "  'negative_slope': array(0., dtype=float32),\n",
       "  'threshold': array(0., dtype=float32)},\n",
       " {'name': 'dropout_1',\n",
       "  'trainable': True,\n",
       "  'dtype': 'float32',\n",
       "  'rate': 0.5,\n",
       "  'noise_shape': None,\n",
       "  'seed': None},\n",
       " {'name': 'dense_1',\n",
       "  'trainable': True,\n",
       "  'dtype': 'float32',\n",
       "  'units': 14,\n",
       "  'activation': 'linear',\n",
       "  'use_bias': True,\n",
       "  'kernel_initializer': {'class_name': 'GlorotUniform',\n",
       "   'config': {'seed': None}},\n",
       "  'bias_initializer': {'class_name': 'Zeros', 'config': {}},\n",
       "  'kernel_regularizer': None,\n",
       "  'bias_regularizer': None,\n",
       "  'activity_regularizer': None,\n",
       "  'kernel_constraint': None,\n",
       "  'bias_constraint': None},\n",
       " {'name': 'classification_head_1',\n",
       "  'trainable': True,\n",
       "  'dtype': 'float32',\n",
       "  'activation': 'sigmoid'}]"
      ]
     },
     "execution_count": 22,
     "metadata": {},
     "output_type": "execute_result"
    }
   ],
   "source": [
    "[_['config'] for _ in base_model.get_config()['layers']]"
   ]
  },
  {
   "cell_type": "code",
   "execution_count": null,
   "metadata": {},
   "outputs": [],
   "source": []
  },
  {
   "cell_type": "code",
   "execution_count": null,
   "metadata": {},
   "outputs": [],
   "source": []
  },
  {
   "cell_type": "code",
   "execution_count": null,
   "metadata": {},
   "outputs": [],
   "source": []
  },
  {
   "cell_type": "code",
   "execution_count": null,
   "metadata": {},
   "outputs": [],
   "source": []
  },
  {
   "cell_type": "code",
   "execution_count": 204,
   "metadata": {},
   "outputs": [],
   "source": [
    "# keras.layers.Dense?"
   ]
  },
  {
   "cell_type": "code",
   "execution_count": 205,
   "metadata": {},
   "outputs": [
    {
     "name": "stdout",
     "output_type": "stream",
     "text": [
      "978/978 [==============================] - 4s 4ms/step\n"
     ]
    }
   ],
   "source": [
    "pred = input_model.predict(xt)"
   ]
  },
  {
   "cell_type": "code",
   "execution_count": null,
   "metadata": {},
   "outputs": [],
   "source": []
  },
  {
   "cell_type": "code",
   "execution_count": null,
   "metadata": {},
   "outputs": [],
   "source": []
  },
  {
   "cell_type": "code",
   "execution_count": null,
   "metadata": {},
   "outputs": [],
   "source": []
  },
  {
   "cell_type": "code",
   "execution_count": 39,
   "metadata": {},
   "outputs": [],
   "source": [
    "lay = base_model.layers[0]"
   ]
  },
  {
   "cell_type": "code",
   "execution_count": 44,
   "metadata": {},
   "outputs": [
    {
     "data": {
      "text/plain": [
       "<KerasTensor: shape=(None,) dtype=string (created by layer 'input_1')>"
      ]
     },
     "execution_count": 44,
     "metadata": {},
     "output_type": "execute_result"
    }
   ],
   "source": [
    "lay.input"
   ]
  },
  {
   "cell_type": "code",
   "execution_count": null,
   "metadata": {},
   "outputs": [],
   "source": []
  },
  {
   "cell_type": "code",
   "execution_count": null,
   "metadata": {},
   "outputs": [],
   "source": [
    "inputs = keras.layers.Input(shape=(20,))\n",
    "\n",
    "x = inputs\n",
    "\n",
    "# x = base_model.layers[1](x)\n",
    "# x = base_model.layers[2](x)\n",
    "\n",
    "x = keras.layers.Normalization()(x)\n",
    "\n",
    "x = keras.layers.Dense(dense_units[0], activation='relu')(x)\n",
    "\n",
    "x = keras.layers.Dropout(dropout_units[0])(x)\n",
    "\n",
    "x = keras.layers.Dense(dense_units[1], activation='relu')(x)\n",
    "\n",
    "x = keras.layers.Dropout(dropout_units[1])(x)\n",
    "\n",
    "x = keras.layers.Dense(dense_units[2], activation='relu')(x)\n",
    "\n",
    "x = keras.layers.Dropout(dropout_units[2])(x)\n",
    "\n",
    "x = keras.layers.Dense(8, activation='softmax')(x)\n",
    "\n",
    "new_model = keras.Model(inputs, x)"
   ]
  },
  {
   "cell_type": "code",
   "execution_count": null,
   "metadata": {},
   "outputs": [],
   "source": []
  },
  {
   "cell_type": "code",
   "execution_count": null,
   "metadata": {},
   "outputs": [],
   "source": []
  },
  {
   "cell_type": "code",
   "execution_count": null,
   "metadata": {},
   "outputs": [],
   "source": []
  },
  {
   "cell_type": "code",
   "execution_count": null,
   "metadata": {},
   "outputs": [],
   "source": []
  },
  {
   "cell_type": "code",
   "execution_count": null,
   "metadata": {},
   "outputs": [],
   "source": []
  },
  {
   "cell_type": "code",
   "execution_count": null,
   "metadata": {},
   "outputs": [],
   "source": []
  },
  {
   "cell_type": "code",
   "execution_count": null,
   "metadata": {},
   "outputs": [],
   "source": []
  },
  {
   "cell_type": "code",
   "execution_count": null,
   "metadata": {},
   "outputs": [],
   "source": []
  },
  {
   "cell_type": "code",
   "execution_count": null,
   "metadata": {},
   "outputs": [],
   "source": []
  },
  {
   "cell_type": "code",
   "execution_count": null,
   "metadata": {},
   "outputs": [],
   "source": []
  },
  {
   "cell_type": "code",
   "execution_count": 2,
   "metadata": {},
   "outputs": [],
   "source": [
    "# np.sum(y_test * new_y_pred)/len(y_test)"
   ]
  },
  {
   "cell_type": "code",
   "execution_count": 87,
   "metadata": {},
   "outputs": [],
   "source": [
    "# new_y_pred.sum(0).astype(int), np.unique(new_y_pred.sum(1).astype(int))"
   ]
  },
  {
   "cell_type": "code",
   "execution_count": 62,
   "metadata": {},
   "outputs": [
    {
     "name": "stderr",
     "output_type": "stream",
     "text": [
      "WARNING:absl:Found untraced functions such as _jit_compiled_convolution_op, _update_step_xla while saving (showing 2 of 2). These functions will not be directly callable after loading.\n"
     ]
    },
    {
     "name": "stdout",
     "output_type": "stream",
     "text": [
      "INFO:tensorflow:Assets written to: out/tf_model/assets\n"
     ]
    },
    {
     "name": "stderr",
     "output_type": "stream",
     "text": [
      "INFO:tensorflow:Assets written to: out/tf_model/assets\n"
     ]
    },
    {
     "name": "stdout",
     "output_type": "stream",
     "text": [
      "CPU times: user 739 ms, sys: 16.6 ms, total: 756 ms\n",
      "Wall time: 751 ms\n"
     ]
    }
   ],
   "source": [
    "tf_model.save(f'{out_dir}/tf_model')"
   ]
  },
  {
   "cell_type": "markdown",
   "metadata": {},
   "source": [
    "### In order to choose similar moview, we compute predictions for each movie with revenue > $10 million."
   ]
  },
  {
   "cell_type": "code",
   "execution_count": 13,
   "metadata": {},
   "outputs": [
    {
     "name": "stderr",
     "output_type": "stream",
     "text": [
      "2023-01-23 08:59:14.896054: I tensorflow/compiler/xla/stream_executor/cuda/cuda_dnn.cc:428] Loaded cuDNN version 8401\n"
     ]
    },
    {
     "name": "stdout",
     "output_type": "stream",
     "text": [
      "  56/1222 [>.............................] - ETA: 3s"
     ]
    },
    {
     "name": "stderr",
     "output_type": "stream",
     "text": [
      "2023-01-23 08:59:15.956849: I tensorflow/compiler/xla/stream_executor/cuda/cuda_blas.cc:630] TensorFloat-32 will be used for the matrix multiplication. This will only be logged once.\n"
     ]
    },
    {
     "name": "stdout",
     "output_type": "stream",
     "text": [
      "1222/1222 [==============================] - 6s 4ms/step\n"
     ]
    }
   ],
   "source": [
    "text_input_pred = tf_model.predict(text_input)"
   ]
  },
  {
   "cell_type": "code",
   "execution_count": 15,
   "metadata": {},
   "outputs": [
    {
     "data": {
      "text/plain": [
       "39086"
      ]
     },
     "execution_count": 15,
     "metadata": {},
     "output_type": "execute_result"
    }
   ],
   "source": [
    "mask = df['revenue'] > 1e7\n",
    "len(mask)"
   ]
  },
  {
   "cell_type": "code",
   "execution_count": 16,
   "metadata": {},
   "outputs": [],
   "source": [
    "df2 = df[mask]\n",
    "text_input_pred2 = text_input_pred[mask]"
   ]
  },
  {
   "cell_type": "code",
   "execution_count": 17,
   "metadata": {},
   "outputs": [
    {
     "data": {
      "text/plain": [
       "dict_keys(['name', 'year', 'genres', 'pred'])"
      ]
     },
     "execution_count": 17,
     "metadata": {},
     "output_type": "execute_result"
    }
   ],
   "source": [
    "out_data = df2[['name', 'year', 'genres']].to_dict(orient='list')\n",
    "out_data['pred'] = text_input_pred2\n",
    "\n",
    "out_data.keys()"
   ]
  },
  {
   "cell_type": "code",
   "execution_count": 18,
   "metadata": {},
   "outputs": [],
   "source": [
    "pkl.dump([classes, out_data], open(f'{out_dir}/aux_data.pkl', 'wb'))"
   ]
  },
  {
   "cell_type": "code",
   "execution_count": null,
   "metadata": {},
   "outputs": [],
   "source": []
  },
  {
   "cell_type": "code",
   "execution_count": null,
   "metadata": {},
   "outputs": [],
   "source": []
  },
  {
   "cell_type": "code",
   "execution_count": null,
   "metadata": {},
   "outputs": [],
   "source": []
  },
  {
   "cell_type": "markdown",
   "metadata": {},
   "source": [
    "### checking that spoiler database also produces a good f1 micro average"
   ]
  },
  {
   "cell_type": "code",
   "execution_count": 89,
   "metadata": {},
   "outputs": [
    {
     "data": {
      "text/html": [
       "<div>\n",
       "<style scoped>\n",
       "    .dataframe tbody tr th:only-of-type {\n",
       "        vertical-align: middle;\n",
       "    }\n",
       "\n",
       "    .dataframe tbody tr th {\n",
       "        vertical-align: top;\n",
       "    }\n",
       "\n",
       "    .dataframe thead th {\n",
       "        text-align: right;\n",
       "    }\n",
       "</style>\n",
       "<table border=\"1\" class=\"dataframe\">\n",
       "  <thead>\n",
       "    <tr style=\"text-align: right;\">\n",
       "      <th></th>\n",
       "      <th>movie_id</th>\n",
       "      <th>plot_summary</th>\n",
       "      <th>duration</th>\n",
       "      <th>genre</th>\n",
       "      <th>rating</th>\n",
       "      <th>release_date</th>\n",
       "      <th>plot_synopsis</th>\n",
       "      <th>clean</th>\n",
       "    </tr>\n",
       "  </thead>\n",
       "  <tbody>\n",
       "    <tr>\n",
       "      <th>0</th>\n",
       "      <td>tt0105112</td>\n",
       "      <td>Former CIA analyst, Jack Ryan is in England wi...</td>\n",
       "      <td>1h 57min</td>\n",
       "      <td>[Action, Thriller]</td>\n",
       "      <td>6.9</td>\n",
       "      <td>1992-06-05</td>\n",
       "      <td>Jack Ryan (Ford) is on a \"working vacation\" in...</td>\n",
       "      <td>Jack Ryan is on a in London with his family. H...</td>\n",
       "    </tr>\n",
       "    <tr>\n",
       "      <th>1</th>\n",
       "      <td>tt1204975</td>\n",
       "      <td>Billy (Michael Douglas), Paddy (Robert De Niro...</td>\n",
       "      <td>1h 45min</td>\n",
       "      <td>[Comedy]</td>\n",
       "      <td>6.6</td>\n",
       "      <td>2013-11-01</td>\n",
       "      <td>Four boys around the age of 10 are friends in ...</td>\n",
       "      <td>Four boys around the age of 10 are friends in ...</td>\n",
       "    </tr>\n",
       "    <tr>\n",
       "      <th>2</th>\n",
       "      <td>tt0040897</td>\n",
       "      <td>Fred C. Dobbs and Bob Curtin, both down on the...</td>\n",
       "      <td>2h 6min</td>\n",
       "      <td>[Adventure, Drama, Western]</td>\n",
       "      <td>8.3</td>\n",
       "      <td>1948-01-24</td>\n",
       "      <td>Fred Dobbs (Humphrey Bogart) and Bob Curtin (T...</td>\n",
       "      <td>Fred Dobbs and Bob Curtin are down on their lu...</td>\n",
       "    </tr>\n",
       "    <tr>\n",
       "      <th>3</th>\n",
       "      <td>tt0126886</td>\n",
       "      <td>Tracy Flick is running unopposed for this year...</td>\n",
       "      <td>1h 43min</td>\n",
       "      <td>[Comedy, Drama, Romance]</td>\n",
       "      <td>7.3</td>\n",
       "      <td>1999-05-07</td>\n",
       "      <td>Jim McAllister (Matthew Broderick) is a much-a...</td>\n",
       "      <td>Jim McAllister is a much-admired high school h...</td>\n",
       "    </tr>\n",
       "    <tr>\n",
       "      <th>4</th>\n",
       "      <td>tt0286716</td>\n",
       "      <td>Bruce Banner, a brilliant scientist with a clo...</td>\n",
       "      <td>2h 18min</td>\n",
       "      <td>[Action, Sci-Fi]</td>\n",
       "      <td>5.7</td>\n",
       "      <td>2003-06-20</td>\n",
       "      <td>Bruce Banner (Eric Bana) is a research scienti...</td>\n",
       "      <td>Bruce Banner is a research scientist at a Berk...</td>\n",
       "    </tr>\n",
       "    <tr>\n",
       "      <th>...</th>\n",
       "      <td>...</td>\n",
       "      <td>...</td>\n",
       "      <td>...</td>\n",
       "      <td>...</td>\n",
       "      <td>...</td>\n",
       "      <td>...</td>\n",
       "      <td>...</td>\n",
       "      <td>...</td>\n",
       "    </tr>\n",
       "    <tr>\n",
       "      <th>1334</th>\n",
       "      <td>tt0120655</td>\n",
       "      <td>An abortion clinic worker with a special herit...</td>\n",
       "      <td>2h 10min</td>\n",
       "      <td>[Adventure, Comedy, Drama]</td>\n",
       "      <td>7.3</td>\n",
       "      <td>1999-11-12</td>\n",
       "      <td>The film opens with a homeless man (Bud Cort) ...</td>\n",
       "      <td>The film opens with a homeless man on a desert...</td>\n",
       "    </tr>\n",
       "    <tr>\n",
       "      <th>1335</th>\n",
       "      <td>tt0276751</td>\n",
       "      <td>Twelve year old Marcus Brewer lives with his c...</td>\n",
       "      <td>1h 41min</td>\n",
       "      <td>[Comedy, Drama, Romance]</td>\n",
       "      <td>7.1</td>\n",
       "      <td>2002-05-17</td>\n",
       "      <td>Will Freeman (Hugh Grant) is a 38-year-old bac...</td>\n",
       "      <td>Will Freeman is a 38-year-old bachelor who pri...</td>\n",
       "    </tr>\n",
       "    <tr>\n",
       "      <th>1336</th>\n",
       "      <td>tt0289879</td>\n",
       "      <td>Evan Treborn grows up in a small town with his...</td>\n",
       "      <td>1h 53min</td>\n",
       "      <td>[Sci-Fi, Thriller]</td>\n",
       "      <td>7.7</td>\n",
       "      <td>2004-01-23</td>\n",
       "      <td>In the year 1998, Evan Treborn (Ashton Kutcher...</td>\n",
       "      <td>In the year 1998, Evan Treborn who suffered se...</td>\n",
       "    </tr>\n",
       "    <tr>\n",
       "      <th>1337</th>\n",
       "      <td>tt1723811</td>\n",
       "      <td>Brandon is a 30-something man living in New Yo...</td>\n",
       "      <td>1h 41min</td>\n",
       "      <td>[Drama]</td>\n",
       "      <td>7.2</td>\n",
       "      <td>2012-01-13</td>\n",
       "      <td>Brandon (Michael Fassbender) is a successful, ...</td>\n",
       "      <td>Brandon is a successful, handsome thirty-somet...</td>\n",
       "    </tr>\n",
       "    <tr>\n",
       "      <th>1338</th>\n",
       "      <td>tt5013056</td>\n",
       "      <td>Evacuation of Allied soldiers from the British...</td>\n",
       "      <td>1h 46min</td>\n",
       "      <td>[Action, Drama, History]</td>\n",
       "      <td>8.1</td>\n",
       "      <td>2017-07-21</td>\n",
       "      <td>The film alternates between three different pe...</td>\n",
       "      <td>The film alternates between three different pe...</td>\n",
       "    </tr>\n",
       "  </tbody>\n",
       "</table>\n",
       "<p>1339 rows × 8 columns</p>\n",
       "</div>"
      ],
      "text/plain": [
       "       movie_id                                       plot_summary  duration  \\\n",
       "0     tt0105112  Former CIA analyst, Jack Ryan is in England wi...  1h 57min   \n",
       "1     tt1204975  Billy (Michael Douglas), Paddy (Robert De Niro...  1h 45min   \n",
       "2     tt0040897  Fred C. Dobbs and Bob Curtin, both down on the...   2h 6min   \n",
       "3     tt0126886  Tracy Flick is running unopposed for this year...  1h 43min   \n",
       "4     tt0286716  Bruce Banner, a brilliant scientist with a clo...  2h 18min   \n",
       "...         ...                                                ...       ...   \n",
       "1334  tt0120655  An abortion clinic worker with a special herit...  2h 10min   \n",
       "1335  tt0276751  Twelve year old Marcus Brewer lives with his c...  1h 41min   \n",
       "1336  tt0289879  Evan Treborn grows up in a small town with his...  1h 53min   \n",
       "1337  tt1723811  Brandon is a 30-something man living in New Yo...  1h 41min   \n",
       "1338  tt5013056  Evacuation of Allied soldiers from the British...  1h 46min   \n",
       "\n",
       "                            genre rating release_date  \\\n",
       "0              [Action, Thriller]    6.9   1992-06-05   \n",
       "1                        [Comedy]    6.6   2013-11-01   \n",
       "2     [Adventure, Drama, Western]    8.3   1948-01-24   \n",
       "3        [Comedy, Drama, Romance]    7.3   1999-05-07   \n",
       "4                [Action, Sci-Fi]    5.7   2003-06-20   \n",
       "...                           ...    ...          ...   \n",
       "1334   [Adventure, Comedy, Drama]    7.3   1999-11-12   \n",
       "1335     [Comedy, Drama, Romance]    7.1   2002-05-17   \n",
       "1336           [Sci-Fi, Thriller]    7.7   2004-01-23   \n",
       "1337                      [Drama]    7.2   2012-01-13   \n",
       "1338     [Action, Drama, History]    8.1   2017-07-21   \n",
       "\n",
       "                                          plot_synopsis  \\\n",
       "0     Jack Ryan (Ford) is on a \"working vacation\" in...   \n",
       "1     Four boys around the age of 10 are friends in ...   \n",
       "2     Fred Dobbs (Humphrey Bogart) and Bob Curtin (T...   \n",
       "3     Jim McAllister (Matthew Broderick) is a much-a...   \n",
       "4     Bruce Banner (Eric Bana) is a research scienti...   \n",
       "...                                                 ...   \n",
       "1334  The film opens with a homeless man (Bud Cort) ...   \n",
       "1335  Will Freeman (Hugh Grant) is a 38-year-old bac...   \n",
       "1336  In the year 1998, Evan Treborn (Ashton Kutcher...   \n",
       "1337  Brandon (Michael Fassbender) is a successful, ...   \n",
       "1338  The film alternates between three different pe...   \n",
       "\n",
       "                                                  clean  \n",
       "0     Jack Ryan is on a in London with his family. H...  \n",
       "1     Four boys around the age of 10 are friends in ...  \n",
       "2     Fred Dobbs and Bob Curtin are down on their lu...  \n",
       "3     Jim McAllister is a much-admired high school h...  \n",
       "4     Bruce Banner is a research scientist at a Berk...  \n",
       "...                                                 ...  \n",
       "1334  The film opens with a homeless man on a desert...  \n",
       "1335  Will Freeman is a 38-year-old bachelor who pri...  \n",
       "1336  In the year 1998, Evan Treborn who suffered se...  \n",
       "1337  Brandon is a successful, handsome thirty-somet...  \n",
       "1338  The film alternates between three different pe...  \n",
       "\n",
       "[1339 rows x 8 columns]"
      ]
     },
     "execution_count": 89,
     "metadata": {},
     "output_type": "execute_result"
    }
   ],
   "source": [
    "df_imdb = pkl.load(open(f'{tmp_dir}/df_imdb.pkl', 'rb'))\n",
    "df_imdb"
   ]
  },
  {
   "cell_type": "code",
   "execution_count": 90,
   "metadata": {},
   "outputs": [
    {
     "name": "stderr",
     "output_type": "stream",
     "text": [
      "/home/ivv101/miniconda3/envs/p310/lib/python3.10/site-packages/sklearn/preprocessing/_label.py:895: UserWarning: unknown class(es) ['Biography', 'Film-Noir', 'History', 'Music', 'Musical', 'Mystery', 'Sport'] will be ignored\n",
      "  warnings.warn(\n"
     ]
    }
   ],
   "source": [
    "imdb_labels = mlb.transform(df_imdb['genre'])"
   ]
  },
  {
   "cell_type": "code",
   "execution_count": 91,
   "metadata": {},
   "outputs": [
    {
     "name": "stdout",
     "output_type": "stream",
     "text": [
      "42/42 [==============================] - 0s 7ms/step\n"
     ]
    }
   ],
   "source": [
    "y_pred = tf_model.predict(df_imdb['clean'].tolist())"
   ]
  },
  {
   "cell_type": "code",
   "execution_count": 93,
   "metadata": {},
   "outputs": [],
   "source": [
    "new_y_pred = np.where((y_pred.T/y_pred.max(1)).T > 0.95, 1, 0)"
   ]
  },
  {
   "cell_type": "code",
   "execution_count": 94,
   "metadata": {},
   "outputs": [
    {
     "data": {
      "text/plain": [
       "Counter({2: 243, 1: 1076, 3: 20})"
      ]
     },
     "execution_count": 94,
     "metadata": {},
     "output_type": "execute_result"
    }
   ],
   "source": [
    "# from collections import Counter\n",
    "\n",
    "Counter(new_y_pred.sum(1))"
   ]
  },
  {
   "cell_type": "code",
   "execution_count": 95,
   "metadata": {},
   "outputs": [
    {
     "name": "stdout",
     "output_type": "stream",
     "text": [
      "              precision    recall  f1-score   support\n",
      "\n",
      "      Action       0.66      0.38      0.49       394\n",
      "   Adventure       0.68      0.34      0.45       387\n",
      "   Animation       0.36      0.14      0.20        73\n",
      "      Comedy       0.67      0.50      0.57       409\n",
      "       Crime       0.82      0.22      0.35       252\n",
      "       Drama       0.84      0.43      0.57       679\n",
      "      Family       0.44      0.18      0.25       113\n",
      "     Fantasy       0.33      0.04      0.08       161\n",
      "      Horror       0.53      0.49      0.51       102\n",
      "     Romance       0.74      0.15      0.25       194\n",
      "      Sci-Fi       0.62      0.41      0.49       180\n",
      "    Thriller       0.42      0.24      0.30       212\n",
      "         War       0.64      0.30      0.41        23\n",
      "     Western       0.50      0.20      0.29        10\n",
      "\n",
      "   micro avg       0.67      0.34      0.45      3189\n",
      "   macro avg       0.59      0.29      0.37      3189\n",
      "weighted avg       0.67      0.34      0.44      3189\n",
      " samples avg       0.69      0.38      0.46      3189\n",
      "\n"
     ]
    },
    {
     "name": "stderr",
     "output_type": "stream",
     "text": [
      "/home/ivv101/miniconda3/envs/p310/lib/python3.10/site-packages/sklearn/metrics/_classification.py:1344: UndefinedMetricWarning: Recall and F-score are ill-defined and being set to 0.0 in samples with no true labels. Use `zero_division` parameter to control this behavior.\n",
      "  _warn_prf(average, modifier, msg_start, len(result))\n"
     ]
    }
   ],
   "source": [
    "print(classification_report(imdb_labels, \n",
    "                            new_y_pred, \n",
    "                            output_dict=False,\n",
    "                            target_names=classes))"
   ]
  },
  {
   "cell_type": "code",
   "execution_count": 46,
   "metadata": {},
   "outputs": [],
   "source": [
    "# single_genre = lambda y_pred : np.floor((y_pred.T/y_pred.T.max(0)).T).astype(int)"
   ]
  }
 ],
 "metadata": {
  "colab": {
   "name": "text_classification",
   "provenance": [
    {
     "file_id": "https://github.com/keras-team/autokeras/blob/master/docs/ipynb/text_classification.ipynb",
     "timestamp": 1674128743914
    }
   ],
   "toc_visible": true
  },
  "kernelspec": {
   "display_name": "Python [conda env:p310] *",
   "language": "python",
   "name": "conda-env-p310-py"
  },
  "language_info": {
   "codemirror_mode": {
    "name": "ipython",
    "version": 3
   },
   "file_extension": ".py",
   "mimetype": "text/x-python",
   "name": "python",
   "nbconvert_exporter": "python",
   "pygments_lexer": "ipython3",
   "version": "3.10.8"
  }
 },
 "nbformat": 4,
 "nbformat_minor": 4
}
