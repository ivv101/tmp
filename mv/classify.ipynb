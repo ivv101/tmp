{
 "cells": [
  {
   "cell_type": "code",
   "execution_count": 1,
   "metadata": {
    "id": "pUnlnXGt2NET"
   },
   "outputs": [],
   "source": [
    "import os\n",
    "os.environ['TF_CPP_MIN_LOG_LEVEL'] = '3'\n",
    "\n",
    "import argparse\n",
    "\n",
    "import numpy as np\n",
    "import pandas as pd\n",
    "\n",
    "import re\n",
    "\n",
    "import pickle as pkl\n",
    "\n",
    "import sys\n",
    "\n",
    "import tensorflow as tf\n",
    "from tensorflow import keras\n",
    "\n",
    "import autokeras as ak # !pip install autokeras"
   ]
  },
  {
   "cell_type": "code",
   "execution_count": 2,
   "metadata": {},
   "outputs": [],
   "source": [
    "def is_interactive():\n",
    "    import __main__ as main\n",
    "    return not hasattr(main, '__file__')\n",
    "\n",
    "# print('interactive? ', is_interactive())"
   ]
  },
  {
   "cell_type": "code",
   "execution_count": 3,
   "metadata": {},
   "outputs": [],
   "source": [
    "out_dir = 'out' # folder containing the model and other files needed for classification\n",
    "\n",
    "classes, aux_data = pkl.load(open(f'{out_dir}/aux_data.pkl', 'rb'))"
   ]
  },
  {
   "cell_type": "code",
   "execution_count": 4,
   "metadata": {},
   "outputs": [
    {
     "data": {
      "text/plain": [
       "_StoreAction(option_strings=[], dest='filename', nargs=None, const=None, default=None, type=None, choices=None, required=True, help=None, metavar=None)"
      ]
     },
     "execution_count": 4,
     "metadata": {},
     "output_type": "execute_result"
    }
   ],
   "source": [
    "parser = argparse.ArgumentParser(description='Movie Classifier',\n",
    "                                 epilog=f\"Classifies movies into {len(classes)} genres: {', '.join(classes)}\",\n",
    "                                 add_help=True)\n",
    "\n",
    "parser.add_argument('filename')"
   ]
  },
  {
   "cell_type": "code",
   "execution_count": 5,
   "metadata": {},
   "outputs": [],
   "source": [
    "if is_interactive():\n",
    "    # input_text = 'successful NUMA node read from SysFS had negative value (-1), but there must be at least one NUMA node, so returning NUMA node zero'\n",
    "    args = ['test.txt']\n",
    "else: \n",
    "    args = sys.argv[1:]    \n",
    "    \n",
    "prs = parser.parse_args(args)\n",
    "\n",
    "with open(prs.filename, 'rt') as f:\n",
    "    input_text = f.read()"
   ]
  },
  {
   "cell_type": "code",
   "execution_count": 6,
   "metadata": {},
   "outputs": [],
   "source": [
    "cleaners = {\n",
    "    'text_num': lambda _ : re.sub(r'\\S*[^a-zA-Z\\s\\.\\,0-9-]+\\S*', '', _),\n",
    "    'caps_words': lambda _ : re.sub(r'\\S*[A-Z]+\\S*', '', _),\n",
    "    'punct': lambda _ : re.sub(r'[^\\w\\s]+', '', _),\n",
    "    'numbers': lambda _ : re.sub(r'[0-9]+', '', _),\n",
    "    'spaces': lambda _ : re.sub(r'\\s+', ' ', _),\n",
    "    'space_comma': lambda _ : re.sub(r'\\s,', ',', _),\n",
    "    'space_period': lambda _ : re.sub(r'\\s\\.', '.', _)\n",
    "}"
   ]
  },
  {
   "cell_type": "code",
   "execution_count": 7,
   "metadata": {},
   "outputs": [],
   "source": [
    "def clean(text):\n",
    "    \n",
    "    for k in ['text_num', 'spaces', 'space_comma', 'space_period']:\n",
    "        \n",
    "        text = cleaners[k](text)\n",
    "        \n",
    "    return text    "
   ]
  },
  {
   "cell_type": "code",
   "execution_count": 8,
   "metadata": {},
   "outputs": [],
   "source": [
    "cleaned_input_text = clean(input_text)"
   ]
  },
  {
   "cell_type": "code",
   "execution_count": 9,
   "metadata": {},
   "outputs": [],
   "source": [
    "tf_model = keras.models.load_model(f'{out_dir}/tf_model', custom_objects=ak.CUSTOM_OBJECTS)"
   ]
  },
  {
   "cell_type": "code",
   "execution_count": 10,
   "metadata": {},
   "outputs": [],
   "source": [
    "pred = tf_model.predict([cleaned_input_text], verbose=0)[0]"
   ]
  },
  {
   "cell_type": "code",
   "execution_count": 11,
   "metadata": {},
   "outputs": [],
   "source": [
    "mask = pred/pred.max() > 0.95"
   ]
  },
  {
   "cell_type": "markdown",
   "metadata": {},
   "source": [
    "### choosing 5 most similar movies based on cosine similarities (>0.9) of the predictions."
   ]
  },
  {
   "cell_type": "code",
   "execution_count": 12,
   "metadata": {},
   "outputs": [],
   "source": [
    "cossim = lambda a, b : np.dot(a, b)/(np.linalg.norm(a)*np.linalg.norm(b))\n",
    "\n",
    "sim = np.array([-cossim(_, pred) for _ in aux_data['pred']])\n",
    "\n",
    "idx = np.argsort(sim)[:5]\n",
    "\n",
    "idx = idx[-sim[idx] > 0.9]"
   ]
  },
  {
   "cell_type": "code",
   "execution_count": 13,
   "metadata": {},
   "outputs": [],
   "source": [
    "scores = '/'.join([f'{_:.2f}' for _ in pred[mask]])"
   ]
  },
  {
   "cell_type": "code",
   "execution_count": 14,
   "metadata": {},
   "outputs": [
    {
     "name": "stdout",
     "output_type": "stream",
     "text": [
      "\n",
      "Genre: Comedy (0.81)\n",
      "Similar Movies:\n",
      "1. Josie and the Pussycats (2001) Comedy/Musical\n",
      "2. Drillbit Taylor (2008) Comedy\n",
      "3. Jay and Silent Bob Strike Back (2001) Comedy\n",
      "4. Bio-Dome (1996) Comedy\n",
      "5. Still Smokin' (1983) Comedy\n",
      "\n"
     ]
    }
   ],
   "source": [
    "out_text = f\"\\nGenre: {'/'.join(classes[mask])} ({scores})\\nSimilar Movies:\\n\"\n",
    "\n",
    "for i, j in enumerate(idx, start=1):\n",
    "    \n",
    "    out_text += f\"{i}. {aux_data['name'][j]} ({aux_data['year'][j]}) {'/'.join(aux_data['genres'][j])}\\n\"\n",
    "    \n",
    "print(out_text)    "
   ]
  },
  {
   "cell_type": "code",
   "execution_count": null,
   "metadata": {},
   "outputs": [],
   "source": []
  }
 ],
 "metadata": {
  "colab": {
   "name": "text_classification",
   "provenance": [
    {
     "file_id": "https://github.com/keras-team/autokeras/blob/master/docs/ipynb/text_classification.ipynb",
     "timestamp": 1674128743914
    }
   ],
   "toc_visible": true
  },
  "kernelspec": {
   "display_name": "Python [conda env:movie_classifier]",
   "language": "python",
   "name": "conda-env-movie_classifier-py"
  },
  "language_info": {
   "codemirror_mode": {
    "name": "ipython",
    "version": 3
   },
   "file_extension": ".py",
   "mimetype": "text/x-python",
   "name": "python",
   "nbconvert_exporter": "python",
   "pygments_lexer": "ipython3",
   "version": "3.10.8"
  }
 },
 "nbformat": 4,
 "nbformat_minor": 4
}
