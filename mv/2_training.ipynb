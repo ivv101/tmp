{
 "cells": [
  {
   "cell_type": "code",
   "execution_count": 1,
   "metadata": {
    "id": "pUnlnXGt2NET"
   },
   "outputs": [
    {
     "name": "stderr",
     "output_type": "stream",
     "text": [
      "2023-01-24 06:35:47.153843: I tensorflow/core/platform/cpu_feature_guard.cc:193] This TensorFlow binary is optimized with oneAPI Deep Neural Network Library (oneDNN) to use the following CPU instructions in performance-critical operations:  AVX2 FMA\n",
      "To enable them in other operations, rebuild TensorFlow with the appropriate compiler flags.\n"
     ]
    },
    {
     "name": "stdout",
     "output_type": "stream",
     "text": [
      "INFO: Pandarallel will run on 8 workers.\n",
      "INFO: Pandarallel will use standard multiprocessing data transfer (pipe) to transfer data between the main process and workers.\n"
     ]
    }
   ],
   "source": [
    "import numpy as np\n",
    "import pandas as pd\n",
    "\n",
    "import os\n",
    "import pickle as pkl\n",
    "import re\n",
    "\n",
    "import tensorflow as tf\n",
    "from tensorflow import keras\n",
    "from tensorflow.keras.callbacks import EarlyStopping\n",
    "\n",
    "from sklearn.preprocessing import MultiLabelBinarizer\n",
    "\n",
    "from sklearn.model_selection import train_test_split\n",
    "\n",
    "from sklearn.metrics import classification_report\n",
    "\n",
    "import autokeras as ak # !pip install autokeras\n",
    "\n",
    "import json\n",
    "\n",
    "from pandarallel import pandarallel\n",
    "pandarallel.initialize(progress_bar=False)"
   ]
  },
  {
   "cell_type": "code",
   "execution_count": 2,
   "metadata": {},
   "outputs": [],
   "source": [
    "SEED = 321 #434"
   ]
  },
  {
   "cell_type": "code",
   "execution_count": 3,
   "metadata": {},
   "outputs": [],
   "source": [
    "use_cache = True\n",
    "\n",
    "data_dir = 'data' # folder containing original datasets\n",
    "tmp_dir = 'tmp' # temporal folder containing intermediate results of Jupyter notebooks\n",
    "out_dir = 'out' # folder containing the model and other files needed for classification"
   ]
  },
  {
   "cell_type": "code",
   "execution_count": 4,
   "metadata": {},
   "outputs": [],
   "source": [
    "if not os.path.exists(out_dir):\n",
    "    os.mkdir(out_dir)"
   ]
  },
  {
   "cell_type": "code",
   "execution_count": 5,
   "metadata": {},
   "outputs": [],
   "source": [
    "df = pkl.load(open(f'{tmp_dir}/data.pkl', 'rb'))"
   ]
  },
  {
   "cell_type": "code",
   "execution_count": 6,
   "metadata": {},
   "outputs": [],
   "source": [
    "def remove_labels(df, labels, in_col='genres', out_col='genres2'):\n",
    "    \n",
    "    if type(labels)==str:\n",
    "        labels = [labels]\n",
    "        \n",
    "    df[out_col] = [sorted(list(set(_).difference(set(labels)))) for _ in df[in_col]]\n",
    "    \n",
    "    return df"
   ]
  },
  {
   "cell_type": "markdown",
   "metadata": {},
   "source": [
    "### Let us remove genres that have <1000 entries as well as 'Musical', 'Mystery', and 'Biography' (they were found to be poorly perfoming in training, which makes sense)."
   ]
  },
  {
   "cell_type": "code",
   "execution_count": 7,
   "metadata": {},
   "outputs": [
    {
     "data": {
      "text/plain": [
       "{'Biography', 'Film-Noir', 'History', 'Music', 'Musical', 'Mystery', 'Sport'}"
      ]
     },
     "execution_count": 7,
     "metadata": {},
     "output_type": "execute_result"
    }
   ],
   "source": [
    "labels, abund = np.unique(np.concatenate(df['genres'].tolist()), return_counts=True)\n",
    "        \n",
    "to_remove = set(labels[np.where(abund<1000)[0]])\n",
    "to_remove = to_remove.union({'Musical', 'Mystery', 'Biography'})\n",
    "\n",
    "to_remove"
   ]
  },
  {
   "cell_type": "code",
   "execution_count": 8,
   "metadata": {},
   "outputs": [
    {
     "data": {
      "text/html": [
       "<div>\n",
       "<style scoped>\n",
       "    .dataframe tbody tr th:only-of-type {\n",
       "        vertical-align: middle;\n",
       "    }\n",
       "\n",
       "    .dataframe tbody tr th {\n",
       "        vertical-align: top;\n",
       "    }\n",
       "\n",
       "    .dataframe thead th {\n",
       "        text-align: right;\n",
       "    }\n",
       "</style>\n",
       "<table border=\"1\" class=\"dataframe\">\n",
       "  <thead>\n",
       "    <tr style=\"text-align: right;\">\n",
       "      <th></th>\n",
       "      <th>name</th>\n",
       "      <th>year</th>\n",
       "      <th>revenue</th>\n",
       "      <th>genres</th>\n",
       "      <th>synopsis</th>\n",
       "      <th>clean</th>\n",
       "      <th>genres2</th>\n",
       "    </tr>\n",
       "    <tr>\n",
       "      <th>wiki_id</th>\n",
       "      <th></th>\n",
       "      <th></th>\n",
       "      <th></th>\n",
       "      <th></th>\n",
       "      <th></th>\n",
       "      <th></th>\n",
       "      <th></th>\n",
       "    </tr>\n",
       "  </thead>\n",
       "  <tbody>\n",
       "    <tr>\n",
       "      <th>23890098</th>\n",
       "      <td>Taxi Blues</td>\n",
       "      <td>1990</td>\n",
       "      <td>NaN</td>\n",
       "      <td>[Drama]</td>\n",
       "      <td>Shlykov, a hard-working taxi driver and Lyosha...</td>\n",
       "      <td>Shlykov, a hard-working taxi driver and Lyosha...</td>\n",
       "      <td>[Drama]</td>\n",
       "    </tr>\n",
       "    <tr>\n",
       "      <th>31186339</th>\n",
       "      <td>The Hunger Games</td>\n",
       "      <td>2012</td>\n",
       "      <td>686533290.0</td>\n",
       "      <td>[Action, Adventure, Drama, Sci-Fi]</td>\n",
       "      <td>The nation of Panem consists of a wealthy Capi...</td>\n",
       "      <td>The nation of Panem consists of a wealthy Capi...</td>\n",
       "      <td>[Action, Adventure, Drama, Sci-Fi]</td>\n",
       "    </tr>\n",
       "    <tr>\n",
       "      <th>20663735</th>\n",
       "      <td>Narasimham</td>\n",
       "      <td>2000</td>\n",
       "      <td>NaN</td>\n",
       "      <td>[Action, Drama, Musical]</td>\n",
       "      <td>Poovalli Induchoodan  is sentenced for six yea...</td>\n",
       "      <td>Poovalli Induchoodan is sentenced for six year...</td>\n",
       "      <td>[Action, Drama]</td>\n",
       "    </tr>\n",
       "    <tr>\n",
       "      <th>2231378</th>\n",
       "      <td>The Lemon Drop Kid</td>\n",
       "      <td>1951</td>\n",
       "      <td>2300000.0</td>\n",
       "      <td>[Comedy]</td>\n",
       "      <td>The Lemon Drop Kid , a New York City swindler,...</td>\n",
       "      <td>The Lemon Drop Kid, a New York City swindler, ...</td>\n",
       "      <td>[Comedy]</td>\n",
       "    </tr>\n",
       "    <tr>\n",
       "      <th>595909</th>\n",
       "      <td>A Cry in the Dark</td>\n",
       "      <td>1988</td>\n",
       "      <td>6908797.0</td>\n",
       "      <td>[Crime, Drama]</td>\n",
       "      <td>Seventh-day Adventist Church pastor Michael Ch...</td>\n",
       "      <td>Seventh-day Adventist Church pastor Michael Ch...</td>\n",
       "      <td>[Crime, Drama]</td>\n",
       "    </tr>\n",
       "    <tr>\n",
       "      <th>...</th>\n",
       "      <td>...</td>\n",
       "      <td>...</td>\n",
       "      <td>...</td>\n",
       "      <td>...</td>\n",
       "      <td>...</td>\n",
       "      <td>...</td>\n",
       "      <td>...</td>\n",
       "    </tr>\n",
       "    <tr>\n",
       "      <th>2867597</th>\n",
       "      <td>Mr. Bill's Real Life Adventures</td>\n",
       "      <td>1986</td>\n",
       "      <td>NaN</td>\n",
       "      <td>[Comedy]</td>\n",
       "      <td>An attempt to bring the famed \"Mr. Bill\" clay ...</td>\n",
       "      <td>An attempt to bring the famed clay characters ...</td>\n",
       "      <td>[Comedy]</td>\n",
       "    </tr>\n",
       "    <tr>\n",
       "      <th>1096473</th>\n",
       "      <td>The Last Command</td>\n",
       "      <td>1928</td>\n",
       "      <td>NaN</td>\n",
       "      <td>[Drama, War]</td>\n",
       "      <td>In 1928 Hollywood, director Leo Andreyev  look...</td>\n",
       "      <td>In 1928 Hollywood, director Leo Andreyev looks...</td>\n",
       "      <td>[Drama, War]</td>\n",
       "    </tr>\n",
       "    <tr>\n",
       "      <th>35102018</th>\n",
       "      <td>Randy Parsons: American Luthier</td>\n",
       "      <td>2011</td>\n",
       "      <td>NaN</td>\n",
       "      <td>[Biography, Music]</td>\n",
       "      <td>American Luthier focuses on Randy Parsons’ tra...</td>\n",
       "      <td>American Luthier focuses on Randy transformati...</td>\n",
       "      <td>[]</td>\n",
       "    </tr>\n",
       "    <tr>\n",
       "      <th>8628195</th>\n",
       "      <td>Kabuliwala</td>\n",
       "      <td>1961</td>\n",
       "      <td>NaN</td>\n",
       "      <td>[Drama]</td>\n",
       "      <td>Abdur Rehman Khan , a middle-aged dry fruit se...</td>\n",
       "      <td>Abdur Rehman Khan, a middle-aged dry fruit sel...</td>\n",
       "      <td>[Drama]</td>\n",
       "    </tr>\n",
       "    <tr>\n",
       "      <th>6040782</th>\n",
       "      <td>Dad's Army</td>\n",
       "      <td>1971</td>\n",
       "      <td>NaN</td>\n",
       "      <td>[Comedy]</td>\n",
       "      <td>1940 - Operation Dynamo has just taken place. ...</td>\n",
       "      <td>1940 - Operation Dynamo has just taken place. ...</td>\n",
       "      <td>[Comedy]</td>\n",
       "    </tr>\n",
       "  </tbody>\n",
       "</table>\n",
       "<p>39086 rows × 7 columns</p>\n",
       "</div>"
      ],
      "text/plain": [
       "                                     name  year      revenue  \\\n",
       "wiki_id                                                        \n",
       "23890098                       Taxi Blues  1990          NaN   \n",
       "31186339                 The Hunger Games  2012  686533290.0   \n",
       "20663735                       Narasimham  2000          NaN   \n",
       "2231378                The Lemon Drop Kid  1951    2300000.0   \n",
       "595909                  A Cry in the Dark  1988    6908797.0   \n",
       "...                                   ...   ...          ...   \n",
       "2867597   Mr. Bill's Real Life Adventures  1986          NaN   \n",
       "1096473                  The Last Command  1928          NaN   \n",
       "35102018  Randy Parsons: American Luthier  2011          NaN   \n",
       "8628195                        Kabuliwala  1961          NaN   \n",
       "6040782                        Dad's Army  1971          NaN   \n",
       "\n",
       "                                      genres  \\\n",
       "wiki_id                                        \n",
       "23890098                             [Drama]   \n",
       "31186339  [Action, Adventure, Drama, Sci-Fi]   \n",
       "20663735            [Action, Drama, Musical]   \n",
       "2231378                             [Comedy]   \n",
       "595909                        [Crime, Drama]   \n",
       "...                                      ...   \n",
       "2867597                             [Comedy]   \n",
       "1096473                         [Drama, War]   \n",
       "35102018                  [Biography, Music]   \n",
       "8628195                              [Drama]   \n",
       "6040782                             [Comedy]   \n",
       "\n",
       "                                                   synopsis  \\\n",
       "wiki_id                                                       \n",
       "23890098  Shlykov, a hard-working taxi driver and Lyosha...   \n",
       "31186339  The nation of Panem consists of a wealthy Capi...   \n",
       "20663735  Poovalli Induchoodan  is sentenced for six yea...   \n",
       "2231378   The Lemon Drop Kid , a New York City swindler,...   \n",
       "595909    Seventh-day Adventist Church pastor Michael Ch...   \n",
       "...                                                     ...   \n",
       "2867597   An attempt to bring the famed \"Mr. Bill\" clay ...   \n",
       "1096473   In 1928 Hollywood, director Leo Andreyev  look...   \n",
       "35102018  American Luthier focuses on Randy Parsons’ tra...   \n",
       "8628195   Abdur Rehman Khan , a middle-aged dry fruit se...   \n",
       "6040782   1940 - Operation Dynamo has just taken place. ...   \n",
       "\n",
       "                                                      clean  \\\n",
       "wiki_id                                                       \n",
       "23890098  Shlykov, a hard-working taxi driver and Lyosha...   \n",
       "31186339  The nation of Panem consists of a wealthy Capi...   \n",
       "20663735  Poovalli Induchoodan is sentenced for six year...   \n",
       "2231378   The Lemon Drop Kid, a New York City swindler, ...   \n",
       "595909    Seventh-day Adventist Church pastor Michael Ch...   \n",
       "...                                                     ...   \n",
       "2867597   An attempt to bring the famed clay characters ...   \n",
       "1096473   In 1928 Hollywood, director Leo Andreyev looks...   \n",
       "35102018  American Luthier focuses on Randy transformati...   \n",
       "8628195   Abdur Rehman Khan, a middle-aged dry fruit sel...   \n",
       "6040782   1940 - Operation Dynamo has just taken place. ...   \n",
       "\n",
       "                                     genres2  \n",
       "wiki_id                                       \n",
       "23890098                             [Drama]  \n",
       "31186339  [Action, Adventure, Drama, Sci-Fi]  \n",
       "20663735                     [Action, Drama]  \n",
       "2231378                             [Comedy]  \n",
       "595909                        [Crime, Drama]  \n",
       "...                                      ...  \n",
       "2867597                             [Comedy]  \n",
       "1096473                         [Drama, War]  \n",
       "35102018                                  []  \n",
       "8628195                              [Drama]  \n",
       "6040782                             [Comedy]  \n",
       "\n",
       "[39086 rows x 7 columns]"
      ]
     },
     "execution_count": 8,
     "metadata": {},
     "output_type": "execute_result"
    }
   ],
   "source": [
    "df = remove_labels(df, to_remove)\n",
    "df"
   ]
  },
  {
   "cell_type": "code",
   "execution_count": 9,
   "metadata": {},
   "outputs": [],
   "source": [
    "# from collections import Counter\n",
    "# Counter([len(_) for _ in df['genres2']])"
   ]
  },
  {
   "cell_type": "markdown",
   "metadata": {},
   "source": [
    "### Binarizing labels for multi-label classification with Autokeras' TextClassifier model. It appears to be the simplest method that provided good f1 micro scores. Also, it does not require a heavy cleaning of the input such as stemming.\n",
    "\n",
    "### Other models could include Bidirectional LSTM layers, or RoBERTa transformer model. Also one could fine-tune a pretrained model that calculates a semantic similarity between texts on pairs (synopsis, genres)."
   ]
  },
  {
   "cell_type": "code",
   "execution_count": 10,
   "metadata": {},
   "outputs": [
    {
     "data": {
      "text/plain": [
       "(array(['Action', 'Adventure', 'Animation', 'Comedy', 'Crime', 'Drama',\n",
       "        'Family', 'Fantasy', 'Horror', 'Romance', 'Sci-Fi', 'Thriller',\n",
       "        'War', 'Western'], dtype=object),\n",
       " (39086, 14))"
      ]
     },
     "execution_count": 10,
     "metadata": {},
     "output_type": "execute_result"
    }
   ],
   "source": [
    "mlb = MultiLabelBinarizer()\n",
    "labels = mlb.fit_transform(df['genres2'])\n",
    "classes = mlb.classes_\n",
    "\n",
    "classes, labels.shape"
   ]
  },
  {
   "cell_type": "code",
   "execution_count": 11,
   "metadata": {},
   "outputs": [],
   "source": [
    "text_input = df['clean'].to_numpy()\n",
    "\n",
    "x_train, x_test, y_train, y_test = train_test_split(text_input, labels, test_size=0.2, random_state=SEED)"
   ]
  },
  {
   "cell_type": "code",
   "execution_count": 12,
   "metadata": {},
   "outputs": [
    {
     "name": "stderr",
     "output_type": "stream",
     "text": [
      "2023-01-24 06:36:32.657235: I tensorflow/core/platform/cpu_feature_guard.cc:193] This TensorFlow binary is optimized with oneAPI Deep Neural Network Library (oneDNN) to use the following CPU instructions in performance-critical operations:  AVX2 FMA\n",
      "To enable them in other operations, rebuild TensorFlow with the appropriate compiler flags.\n"
     ]
    }
   ],
   "source": [
    "METRICS = [\n",
    "    keras.metrics.CategoricalAccuracy(name='accuracy'),\n",
    "    keras.metrics.Precision(name='precision'),\n",
    "    keras.metrics.Recall(name='recall'),\n",
    "]"
   ]
  },
  {
   "cell_type": "code",
   "execution_count": 13,
   "metadata": {
    "id": "aq55Ba1_2NEW"
   },
   "outputs": [],
   "source": [
    "ak_model = ak.TextClassifier(\n",
    "    multi_label=True,\n",
    "    overwrite=True, \n",
    "    max_trials=1,\n",
    "    project_name='ak_model_14_vanilla',\n",
    "    metrics=METRICS,\n",
    "    seed=SEED\n",
    ") "
   ]
  },
  {
   "cell_type": "code",
   "execution_count": null,
   "metadata": {
    "id": "aq55Ba1_2NEW"
   },
   "outputs": [],
   "source": [
    "%time history = ak_model.fit(x_train, y_train, epochs=10)"
   ]
  },
  {
   "cell_type": "code",
   "execution_count": 60,
   "metadata": {},
   "outputs": [
    {
     "name": "stdout",
     "output_type": "stream",
     "text": [
      "Model: \"model\"\n",
      "_________________________________________________________________\n",
      " Layer (type)                Output Shape              Param #   \n",
      "=================================================================\n",
      " input_1 (InputLayer)        [(None,)]                 0         \n",
      "                                                                 \n",
      " expand_last_dim (ExpandLast  (None, 1)                0         \n",
      " Dim)                                                            \n",
      "                                                                 \n",
      " text_vectorization (TextVec  (None, 512)              0         \n",
      " torization)                                                     \n",
      "                                                                 \n",
      " embedding (Embedding)       (None, 512, 64)           320064    \n",
      "                                                                 \n",
      " dropout (Dropout)           (None, 512, 64)           0         \n",
      "                                                                 \n",
      " conv1d (Conv1D)             (None, 508, 256)          82176     \n",
      "                                                                 \n",
      " global_max_pooling1d (Globa  (None, 256)              0         \n",
      " lMaxPooling1D)                                                  \n",
      "                                                                 \n",
      " dense (Dense)               (None, 256)               65792     \n",
      "                                                                 \n",
      " re_lu (ReLU)                (None, 256)               0         \n",
      "                                                                 \n",
      " dropout_1 (Dropout)         (None, 256)               0         \n",
      "                                                                 \n",
      " dense_1 (Dense)             (None, 14)                3598      \n",
      "                                                                 \n",
      " classification_head_1 (Acti  (None, 14)               0         \n",
      " vation)                                                         \n",
      "                                                                 \n",
      "=================================================================\n",
      "Total params: 471,630\n",
      "Trainable params: 471,630\n",
      "Non-trainable params: 0\n",
      "_________________________________________________________________\n"
     ]
    }
   ],
   "source": [
    "tf_model = ak_model.export_model()\n",
    "tf_model.summary()"
   ]
  },
  {
   "cell_type": "code",
   "execution_count": 82,
   "metadata": {},
   "outputs": [
    {
     "name": "stdout",
     "output_type": "stream",
     "text": [
      "245/245 [==============================] - 1s 3ms/step\n"
     ]
    }
   ],
   "source": [
    "y_pred = tf_model.predict(x_test)"
   ]
  },
  {
   "cell_type": "markdown",
   "metadata": {},
   "source": [
    "### We chose a threshold of 0.95 for a prediction array normalized by its maximum value in order to allow for multiple genres"
   ]
  },
  {
   "cell_type": "code",
   "execution_count": 83,
   "metadata": {},
   "outputs": [],
   "source": [
    "new_y_pred = np.where((y_pred.T/y_pred.max(1)).T > 0.95, 1, 0)"
   ]
  },
  {
   "cell_type": "code",
   "execution_count": 84,
   "metadata": {},
   "outputs": [
    {
     "data": {
      "text/plain": [
       "Counter({1: 6702, 2: 1020, 3: 93, 4: 3})"
      ]
     },
     "execution_count": 84,
     "metadata": {},
     "output_type": "execute_result"
    }
   ],
   "source": [
    "from collections import Counter\n",
    "\n",
    "Counter(new_y_pred.sum(1))"
   ]
  },
  {
   "cell_type": "markdown",
   "metadata": {},
   "source": [
    "### f1 micro avg is 0.47. "
   ]
  },
  {
   "cell_type": "code",
   "execution_count": 85,
   "metadata": {},
   "outputs": [
    {
     "name": "stdout",
     "output_type": "stream",
     "text": [
      "              precision    recall  f1-score   support\n",
      "\n",
      "      Action       0.56      0.43      0.49      1389\n",
      "   Adventure       0.52      0.19      0.28      1245\n",
      "   Animation       0.69      0.49      0.57       521\n",
      "      Comedy       0.65      0.42      0.51      2514\n",
      "       Crime       0.60      0.22      0.33      1022\n",
      "       Drama       0.76      0.58      0.66      4000\n",
      "      Family       0.66      0.14      0.24       795\n",
      "     Fantasy       0.49      0.07      0.12       431\n",
      "      Horror       0.74      0.57      0.65       846\n",
      "     Romance       0.64      0.12      0.21      1467\n",
      "      Sci-Fi       0.68      0.38      0.49       471\n",
      "    Thriller       0.59      0.20      0.29      1417\n",
      "         War       0.75      0.19      0.31       315\n",
      "     Western       0.80      0.31      0.44       236\n",
      "\n",
      "   micro avg       0.67      0.37      0.47     16669\n",
      "   macro avg       0.65      0.31      0.40     16669\n",
      "weighted avg       0.66      0.37      0.45     16669\n",
      " samples avg       0.69      0.42      0.49     16669\n",
      "\n"
     ]
    },
    {
     "name": "stderr",
     "output_type": "stream",
     "text": [
      "/home/ivv101/miniconda3/envs/p310/lib/python3.10/site-packages/sklearn/metrics/_classification.py:1344: UndefinedMetricWarning: Recall and F-score are ill-defined and being set to 0.0 in samples with no true labels. Use `zero_division` parameter to control this behavior.\n",
      "  _warn_prf(average, modifier, msg_start, len(result))\n"
     ]
    }
   ],
   "source": [
    "print(classification_report(y_test, \n",
    "                            new_y_pred, \n",
    "                            output_dict=False,\n",
    "                            target_names=classes))"
   ]
  },
  {
   "cell_type": "code",
   "execution_count": 2,
   "metadata": {},
   "outputs": [],
   "source": [
    "# np.sum(y_test * new_y_pred)/len(y_test)"
   ]
  },
  {
   "cell_type": "code",
   "execution_count": 87,
   "metadata": {},
   "outputs": [],
   "source": [
    "# new_y_pred.sum(0).astype(int), np.unique(new_y_pred.sum(1).astype(int))"
   ]
  },
  {
   "cell_type": "code",
   "execution_count": 62,
   "metadata": {},
   "outputs": [
    {
     "name": "stderr",
     "output_type": "stream",
     "text": [
      "WARNING:absl:Found untraced functions such as _jit_compiled_convolution_op, _update_step_xla while saving (showing 2 of 2). These functions will not be directly callable after loading.\n"
     ]
    },
    {
     "name": "stdout",
     "output_type": "stream",
     "text": [
      "INFO:tensorflow:Assets written to: out/tf_model/assets\n"
     ]
    },
    {
     "name": "stderr",
     "output_type": "stream",
     "text": [
      "INFO:tensorflow:Assets written to: out/tf_model/assets\n"
     ]
    },
    {
     "name": "stdout",
     "output_type": "stream",
     "text": [
      "CPU times: user 739 ms, sys: 16.6 ms, total: 756 ms\n",
      "Wall time: 751 ms\n"
     ]
    }
   ],
   "source": [
    "tf_model.save(f'{out_dir}/tf_model')"
   ]
  },
  {
   "cell_type": "markdown",
   "metadata": {},
   "source": [
    "### In order to choose similar moview, we compute predictions for each movie with revenue > $10 million."
   ]
  },
  {
   "cell_type": "code",
   "execution_count": 13,
   "metadata": {},
   "outputs": [
    {
     "name": "stderr",
     "output_type": "stream",
     "text": [
      "2023-01-23 08:59:14.896054: I tensorflow/compiler/xla/stream_executor/cuda/cuda_dnn.cc:428] Loaded cuDNN version 8401\n"
     ]
    },
    {
     "name": "stdout",
     "output_type": "stream",
     "text": [
      "  56/1222 [>.............................] - ETA: 3s"
     ]
    },
    {
     "name": "stderr",
     "output_type": "stream",
     "text": [
      "2023-01-23 08:59:15.956849: I tensorflow/compiler/xla/stream_executor/cuda/cuda_blas.cc:630] TensorFloat-32 will be used for the matrix multiplication. This will only be logged once.\n"
     ]
    },
    {
     "name": "stdout",
     "output_type": "stream",
     "text": [
      "1222/1222 [==============================] - 6s 4ms/step\n"
     ]
    }
   ],
   "source": [
    "text_input_pred = tf_model.predict(text_input)"
   ]
  },
  {
   "cell_type": "code",
   "execution_count": 15,
   "metadata": {},
   "outputs": [
    {
     "data": {
      "text/plain": [
       "39086"
      ]
     },
     "execution_count": 15,
     "metadata": {},
     "output_type": "execute_result"
    }
   ],
   "source": [
    "mask = df['revenue'] > 1e7\n",
    "len(mask)"
   ]
  },
  {
   "cell_type": "code",
   "execution_count": 16,
   "metadata": {},
   "outputs": [],
   "source": [
    "df2 = df[mask]\n",
    "text_input_pred2 = text_input_pred[mask]"
   ]
  },
  {
   "cell_type": "code",
   "execution_count": 17,
   "metadata": {},
   "outputs": [
    {
     "data": {
      "text/plain": [
       "dict_keys(['name', 'year', 'genres', 'pred'])"
      ]
     },
     "execution_count": 17,
     "metadata": {},
     "output_type": "execute_result"
    }
   ],
   "source": [
    "out_data = df2[['name', 'year', 'genres']].to_dict(orient='list')\n",
    "out_data['pred'] = text_input_pred2\n",
    "\n",
    "out_data.keys()"
   ]
  },
  {
   "cell_type": "code",
   "execution_count": 18,
   "metadata": {},
   "outputs": [],
   "source": [
    "pkl.dump([classes, out_data], open(f'{out_dir}/aux_data.pkl', 'wb'))"
   ]
  },
  {
   "cell_type": "code",
   "execution_count": null,
   "metadata": {},
   "outputs": [],
   "source": []
  },
  {
   "cell_type": "code",
   "execution_count": null,
   "metadata": {},
   "outputs": [],
   "source": []
  },
  {
   "cell_type": "code",
   "execution_count": null,
   "metadata": {},
   "outputs": [],
   "source": []
  },
  {
   "cell_type": "markdown",
   "metadata": {},
   "source": [
    "### checking that spoiler database also produces a good f1 micro average"
   ]
  },
  {
   "cell_type": "code",
   "execution_count": 89,
   "metadata": {},
   "outputs": [
    {
     "data": {
      "text/html": [
       "<div>\n",
       "<style scoped>\n",
       "    .dataframe tbody tr th:only-of-type {\n",
       "        vertical-align: middle;\n",
       "    }\n",
       "\n",
       "    .dataframe tbody tr th {\n",
       "        vertical-align: top;\n",
       "    }\n",
       "\n",
       "    .dataframe thead th {\n",
       "        text-align: right;\n",
       "    }\n",
       "</style>\n",
       "<table border=\"1\" class=\"dataframe\">\n",
       "  <thead>\n",
       "    <tr style=\"text-align: right;\">\n",
       "      <th></th>\n",
       "      <th>movie_id</th>\n",
       "      <th>plot_summary</th>\n",
       "      <th>duration</th>\n",
       "      <th>genre</th>\n",
       "      <th>rating</th>\n",
       "      <th>release_date</th>\n",
       "      <th>plot_synopsis</th>\n",
       "      <th>clean</th>\n",
       "    </tr>\n",
       "  </thead>\n",
       "  <tbody>\n",
       "    <tr>\n",
       "      <th>0</th>\n",
       "      <td>tt0105112</td>\n",
       "      <td>Former CIA analyst, Jack Ryan is in England wi...</td>\n",
       "      <td>1h 57min</td>\n",
       "      <td>[Action, Thriller]</td>\n",
       "      <td>6.9</td>\n",
       "      <td>1992-06-05</td>\n",
       "      <td>Jack Ryan (Ford) is on a \"working vacation\" in...</td>\n",
       "      <td>Jack Ryan is on a in London with his family. H...</td>\n",
       "    </tr>\n",
       "    <tr>\n",
       "      <th>1</th>\n",
       "      <td>tt1204975</td>\n",
       "      <td>Billy (Michael Douglas), Paddy (Robert De Niro...</td>\n",
       "      <td>1h 45min</td>\n",
       "      <td>[Comedy]</td>\n",
       "      <td>6.6</td>\n",
       "      <td>2013-11-01</td>\n",
       "      <td>Four boys around the age of 10 are friends in ...</td>\n",
       "      <td>Four boys around the age of 10 are friends in ...</td>\n",
       "    </tr>\n",
       "    <tr>\n",
       "      <th>2</th>\n",
       "      <td>tt0040897</td>\n",
       "      <td>Fred C. Dobbs and Bob Curtin, both down on the...</td>\n",
       "      <td>2h 6min</td>\n",
       "      <td>[Adventure, Drama, Western]</td>\n",
       "      <td>8.3</td>\n",
       "      <td>1948-01-24</td>\n",
       "      <td>Fred Dobbs (Humphrey Bogart) and Bob Curtin (T...</td>\n",
       "      <td>Fred Dobbs and Bob Curtin are down on their lu...</td>\n",
       "    </tr>\n",
       "    <tr>\n",
       "      <th>3</th>\n",
       "      <td>tt0126886</td>\n",
       "      <td>Tracy Flick is running unopposed for this year...</td>\n",
       "      <td>1h 43min</td>\n",
       "      <td>[Comedy, Drama, Romance]</td>\n",
       "      <td>7.3</td>\n",
       "      <td>1999-05-07</td>\n",
       "      <td>Jim McAllister (Matthew Broderick) is a much-a...</td>\n",
       "      <td>Jim McAllister is a much-admired high school h...</td>\n",
       "    </tr>\n",
       "    <tr>\n",
       "      <th>4</th>\n",
       "      <td>tt0286716</td>\n",
       "      <td>Bruce Banner, a brilliant scientist with a clo...</td>\n",
       "      <td>2h 18min</td>\n",
       "      <td>[Action, Sci-Fi]</td>\n",
       "      <td>5.7</td>\n",
       "      <td>2003-06-20</td>\n",
       "      <td>Bruce Banner (Eric Bana) is a research scienti...</td>\n",
       "      <td>Bruce Banner is a research scientist at a Berk...</td>\n",
       "    </tr>\n",
       "    <tr>\n",
       "      <th>...</th>\n",
       "      <td>...</td>\n",
       "      <td>...</td>\n",
       "      <td>...</td>\n",
       "      <td>...</td>\n",
       "      <td>...</td>\n",
       "      <td>...</td>\n",
       "      <td>...</td>\n",
       "      <td>...</td>\n",
       "    </tr>\n",
       "    <tr>\n",
       "      <th>1334</th>\n",
       "      <td>tt0120655</td>\n",
       "      <td>An abortion clinic worker with a special herit...</td>\n",
       "      <td>2h 10min</td>\n",
       "      <td>[Adventure, Comedy, Drama]</td>\n",
       "      <td>7.3</td>\n",
       "      <td>1999-11-12</td>\n",
       "      <td>The film opens with a homeless man (Bud Cort) ...</td>\n",
       "      <td>The film opens with a homeless man on a desert...</td>\n",
       "    </tr>\n",
       "    <tr>\n",
       "      <th>1335</th>\n",
       "      <td>tt0276751</td>\n",
       "      <td>Twelve year old Marcus Brewer lives with his c...</td>\n",
       "      <td>1h 41min</td>\n",
       "      <td>[Comedy, Drama, Romance]</td>\n",
       "      <td>7.1</td>\n",
       "      <td>2002-05-17</td>\n",
       "      <td>Will Freeman (Hugh Grant) is a 38-year-old bac...</td>\n",
       "      <td>Will Freeman is a 38-year-old bachelor who pri...</td>\n",
       "    </tr>\n",
       "    <tr>\n",
       "      <th>1336</th>\n",
       "      <td>tt0289879</td>\n",
       "      <td>Evan Treborn grows up in a small town with his...</td>\n",
       "      <td>1h 53min</td>\n",
       "      <td>[Sci-Fi, Thriller]</td>\n",
       "      <td>7.7</td>\n",
       "      <td>2004-01-23</td>\n",
       "      <td>In the year 1998, Evan Treborn (Ashton Kutcher...</td>\n",
       "      <td>In the year 1998, Evan Treborn who suffered se...</td>\n",
       "    </tr>\n",
       "    <tr>\n",
       "      <th>1337</th>\n",
       "      <td>tt1723811</td>\n",
       "      <td>Brandon is a 30-something man living in New Yo...</td>\n",
       "      <td>1h 41min</td>\n",
       "      <td>[Drama]</td>\n",
       "      <td>7.2</td>\n",
       "      <td>2012-01-13</td>\n",
       "      <td>Brandon (Michael Fassbender) is a successful, ...</td>\n",
       "      <td>Brandon is a successful, handsome thirty-somet...</td>\n",
       "    </tr>\n",
       "    <tr>\n",
       "      <th>1338</th>\n",
       "      <td>tt5013056</td>\n",
       "      <td>Evacuation of Allied soldiers from the British...</td>\n",
       "      <td>1h 46min</td>\n",
       "      <td>[Action, Drama, History]</td>\n",
       "      <td>8.1</td>\n",
       "      <td>2017-07-21</td>\n",
       "      <td>The film alternates between three different pe...</td>\n",
       "      <td>The film alternates between three different pe...</td>\n",
       "    </tr>\n",
       "  </tbody>\n",
       "</table>\n",
       "<p>1339 rows × 8 columns</p>\n",
       "</div>"
      ],
      "text/plain": [
       "       movie_id                                       plot_summary  duration  \\\n",
       "0     tt0105112  Former CIA analyst, Jack Ryan is in England wi...  1h 57min   \n",
       "1     tt1204975  Billy (Michael Douglas), Paddy (Robert De Niro...  1h 45min   \n",
       "2     tt0040897  Fred C. Dobbs and Bob Curtin, both down on the...   2h 6min   \n",
       "3     tt0126886  Tracy Flick is running unopposed for this year...  1h 43min   \n",
       "4     tt0286716  Bruce Banner, a brilliant scientist with a clo...  2h 18min   \n",
       "...         ...                                                ...       ...   \n",
       "1334  tt0120655  An abortion clinic worker with a special herit...  2h 10min   \n",
       "1335  tt0276751  Twelve year old Marcus Brewer lives with his c...  1h 41min   \n",
       "1336  tt0289879  Evan Treborn grows up in a small town with his...  1h 53min   \n",
       "1337  tt1723811  Brandon is a 30-something man living in New Yo...  1h 41min   \n",
       "1338  tt5013056  Evacuation of Allied soldiers from the British...  1h 46min   \n",
       "\n",
       "                            genre rating release_date  \\\n",
       "0              [Action, Thriller]    6.9   1992-06-05   \n",
       "1                        [Comedy]    6.6   2013-11-01   \n",
       "2     [Adventure, Drama, Western]    8.3   1948-01-24   \n",
       "3        [Comedy, Drama, Romance]    7.3   1999-05-07   \n",
       "4                [Action, Sci-Fi]    5.7   2003-06-20   \n",
       "...                           ...    ...          ...   \n",
       "1334   [Adventure, Comedy, Drama]    7.3   1999-11-12   \n",
       "1335     [Comedy, Drama, Romance]    7.1   2002-05-17   \n",
       "1336           [Sci-Fi, Thriller]    7.7   2004-01-23   \n",
       "1337                      [Drama]    7.2   2012-01-13   \n",
       "1338     [Action, Drama, History]    8.1   2017-07-21   \n",
       "\n",
       "                                          plot_synopsis  \\\n",
       "0     Jack Ryan (Ford) is on a \"working vacation\" in...   \n",
       "1     Four boys around the age of 10 are friends in ...   \n",
       "2     Fred Dobbs (Humphrey Bogart) and Bob Curtin (T...   \n",
       "3     Jim McAllister (Matthew Broderick) is a much-a...   \n",
       "4     Bruce Banner (Eric Bana) is a research scienti...   \n",
       "...                                                 ...   \n",
       "1334  The film opens with a homeless man (Bud Cort) ...   \n",
       "1335  Will Freeman (Hugh Grant) is a 38-year-old bac...   \n",
       "1336  In the year 1998, Evan Treborn (Ashton Kutcher...   \n",
       "1337  Brandon (Michael Fassbender) is a successful, ...   \n",
       "1338  The film alternates between three different pe...   \n",
       "\n",
       "                                                  clean  \n",
       "0     Jack Ryan is on a in London with his family. H...  \n",
       "1     Four boys around the age of 10 are friends in ...  \n",
       "2     Fred Dobbs and Bob Curtin are down on their lu...  \n",
       "3     Jim McAllister is a much-admired high school h...  \n",
       "4     Bruce Banner is a research scientist at a Berk...  \n",
       "...                                                 ...  \n",
       "1334  The film opens with a homeless man on a desert...  \n",
       "1335  Will Freeman is a 38-year-old bachelor who pri...  \n",
       "1336  In the year 1998, Evan Treborn who suffered se...  \n",
       "1337  Brandon is a successful, handsome thirty-somet...  \n",
       "1338  The film alternates between three different pe...  \n",
       "\n",
       "[1339 rows x 8 columns]"
      ]
     },
     "execution_count": 89,
     "metadata": {},
     "output_type": "execute_result"
    }
   ],
   "source": [
    "df_imdb = pkl.load(open(f'{tmp_dir}/df_imdb.pkl', 'rb'))\n",
    "df_imdb"
   ]
  },
  {
   "cell_type": "code",
   "execution_count": 90,
   "metadata": {},
   "outputs": [
    {
     "name": "stderr",
     "output_type": "stream",
     "text": [
      "/home/ivv101/miniconda3/envs/p310/lib/python3.10/site-packages/sklearn/preprocessing/_label.py:895: UserWarning: unknown class(es) ['Biography', 'Film-Noir', 'History', 'Music', 'Musical', 'Mystery', 'Sport'] will be ignored\n",
      "  warnings.warn(\n"
     ]
    }
   ],
   "source": [
    "imdb_labels = mlb.transform(df_imdb['genre'])"
   ]
  },
  {
   "cell_type": "code",
   "execution_count": 91,
   "metadata": {},
   "outputs": [
    {
     "name": "stdout",
     "output_type": "stream",
     "text": [
      "42/42 [==============================] - 0s 7ms/step\n"
     ]
    }
   ],
   "source": [
    "y_pred = tf_model.predict(df_imdb['clean'].tolist())"
   ]
  },
  {
   "cell_type": "code",
   "execution_count": 93,
   "metadata": {},
   "outputs": [],
   "source": [
    "new_y_pred = np.where((y_pred.T/y_pred.max(1)).T > 0.95, 1, 0)"
   ]
  },
  {
   "cell_type": "code",
   "execution_count": 94,
   "metadata": {},
   "outputs": [
    {
     "data": {
      "text/plain": [
       "Counter({2: 243, 1: 1076, 3: 20})"
      ]
     },
     "execution_count": 94,
     "metadata": {},
     "output_type": "execute_result"
    }
   ],
   "source": [
    "# from collections import Counter\n",
    "\n",
    "Counter(new_y_pred.sum(1))"
   ]
  },
  {
   "cell_type": "code",
   "execution_count": 95,
   "metadata": {},
   "outputs": [
    {
     "name": "stdout",
     "output_type": "stream",
     "text": [
      "              precision    recall  f1-score   support\n",
      "\n",
      "      Action       0.66      0.38      0.49       394\n",
      "   Adventure       0.68      0.34      0.45       387\n",
      "   Animation       0.36      0.14      0.20        73\n",
      "      Comedy       0.67      0.50      0.57       409\n",
      "       Crime       0.82      0.22      0.35       252\n",
      "       Drama       0.84      0.43      0.57       679\n",
      "      Family       0.44      0.18      0.25       113\n",
      "     Fantasy       0.33      0.04      0.08       161\n",
      "      Horror       0.53      0.49      0.51       102\n",
      "     Romance       0.74      0.15      0.25       194\n",
      "      Sci-Fi       0.62      0.41      0.49       180\n",
      "    Thriller       0.42      0.24      0.30       212\n",
      "         War       0.64      0.30      0.41        23\n",
      "     Western       0.50      0.20      0.29        10\n",
      "\n",
      "   micro avg       0.67      0.34      0.45      3189\n",
      "   macro avg       0.59      0.29      0.37      3189\n",
      "weighted avg       0.67      0.34      0.44      3189\n",
      " samples avg       0.69      0.38      0.46      3189\n",
      "\n"
     ]
    },
    {
     "name": "stderr",
     "output_type": "stream",
     "text": [
      "/home/ivv101/miniconda3/envs/p310/lib/python3.10/site-packages/sklearn/metrics/_classification.py:1344: UndefinedMetricWarning: Recall and F-score are ill-defined and being set to 0.0 in samples with no true labels. Use `zero_division` parameter to control this behavior.\n",
      "  _warn_prf(average, modifier, msg_start, len(result))\n"
     ]
    }
   ],
   "source": [
    "print(classification_report(imdb_labels, \n",
    "                            new_y_pred, \n",
    "                            output_dict=False,\n",
    "                            target_names=classes))"
   ]
  },
  {
   "cell_type": "code",
   "execution_count": 46,
   "metadata": {},
   "outputs": [],
   "source": [
    "# single_genre = lambda y_pred : np.floor((y_pred.T/y_pred.T.max(0)).T).astype(int)"
   ]
  }
 ],
 "metadata": {
  "colab": {
   "name": "text_classification",
   "provenance": [
    {
     "file_id": "https://github.com/keras-team/autokeras/blob/master/docs/ipynb/text_classification.ipynb",
     "timestamp": 1674128743914
    }
   ],
   "toc_visible": true
  },
  "kernelspec": {
   "display_name": "Python [conda env:movie_classifier]",
   "language": "python",
   "name": "conda-env-movie_classifier-py"
  },
  "language_info": {
   "codemirror_mode": {
    "name": "ipython",
    "version": 3
   },
   "file_extension": ".py",
   "mimetype": "text/x-python",
   "name": "python",
   "nbconvert_exporter": "python",
   "pygments_lexer": "ipython3",
   "version": "3.10.8"
  }
 },
 "nbformat": 4,
 "nbformat_minor": 4
}
