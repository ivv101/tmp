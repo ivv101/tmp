{
 "cells": [
  {
   "cell_type": "code",
   "execution_count": 1,
   "metadata": {},
   "outputs": [],
   "source": [
    "from autogluon.tabular import TabularDataset, TabularPredictor\n",
    "\n",
    "import pandas as pd\n",
    "\n",
    "from sklearn.model_selection import train_test_split\n",
    "\n",
    "from sklearn.preprocessing import LabelBinarizer\n",
    "\n",
    "from sklearn.metrics import classification_report"
   ]
  },
  {
   "cell_type": "code",
   "execution_count": 2,
   "metadata": {},
   "outputs": [],
   "source": [
    "SEED = 321"
   ]
  },
  {
   "cell_type": "code",
   "execution_count": 3,
   "metadata": {},
   "outputs": [],
   "source": [
    "df = TabularDataset('df_inp.csv')\n",
    "target_pred_hui = df.pop('target_pred_hui')"
   ]
  },
  {
   "cell_type": "code",
   "execution_count": 4,
   "metadata": {},
   "outputs": [
    {
     "data": {
      "text/html": [
       "<div>\n",
       "<style scoped>\n",
       "    .dataframe tbody tr th:only-of-type {\n",
       "        vertical-align: middle;\n",
       "    }\n",
       "\n",
       "    .dataframe tbody tr th {\n",
       "        vertical-align: top;\n",
       "    }\n",
       "\n",
       "    .dataframe thead th {\n",
       "        text-align: right;\n",
       "    }\n",
       "</style>\n",
       "<table border=\"1\" class=\"dataframe\">\n",
       "  <thead>\n",
       "    <tr style=\"text-align: right;\">\n",
       "      <th></th>\n",
       "      <th>Fs</th>\n",
       "      <th>Fm</th>\n",
       "      <th>Fh</th>\n",
       "      <th>Fb</th>\n",
       "      <th>P_intra</th>\n",
       "      <th>P_inter</th>\n",
       "      <th>Gmag</th>\n",
       "      <th>BPmag</th>\n",
       "      <th>RPmag</th>\n",
       "      <th>Jmag</th>\n",
       "      <th>...</th>\n",
       "      <th>Kmag</th>\n",
       "      <th>W1mag</th>\n",
       "      <th>W2mag</th>\n",
       "      <th>W3mag</th>\n",
       "      <th>Plx</th>\n",
       "      <th>PM</th>\n",
       "      <th>rgeo</th>\n",
       "      <th>b_rgeo</th>\n",
       "      <th>B_rgeo</th>\n",
       "      <th>target</th>\n",
       "    </tr>\n",
       "  </thead>\n",
       "  <tbody>\n",
       "    <tr>\n",
       "      <th>0</th>\n",
       "      <td>-0.199449</td>\n",
       "      <td>-1.033569</td>\n",
       "      <td>-0.741320</td>\n",
       "      <td>-0.973895</td>\n",
       "      <td>0.697797</td>\n",
       "      <td>NaN</td>\n",
       "      <td>0.492168</td>\n",
       "      <td>0.535112</td>\n",
       "      <td>0.746560</td>\n",
       "      <td>NaN</td>\n",
       "      <td>...</td>\n",
       "      <td>NaN</td>\n",
       "      <td>0.853763</td>\n",
       "      <td>0.826402</td>\n",
       "      <td>0.487181</td>\n",
       "      <td>-0.742511</td>\n",
       "      <td>-1.095253</td>\n",
       "      <td>1.198046</td>\n",
       "      <td>1.122459</td>\n",
       "      <td>1.536628</td>\n",
       "      <td>AGN</td>\n",
       "    </tr>\n",
       "    <tr>\n",
       "      <th>1</th>\n",
       "      <td>1.242478</td>\n",
       "      <td>1.057694</td>\n",
       "      <td>0.753216</td>\n",
       "      <td>0.928074</td>\n",
       "      <td>-1.262540</td>\n",
       "      <td>NaN</td>\n",
       "      <td>0.288212</td>\n",
       "      <td>0.335138</td>\n",
       "      <td>0.531072</td>\n",
       "      <td>1.445468</td>\n",
       "      <td>...</td>\n",
       "      <td>1.702818</td>\n",
       "      <td>0.548266</td>\n",
       "      <td>0.363090</td>\n",
       "      <td>0.268411</td>\n",
       "      <td>-0.514228</td>\n",
       "      <td>-1.089332</td>\n",
       "      <td>0.626017</td>\n",
       "      <td>0.611672</td>\n",
       "      <td>0.782127</td>\n",
       "      <td>AGN</td>\n",
       "    </tr>\n",
       "    <tr>\n",
       "      <th>2</th>\n",
       "      <td>1.658963</td>\n",
       "      <td>1.776103</td>\n",
       "      <td>1.586837</td>\n",
       "      <td>1.765626</td>\n",
       "      <td>-2.046674</td>\n",
       "      <td>NaN</td>\n",
       "      <td>0.969920</td>\n",
       "      <td>0.969431</td>\n",
       "      <td>1.193379</td>\n",
       "      <td>NaN</td>\n",
       "      <td>...</td>\n",
       "      <td>NaN</td>\n",
       "      <td>0.795132</td>\n",
       "      <td>0.706524</td>\n",
       "      <td>0.643446</td>\n",
       "      <td>-0.651198</td>\n",
       "      <td>-2.149547</td>\n",
       "      <td>0.370039</td>\n",
       "      <td>0.200022</td>\n",
       "      <td>0.403904</td>\n",
       "      <td>AGN</td>\n",
       "    </tr>\n",
       "    <tr>\n",
       "      <th>3</th>\n",
       "      <td>0.534340</td>\n",
       "      <td>0.246240</td>\n",
       "      <td>0.113741</td>\n",
       "      <td>0.121539</td>\n",
       "      <td>-0.290472</td>\n",
       "      <td>NaN</td>\n",
       "      <td>0.722391</td>\n",
       "      <td>0.706965</td>\n",
       "      <td>1.015919</td>\n",
       "      <td>NaN</td>\n",
       "      <td>...</td>\n",
       "      <td>NaN</td>\n",
       "      <td>1.180861</td>\n",
       "      <td>1.163357</td>\n",
       "      <td>NaN</td>\n",
       "      <td>-1.107765</td>\n",
       "      <td>-0.699429</td>\n",
       "      <td>0.800462</td>\n",
       "      <td>0.759952</td>\n",
       "      <td>0.929681</td>\n",
       "      <td>AGN</td>\n",
       "    </tr>\n",
       "    <tr>\n",
       "      <th>4</th>\n",
       "      <td>0.194958</td>\n",
       "      <td>0.751400</td>\n",
       "      <td>1.718708</td>\n",
       "      <td>1.669686</td>\n",
       "      <td>-1.855501</td>\n",
       "      <td>NaN</td>\n",
       "      <td>0.493095</td>\n",
       "      <td>0.407004</td>\n",
       "      <td>0.337767</td>\n",
       "      <td>0.820297</td>\n",
       "      <td>...</td>\n",
       "      <td>0.694386</td>\n",
       "      <td>-0.343539</td>\n",
       "      <td>-0.476057</td>\n",
       "      <td>-0.731684</td>\n",
       "      <td>-0.559884</td>\n",
       "      <td>-0.458692</td>\n",
       "      <td>0.897704</td>\n",
       "      <td>0.625411</td>\n",
       "      <td>0.868525</td>\n",
       "      <td>AGN</td>\n",
       "    </tr>\n",
       "    <tr>\n",
       "      <th>...</th>\n",
       "      <td>...</td>\n",
       "      <td>...</td>\n",
       "      <td>...</td>\n",
       "      <td>...</td>\n",
       "      <td>...</td>\n",
       "      <td>...</td>\n",
       "      <td>...</td>\n",
       "      <td>...</td>\n",
       "      <td>...</td>\n",
       "      <td>...</td>\n",
       "      <td>...</td>\n",
       "      <td>...</td>\n",
       "      <td>...</td>\n",
       "      <td>...</td>\n",
       "      <td>...</td>\n",
       "      <td>...</td>\n",
       "      <td>...</td>\n",
       "      <td>...</td>\n",
       "      <td>...</td>\n",
       "      <td>...</td>\n",
       "      <td>...</td>\n",
       "    </tr>\n",
       "    <tr>\n",
       "      <th>2936</th>\n",
       "      <td>-0.158424</td>\n",
       "      <td>0.751400</td>\n",
       "      <td>0.774655</td>\n",
       "      <td>0.635347</td>\n",
       "      <td>0.947295</td>\n",
       "      <td>NaN</td>\n",
       "      <td>0.985371</td>\n",
       "      <td>1.263144</td>\n",
       "      <td>0.819445</td>\n",
       "      <td>0.096013</td>\n",
       "      <td>...</td>\n",
       "      <td>-0.599130</td>\n",
       "      <td>-0.942189</td>\n",
       "      <td>-0.916690</td>\n",
       "      <td>-0.419154</td>\n",
       "      <td>0.535877</td>\n",
       "      <td>1.124639</td>\n",
       "      <td>-0.078631</td>\n",
       "      <td>-0.521381</td>\n",
       "      <td>0.104488</td>\n",
       "      <td>YSO</td>\n",
       "    </tr>\n",
       "    <tr>\n",
       "      <th>2937</th>\n",
       "      <td>-1.642453</td>\n",
       "      <td>-0.676575</td>\n",
       "      <td>0.172417</td>\n",
       "      <td>-0.199851</td>\n",
       "      <td>0.947295</td>\n",
       "      <td>NaN</td>\n",
       "      <td>NaN</td>\n",
       "      <td>NaN</td>\n",
       "      <td>NaN</td>\n",
       "      <td>1.838106</td>\n",
       "      <td>...</td>\n",
       "      <td>0.719916</td>\n",
       "      <td>-0.436114</td>\n",
       "      <td>-0.702853</td>\n",
       "      <td>-0.790283</td>\n",
       "      <td>NaN</td>\n",
       "      <td>NaN</td>\n",
       "      <td>NaN</td>\n",
       "      <td>NaN</td>\n",
       "      <td>NaN</td>\n",
       "      <td>YSO</td>\n",
       "    </tr>\n",
       "    <tr>\n",
       "      <th>2938</th>\n",
       "      <td>-0.010807</td>\n",
       "      <td>0.347246</td>\n",
       "      <td>0.224173</td>\n",
       "      <td>0.067089</td>\n",
       "      <td>0.947295</td>\n",
       "      <td>NaN</td>\n",
       "      <td>-0.176562</td>\n",
       "      <td>0.275771</td>\n",
       "      <td>-0.232641</td>\n",
       "      <td>-0.315685</td>\n",
       "      <td>...</td>\n",
       "      <td>-0.488500</td>\n",
       "      <td>-0.929846</td>\n",
       "      <td>-0.929650</td>\n",
       "      <td>-1.169225</td>\n",
       "      <td>0.357816</td>\n",
       "      <td>1.145793</td>\n",
       "      <td>-0.862243</td>\n",
       "      <td>-0.774274</td>\n",
       "      <td>-0.921537</td>\n",
       "      <td>YSO</td>\n",
       "    </tr>\n",
       "    <tr>\n",
       "      <th>2939</th>\n",
       "      <td>0.076830</td>\n",
       "      <td>0.509333</td>\n",
       "      <td>0.350584</td>\n",
       "      <td>0.230456</td>\n",
       "      <td>0.292769</td>\n",
       "      <td>NaN</td>\n",
       "      <td>0.145133</td>\n",
       "      <td>0.816326</td>\n",
       "      <td>0.005029</td>\n",
       "      <td>-0.327121</td>\n",
       "      <td>...</td>\n",
       "      <td>-0.620405</td>\n",
       "      <td>-1.081052</td>\n",
       "      <td>-1.149966</td>\n",
       "      <td>-1.149692</td>\n",
       "      <td>0.307594</td>\n",
       "      <td>1.262462</td>\n",
       "      <td>-0.782186</td>\n",
       "      <td>-0.755222</td>\n",
       "      <td>-0.788375</td>\n",
       "      <td>YSO</td>\n",
       "    </tr>\n",
       "    <tr>\n",
       "      <th>2940</th>\n",
       "      <td>0.832697</td>\n",
       "      <td>1.481236</td>\n",
       "      <td>1.324139</td>\n",
       "      <td>1.349867</td>\n",
       "      <td>0.947295</td>\n",
       "      <td>NaN</td>\n",
       "      <td>0.371957</td>\n",
       "      <td>1.044422</td>\n",
       "      <td>0.306078</td>\n",
       "      <td>0.057893</td>\n",
       "      <td>...</td>\n",
       "      <td>0.183788</td>\n",
       "      <td>-0.470058</td>\n",
       "      <td>-0.433938</td>\n",
       "      <td>-0.364462</td>\n",
       "      <td>0.307594</td>\n",
       "      <td>1.227638</td>\n",
       "      <td>-0.804529</td>\n",
       "      <td>-0.744805</td>\n",
       "      <td>-0.838793</td>\n",
       "      <td>YSO</td>\n",
       "    </tr>\n",
       "  </tbody>\n",
       "</table>\n",
       "<p>2941 rows × 21 columns</p>\n",
       "</div>"
      ],
      "text/plain": [
       "            Fs        Fm        Fh        Fb   P_intra  P_inter      Gmag  \\\n",
       "0    -0.199449 -1.033569 -0.741320 -0.973895  0.697797      NaN  0.492168   \n",
       "1     1.242478  1.057694  0.753216  0.928074 -1.262540      NaN  0.288212   \n",
       "2     1.658963  1.776103  1.586837  1.765626 -2.046674      NaN  0.969920   \n",
       "3     0.534340  0.246240  0.113741  0.121539 -0.290472      NaN  0.722391   \n",
       "4     0.194958  0.751400  1.718708  1.669686 -1.855501      NaN  0.493095   \n",
       "...        ...       ...       ...       ...       ...      ...       ...   \n",
       "2936 -0.158424  0.751400  0.774655  0.635347  0.947295      NaN  0.985371   \n",
       "2937 -1.642453 -0.676575  0.172417 -0.199851  0.947295      NaN       NaN   \n",
       "2938 -0.010807  0.347246  0.224173  0.067089  0.947295      NaN -0.176562   \n",
       "2939  0.076830  0.509333  0.350584  0.230456  0.292769      NaN  0.145133   \n",
       "2940  0.832697  1.481236  1.324139  1.349867  0.947295      NaN  0.371957   \n",
       "\n",
       "         BPmag     RPmag      Jmag  ...      Kmag     W1mag     W2mag  \\\n",
       "0     0.535112  0.746560       NaN  ...       NaN  0.853763  0.826402   \n",
       "1     0.335138  0.531072  1.445468  ...  1.702818  0.548266  0.363090   \n",
       "2     0.969431  1.193379       NaN  ...       NaN  0.795132  0.706524   \n",
       "3     0.706965  1.015919       NaN  ...       NaN  1.180861  1.163357   \n",
       "4     0.407004  0.337767  0.820297  ...  0.694386 -0.343539 -0.476057   \n",
       "...        ...       ...       ...  ...       ...       ...       ...   \n",
       "2936  1.263144  0.819445  0.096013  ... -0.599130 -0.942189 -0.916690   \n",
       "2937       NaN       NaN  1.838106  ...  0.719916 -0.436114 -0.702853   \n",
       "2938  0.275771 -0.232641 -0.315685  ... -0.488500 -0.929846 -0.929650   \n",
       "2939  0.816326  0.005029 -0.327121  ... -0.620405 -1.081052 -1.149966   \n",
       "2940  1.044422  0.306078  0.057893  ...  0.183788 -0.470058 -0.433938   \n",
       "\n",
       "         W3mag       Plx        PM      rgeo    b_rgeo    B_rgeo  target  \n",
       "0     0.487181 -0.742511 -1.095253  1.198046  1.122459  1.536628     AGN  \n",
       "1     0.268411 -0.514228 -1.089332  0.626017  0.611672  0.782127     AGN  \n",
       "2     0.643446 -0.651198 -2.149547  0.370039  0.200022  0.403904     AGN  \n",
       "3          NaN -1.107765 -0.699429  0.800462  0.759952  0.929681     AGN  \n",
       "4    -0.731684 -0.559884 -0.458692  0.897704  0.625411  0.868525     AGN  \n",
       "...        ...       ...       ...       ...       ...       ...     ...  \n",
       "2936 -0.419154  0.535877  1.124639 -0.078631 -0.521381  0.104488     YSO  \n",
       "2937 -0.790283       NaN       NaN       NaN       NaN       NaN     YSO  \n",
       "2938 -1.169225  0.357816  1.145793 -0.862243 -0.774274 -0.921537     YSO  \n",
       "2939 -1.149692  0.307594  1.262462 -0.782186 -0.755222 -0.788375     YSO  \n",
       "2940 -0.364462  0.307594  1.227638 -0.804529 -0.744805 -0.838793     YSO  \n",
       "\n",
       "[2941 rows x 21 columns]"
      ]
     },
     "execution_count": 4,
     "metadata": {},
     "output_type": "execute_result"
    }
   ],
   "source": [
    "df"
   ]
  },
  {
   "cell_type": "code",
   "execution_count": 5,
   "metadata": {},
   "outputs": [],
   "source": [
    "df_train, df_test = train_test_split(df, test_size=0.2, random_state=SEED)"
   ]
  },
  {
   "cell_type": "code",
   "execution_count": null,
   "metadata": {},
   "outputs": [],
   "source": []
  },
  {
   "cell_type": "code",
   "execution_count": null,
   "metadata": {},
   "outputs": [],
   "source": []
  },
  {
   "cell_type": "code",
   "execution_count": 6,
   "metadata": {},
   "outputs": [],
   "source": [
    "# train_data = TabularDataset('https://autogluon.s3.amazonaws.com/datasets/Inc/train.csv')\n",
    "# subsample_size = 500  # subsample subset of data for faster demo, try setting this to much larger values\n",
    "# train_data = train_data.sample(n=subsample_size, random_state=0)\n",
    "# train_data.head()"
   ]
  },
  {
   "cell_type": "code",
   "execution_count": 7,
   "metadata": {},
   "outputs": [
    {
     "name": "stdout",
     "output_type": "stream",
     "text": [
      "Summary of class variable: \n",
      " count     2352\n",
      "unique       8\n",
      "top        AGN\n",
      "freq      1127\n",
      "Name: target, dtype: object\n"
     ]
    }
   ],
   "source": [
    "label = 'target'\n",
    "print(\"Summary of class variable: \\n\", df_train[label].describe())"
   ]
  },
  {
   "cell_type": "code",
   "execution_count": 8,
   "metadata": {},
   "outputs": [
    {
     "name": "stderr",
     "output_type": "stream",
     "text": [
      "Warning: path already exists! This predictor may overwrite an existing predictor! path=\"agModels-predictClass\"\n",
      "Presets specified: ['best_quality']\n",
      "Stack configuration (auto_stack=True): num_stack_levels=1, num_bag_folds=8, num_bag_sets=1\n",
      "Beginning AutoGluon training ...\n",
      "AutoGluon will save models to \"agModels-predictClass/\"\n",
      "AutoGluon Version:  0.6.2\n",
      "Python Version:     3.9.16\n",
      "Operating System:   Linux\n",
      "Platform Machine:   x86_64\n",
      "Platform Version:   #30-Ubuntu SMP PREEMPT_DYNAMIC Wed Jan 4 12:14:09 UTC 2023\n",
      "Train Data Rows:    2941\n",
      "Train Data Columns: 20\n",
      "Label Column: target\n",
      "Preprocessing data ...\n",
      "AutoGluon infers your prediction problem is: 'multiclass' (because dtype of label-column == object).\n",
      "\t8 unique label values:  ['AGN', 'CV', 'HM-STAR', 'YSO', 'HMXB', 'LMXB', 'LM-STAR', 'NS']\n",
      "\tIf 'multiclass' is not the correct problem_type, please manually specify the problem_type parameter during predictor init (You may specify problem_type as one of: ['binary', 'multiclass', 'regression'])\n",
      "Train Data Class Count: 8\n",
      "Using Feature Generators to preprocess the data ...\n",
      "Fitting AutoMLPipelineFeatureGenerator...\n",
      "\tAvailable Memory:                    64810.93 MB\n",
      "\tTrain Data (Original)  Memory Usage: 0.47 MB (0.0% of available memory)\n",
      "\tInferring data type of each feature based on column values. Set feature_metadata_in to manually specify special dtypes of the features.\n",
      "\tStage 1 Generators:\n",
      "\t\tFitting AsTypeFeatureGenerator...\n",
      "\tStage 2 Generators:\n",
      "\t\tFitting FillNaFeatureGenerator...\n",
      "\tStage 3 Generators:\n",
      "\t\tFitting IdentityFeatureGenerator...\n",
      "\tStage 4 Generators:\n",
      "\t\tFitting DropUniqueFeatureGenerator...\n",
      "\tTypes of features in original data (raw dtype, special dtypes):\n",
      "\t\t('float', []) : 20 | ['Fs', 'Fm', 'Fh', 'Fb', 'P_intra', ...]\n",
      "\tTypes of features in processed data (raw dtype, special dtypes):\n",
      "\t\t('float', []) : 20 | ['Fs', 'Fm', 'Fh', 'Fb', 'P_intra', ...]\n",
      "\t0.0s = Fit runtime\n",
      "\t20 features in original data used to generate 20 features in processed data.\n",
      "\tTrain Data (Processed) Memory Usage: 0.47 MB (0.0% of available memory)\n",
      "Data preprocessing and feature engineering runtime = 0.03s ...\n",
      "AutoGluon will gauge predictive performance using evaluation metric: 'accuracy'\n",
      "\tTo change this, specify the eval_metric parameter of Predictor()\n",
      "AutoGluon will fit 2 stack levels (L1 to L2) ...\n",
      "Fitting 13 L1 models ...\n",
      "Fitting model: KNeighborsUnif_BAG_L1 ...\n",
      "\t0.8793\t = Validation score   (accuracy)\n",
      "\t0.0s\t = Training   runtime\n",
      "\t0.27s\t = Validation runtime\n",
      "Fitting model: KNeighborsDist_BAG_L1 ...\n",
      "\t0.8837\t = Validation score   (accuracy)\n",
      "\t0.0s\t = Training   runtime\n",
      "\t0.25s\t = Validation runtime\n",
      "Fitting model: NeuralNetFastAI_BAG_L1 ...\n",
      "\tFitting 8 child models (S1F1 - S1F8) | Fitting with ParallelLocalFoldFittingStrategy\n",
      "\t0.9201\t = Validation score   (accuracy)\n",
      "\t4.16s\t = Training   runtime\n",
      "\t0.12s\t = Validation runtime\n",
      "Fitting model: LightGBMXT_BAG_L1 ...\n",
      "\tFitting 8 child models (S1F1 - S1F8) | Fitting with ParallelLocalFoldFittingStrategy\n",
      "\t0.9187\t = Validation score   (accuracy)\n",
      "\t6.53s\t = Training   runtime\n",
      "\t0.16s\t = Validation runtime\n",
      "Fitting model: LightGBM_BAG_L1 ...\n",
      "\tFitting 8 child models (S1F1 - S1F8) | Fitting with ParallelLocalFoldFittingStrategy\n",
      "\t0.9221\t = Validation score   (accuracy)\n",
      "\t5.7s\t = Training   runtime\n",
      "\t0.14s\t = Validation runtime\n",
      "Fitting model: RandomForestGini_BAG_L1 ...\n",
      "\t0.9123\t = Validation score   (accuracy)\n",
      "\t0.62s\t = Training   runtime\n",
      "\t0.12s\t = Validation runtime\n",
      "Fitting model: RandomForestEntr_BAG_L1 ...\n",
      "\t0.9106\t = Validation score   (accuracy)\n",
      "\t0.59s\t = Training   runtime\n",
      "\t0.11s\t = Validation runtime\n",
      "Fitting model: CatBoost_BAG_L1 ...\n",
      "\tFitting 8 child models (S1F1 - S1F8) | Fitting with ParallelLocalFoldFittingStrategy\n",
      "\t0.9167\t = Validation score   (accuracy)\n",
      "\t52.42s\t = Training   runtime\n",
      "\t0.02s\t = Validation runtime\n",
      "Fitting model: ExtraTreesGini_BAG_L1 ...\n",
      "\t0.9068\t = Validation score   (accuracy)\n",
      "\t0.51s\t = Training   runtime\n",
      "\t0.12s\t = Validation runtime\n",
      "Fitting model: ExtraTreesEntr_BAG_L1 ...\n",
      "\t0.9028\t = Validation score   (accuracy)\n",
      "\t0.57s\t = Training   runtime\n",
      "\t0.12s\t = Validation runtime\n",
      "Fitting model: XGBoost_BAG_L1 ...\n",
      "\tFitting 8 child models (S1F1 - S1F8) | Fitting with ParallelLocalFoldFittingStrategy\n",
      "\t0.9164\t = Validation score   (accuracy)\n",
      "\t4.98s\t = Training   runtime\n",
      "\t0.13s\t = Validation runtime\n",
      "Fitting model: NeuralNetTorch_BAG_L1 ...\n",
      "\tFitting 8 child models (S1F1 - S1F8) | Fitting with ParallelLocalFoldFittingStrategy\n",
      "\t0.9167\t = Validation score   (accuracy)\n",
      "\t8.42s\t = Training   runtime\n",
      "\t0.05s\t = Validation runtime\n",
      "Fitting model: LightGBMLarge_BAG_L1 ...\n",
      "\tFitting 8 child models (S1F1 - S1F8) | Fitting with ParallelLocalFoldFittingStrategy\n",
      "\t0.9164\t = Validation score   (accuracy)\n",
      "\t15.16s\t = Training   runtime\n",
      "\t0.6s\t = Validation runtime\n",
      "Fitting model: WeightedEnsemble_L2 ...\n",
      "\t0.9283\t = Validation score   (accuracy)\n",
      "\t0.47s\t = Training   runtime\n",
      "\t0.0s\t = Validation runtime\n",
      "Fitting 11 L2 models ...\n",
      "Fitting model: NeuralNetFastAI_BAG_L2 ...\n",
      "\tFitting 8 child models (S1F1 - S1F8) | Fitting with ParallelLocalFoldFittingStrategy\n",
      "\t0.9286\t = Validation score   (accuracy)\n",
      "\t4.88s\t = Training   runtime\n",
      "\t0.4s\t = Validation runtime\n",
      "Fitting model: LightGBMXT_BAG_L2 ...\n",
      "\tFitting 8 child models (S1F1 - S1F8) | Fitting with ParallelLocalFoldFittingStrategy\n",
      "\t0.9228\t = Validation score   (accuracy)\n",
      "\t11.21s\t = Training   runtime\n",
      "\t0.12s\t = Validation runtime\n",
      "Fitting model: LightGBM_BAG_L2 ...\n",
      "\tFitting 8 child models (S1F1 - S1F8) | Fitting with ParallelLocalFoldFittingStrategy\n",
      "\t0.9228\t = Validation score   (accuracy)\n",
      "\t17.65s\t = Training   runtime\n",
      "\t0.09s\t = Validation runtime\n",
      "Fitting model: RandomForestGini_BAG_L2 ...\n",
      "\t0.9218\t = Validation score   (accuracy)\n",
      "\t0.72s\t = Training   runtime\n",
      "\t0.13s\t = Validation runtime\n",
      "Fitting model: RandomForestEntr_BAG_L2 ...\n",
      "\t0.9191\t = Validation score   (accuracy)\n",
      "\t0.65s\t = Training   runtime\n",
      "\t0.12s\t = Validation runtime\n",
      "Fitting model: CatBoost_BAG_L2 ...\n",
      "\tFitting 8 child models (S1F1 - S1F8) | Fitting with ParallelLocalFoldFittingStrategy\n",
      "\t0.9242\t = Validation score   (accuracy)\n",
      "\t161.03s\t = Training   runtime\n",
      "\t0.03s\t = Validation runtime\n",
      "Fitting model: ExtraTreesGini_BAG_L2 ...\n",
      "\t0.9181\t = Validation score   (accuracy)\n",
      "\t0.58s\t = Training   runtime\n",
      "\t0.13s\t = Validation runtime\n",
      "Fitting model: ExtraTreesEntr_BAG_L2 ...\n",
      "\t0.9218\t = Validation score   (accuracy)\n",
      "\t0.58s\t = Training   runtime\n",
      "\t0.13s\t = Validation runtime\n",
      "Fitting model: XGBoost_BAG_L2 ...\n",
      "\tFitting 8 child models (S1F1 - S1F8) | Fitting with ParallelLocalFoldFittingStrategy\n",
      "\t0.9245\t = Validation score   (accuracy)\n",
      "\t14.12s\t = Training   runtime\n",
      "\t0.06s\t = Validation runtime\n",
      "Fitting model: NeuralNetTorch_BAG_L2 ...\n",
      "\tFitting 8 child models (S1F1 - S1F8) | Fitting with ParallelLocalFoldFittingStrategy\n",
      "\t0.9235\t = Validation score   (accuracy)\n",
      "\t6.69s\t = Training   runtime\n",
      "\t0.33s\t = Validation runtime\n",
      "Fitting model: LightGBMLarge_BAG_L2 ...\n",
      "\tFitting 8 child models (S1F1 - S1F8) | Fitting with ParallelLocalFoldFittingStrategy\n",
      "\t0.9194\t = Validation score   (accuracy)\n",
      "\t62.01s\t = Training   runtime\n",
      "\t0.85s\t = Validation runtime\n",
      "Fitting model: WeightedEnsemble_L3 ...\n",
      "\t0.9289\t = Validation score   (accuracy)\n",
      "\t0.42s\t = Training   runtime\n",
      "\t0.0s\t = Validation runtime\n",
      "AutoGluon training complete, total runtime = 409.12s ... Best model: \"WeightedEnsemble_L3\"\n",
      "TabularPredictor saved. To load, use: predictor = TabularPredictor.load(\"agModels-predictClass/\")\n"
     ]
    },
    {
     "name": "stdout",
     "output_type": "stream",
     "text": [
      "CPU times: user 23.7 s, sys: 5.15 s, total: 28.9 s\n",
      "Wall time: 6min 49s\n"
     ]
    }
   ],
   "source": [
    "%%time\n",
    "\n",
    "save_path = 'agModels-predictClass'  # specifies folder to store trained models\n",
    "predictor = TabularPredictor(label=label, path=save_path).fit(df, \n",
    "                                                              presets='best_quality',\n",
    "                                                              # ag_args_fit={'num_gpus': 1}\n",
    "                                                             )"
   ]
  },
  {
   "cell_type": "code",
   "execution_count": 19,
   "metadata": {},
   "outputs": [
    {
     "name": "stdout",
     "output_type": "stream",
     "text": [
      "*** Summary of fit() ***\n",
      "Estimated performance of each model:\n",
      "                      model  score_val  pred_time_val    fit_time  pred_time_val_marginal  fit_time_marginal  stack_level  can_infer  fit_order\n",
      "0       WeightedEnsemble_L3   0.928936       2.930840  111.667691                0.000366           0.418961            3       True         26\n",
      "1    NeuralNetFastAI_BAG_L2   0.928596       2.596222  104.557350                0.396758           4.882700            2       True         15\n",
      "2       WeightedEnsemble_L2   0.928256       0.967077   84.405320                0.000373           0.468004            2       True         14\n",
      "3            XGBoost_BAG_L2   0.924515       2.254607  113.791254                0.055143          14.116604            2       True         23\n",
      "4           CatBoost_BAG_L2   0.924175       2.225760  260.707498                0.026296         161.032848            2       True         20\n",
      "5     NeuralNetTorch_BAG_L2   0.923495       2.533716  106.366030                0.334253           6.691380            2       True         24\n",
      "6           LightGBM_BAG_L2   0.922815       2.291680  117.328517                0.092216          17.653867            2       True         17\n",
      "7         LightGBMXT_BAG_L2   0.922815       2.320070  110.886210                0.120606          11.211560            2       True         16\n",
      "8           LightGBM_BAG_L1   0.922135       0.136087    5.702148                0.136087           5.702148            1       True          5\n",
      "9     ExtraTreesEntr_BAG_L2   0.921795       2.326197  100.251538                0.126733           0.576888            2       True         22\n",
      "10  RandomForestGini_BAG_L2   0.921795       2.334330  100.393670                0.134866           0.719020            2       True         18\n",
      "11   NeuralNetFastAI_BAG_L1   0.920095       0.119447    4.159227                0.119447           4.159227            1       True          3\n",
      "12     LightGBMLarge_BAG_L2   0.919415       3.053593  161.685088                0.854129          62.010437            2       True         25\n",
      "13  RandomForestEntr_BAG_L2   0.919075       2.316982  100.328376                0.117518           0.653726            2       True         19\n",
      "14        LightGBMXT_BAG_L1   0.918735       0.158914    6.534523                0.158914           6.534523            1       True          4\n",
      "15    ExtraTreesGini_BAG_L2   0.918055       2.326735  100.257558                0.127271           0.582908            2       True         21\n",
      "16          CatBoost_BAG_L1   0.916695       0.018585   52.424503                0.018585          52.424503            1       True          8\n",
      "17    NeuralNetTorch_BAG_L1   0.916695       0.050527    8.419416                0.050527           8.419416            1       True         12\n",
      "18           XGBoost_BAG_L1   0.916355       0.133669    4.975243                0.133669           4.975243            1       True         11\n",
      "19     LightGBMLarge_BAG_L1   0.916355       0.597098   15.163327                0.597098          15.163327            1       True         13\n",
      "20  RandomForestGini_BAG_L1   0.912275       0.118503    0.621530                0.118503           0.621530            1       True          6\n",
      "21  RandomForestEntr_BAG_L1   0.910575       0.113760    0.593158                0.113760           0.593158            1       True          7\n",
      "22    ExtraTreesGini_BAG_L1   0.906834       0.117213    0.507569                0.117213           0.507569            1       True          9\n",
      "23    ExtraTreesEntr_BAG_L1   0.902754       0.119206    0.566944                0.119206           0.566944            1       True         10\n",
      "24    KNeighborsDist_BAG_L1   0.883713       0.249592    0.003443                0.249592           0.003443            1       True          2\n",
      "25    KNeighborsUnif_BAG_L1   0.879293       0.266863    0.003620                0.266863           0.003620            1       True          1\n",
      "Number of models trained: 26\n",
      "Types of models trained:\n",
      "{'StackerEnsembleModel_RF', 'StackerEnsembleModel_LGB', 'StackerEnsembleModel_TabularNeuralNetTorch', 'StackerEnsembleModel_CatBoost', 'StackerEnsembleModel_KNN', 'StackerEnsembleModel_XT', 'StackerEnsembleModel_NNFastAiTabular', 'WeightedEnsembleModel', 'StackerEnsembleModel_XGBoost'}\n",
      "Bagging used: True  (with 8 folds)\n",
      "Multi-layer stack-ensembling used: True  (with 3 levels)\n",
      "Feature Metadata (Processed):\n",
      "(raw dtype, special dtypes):\n",
      "('float', []) : 20 | ['Fs', 'Fm', 'Fh', 'Fb', 'P_intra', ...]\n",
      "Plot summary of models saved to file: agModels-predictClass/SummaryOfModels.html\n",
      "*** End of fit() summary ***\n"
     ]
    }
   ],
   "source": [
    "results = predictor.fit_summary(show_plot=True)"
   ]
  },
  {
   "cell_type": "code",
   "execution_count": 20,
   "metadata": {},
   "outputs": [],
   "source": [
    "from sklearn.model_selection import KFold, StratifiedKFold"
   ]
  },
  {
   "cell_type": "code",
   "execution_count": 21,
   "metadata": {},
   "outputs": [],
   "source": [
    "kf = StratifiedKFold(n_splits=5)"
   ]
  },
  {
   "cell_type": "code",
   "execution_count": 23,
   "metadata": {},
   "outputs": [
    {
     "name": "stdout",
     "output_type": "stream",
     "text": [
      "Fold 0:\n",
      "  Train: index=[ 278  279  280 ... 2938 2939 2940]\n",
      "  Test:  index=[   0    1    2    3    4    5    6    7    8    9   10   11   12   13\n",
      "   14   15   16   17   18   19   20   21   22   23   24   25   26   27\n",
      "   28   29   30   31   32   33   34   35   36   37   38   39   40   41\n",
      "   42   43   44   45   46   47   48   49   50   51   52   53   54   55\n",
      "   56   57   58   59   60   61   62   63   64   65   66   67   68   69\n",
      "   70   71   72   73   74   75   76   77   78   79   80   81   82   83\n",
      "   84   85   86   87   88   89   90   91   92   93   94   95   96   97\n",
      "   98   99  100  101  102  103  104  105  106  107  108  109  110  111\n",
      "  112  113  114  115  116  117  118  119  120  121  122  123  124  125\n",
      "  126  127  128  129  130  131  132  133  134  135  136  137  138  139\n",
      "  140  141  142  143  144  145  146  147  148  149  150  151  152  153\n",
      "  154  155  156  157  158  159  160  161  162  163  164  165  166  167\n",
      "  168  169  170  171  172  173  174  175  176  177  178  179  180  181\n",
      "  182  183  184  185  186  187  188  189  190  191  192  193  194  195\n",
      "  196  197  198  199  200  201  202  203  204  205  206  207  208  209\n",
      "  210  211  212  213  214  215  216  217  218  219  220  221  222  223\n",
      "  224  225  226  227  228  229  230  231  232  233  234  235  236  237\n",
      "  238  239  240  241  242  243  244  245  246  247  248  249  250  251\n",
      "  252  253  254  255  256  257  258  259  260  261  262  263  264  265\n",
      "  266  267  268  269  270  271  272  273  274  275  276  277 1390 1391\n",
      " 1392 1393 1394 1395 1396 1397 1398 1434 1435 1436 1437 1438 1439 1440\n",
      " 1441 1442 1443 1444 1445 1446 1447 1448 1449 1450 1451 1452 1453 1454\n",
      " 1455 1456 1457 1458 1459 1460 1461 1462 1463 1464 1465 1466 1467 1468\n",
      " 1469 1470 1471 1472 1473 1474 1475 1476 1477 1483 1513 1514 1567 1576\n",
      " 1577 1578 1579 1580 1595 1602 1603 1604 1605 1606 1607 1608 1609 1610\n",
      " 1611 1612 1613 1614 1615 1616 1617 1618 1619 1620 1621 1622 1623 1624\n",
      " 1625 1626 1627 1628 1629 1630 1631 1632 1633 1634 1635 1636 1637 1638\n",
      " 1639 1640 1641 1642 1643 1644 1645 1646 1647 1648 1649 1650 1651 1652\n",
      " 1653 1654 1655 1656 1657 1659 1660 1662 1663 1664 1666 1667 1668 1669\n",
      " 1670 1671 1672 1673 1674 1675 1676 1677 1678 1679 1680 1682 1683 1684\n",
      " 1685 1686 1688 1689 1690 1693 1694 1695 1696 1697 1698 1699 1700 1701\n",
      " 1702 1703 1704 1705 1706 1707 1708 1709 1710 1711 1712 1713 1714 1715\n",
      " 1716 1717 1718 1719 1720 1721 1722 1724 1725 1726 1727 1728 1729 1730\n",
      " 1731 1732 1733 1734 1744 1791 1792 1793 1794 1840 1843 1844 1845 1846\n",
      " 1847 1848 1849 1850 1851 1852 1853 1854 1856 1857 1858 1865 1872 1873\n",
      " 1874 1902 1903 1913 1914 1915 1916 1924 1925 1926 1927 1928 1929 1930\n",
      " 1931 1932 1933 1934 1935 1964 1965 1966 1967 1968 1969 1970 1971 1972\n",
      " 1973 1974 1975 1976 1977 1978 1979 1980 1981 2076 2077 2078 2079 2080\n",
      " 2081 2082 2083 2084 2085 2086 2087 2088 2089 2090 2091 2092 2093 2094\n",
      " 2095 2096 2097 2098 2099 2100 2101 2102 2103 2104 2105 2106 2107 2108\n",
      " 2109 2110 2111 2112 2113 2114 2115 2116 2117 2118 2119 2120 2121 2122\n",
      " 2123 2124 2125 2126 2127 2128 2129 2130 2131 2132 2133 2134 2135 2136\n",
      " 2137]\n",
      "Fold 1:\n",
      "  Train: index=[   0    1    2 ... 2938 2939 2940]\n",
      "  Test:  index=[ 278  279  280  281  282  283  284  285  286  287  288  289  290  291\n",
      "  292  293  294  295  296  297  298  299  300  301  302  303  304  305\n",
      "  306  307  308  309  310  311  312  313  314  315  316  317  318  319\n",
      "  320  321  322  323  324  325  326  327  328  329  330  331  332  333\n",
      "  334  335  336  337  338  339  340  341  342  343  344  345  346  347\n",
      "  348  349  350  351  352  353  354  355  356  357  358  359  360  361\n",
      "  362  363  364  365  366  367  368  369  370  371  372  373  374  375\n",
      "  376  377  378  379  380  381  382  383  384  385  386  387  388  389\n",
      "  390  391  392  393  394  395  396  397  398  399  400  401  402  403\n",
      "  404  405  406  407  408  409  410  411  412  413  414  415  416  417\n",
      "  418  419  420  421  422  423  424  425  426  427  428  429  430  431\n",
      "  432  433  434  435  436  437  438  439  440  441  442  443  444  445\n",
      "  446  447  448  449  450  451  452  453  454  455  456  457  458  459\n",
      "  460  461  462  463  464  465  466  467  468  469  470  471  472  473\n",
      "  474  475  476  477  478  479  480  481  482  483  484  485  486  487\n",
      "  488  489  490  491  492  493  494  495  496  497  498  499  500  501\n",
      "  502  503  504  505  506  507  508  509  510  511  512  513  514  515\n",
      "  516  517  518  519  520  521  522  523  524  525  526  527  528  529\n",
      "  530  531  532  533  534  535  536  537  538  539  540  541  542  543\n",
      "  544  545  546  547  548  549  550  551  552  553  554  555 1399 1400\n",
      " 1401 1402 1403 1404 1405 1406 1407 1478 1479 1480 1481 1482 1484 1485\n",
      " 1486 1487 1488 1489 1490 1491 1492 1493 1494 1495 1496 1497 1498 1499\n",
      " 1500 1501 1502 1581 1582 1583 1584 1585 1586 1658 1661 1665 1681 1687\n",
      " 1691 1692 1723 1735 1736 1737 1738 1739 1740 1741 1742 1743 1745 1746\n",
      " 1747 1748 1749 1750 1751 1752 1753 1754 1755 1756 1757 1758 1759 1760\n",
      " 1761 1762 1763 1764 1765 1766 1767 1768 1936 1937 1938 1939 1940 1941\n",
      " 1942 1943 1944 1945 1946 1947 1948 1982 1983 1984 1985 1986 1987 1988\n",
      " 1989 1991 1992 1993 1994 1995 1996 1997 1998 1999 2138 2139 2140 2141\n",
      " 2142 2143 2144 2145 2146 2147 2148 2149 2150 2151 2152 2153 2154 2155\n",
      " 2156 2157 2158 2159 2160 2161 2162 2163 2164 2165 2166 2167 2168 2169\n",
      " 2170 2171 2172 2173 2174 2175 2176 2177 2178 2179 2180 2181 2182 2183\n",
      " 2184 2185 2186 2187 2188 2189 2190 2191 2192 2193 2194 2195 2196 2197\n",
      " 2198 2199 2200 2201 2202 2203 2204 2205 2206 2207 2208 2209 2210 2211\n",
      " 2212 2213 2214 2215 2216 2217 2218 2219 2220 2221 2222 2223 2224 2225\n",
      " 2226 2227 2228 2229 2230 2231 2232 2233 2234 2235 2236 2237 2238 2239\n",
      " 2240 2241 2242 2243 2244 2245 2246 2247 2248 2249 2250 2251 2252 2253\n",
      " 2254 2255 2256 2257 2258 2259 2260 2261 2262 2263 2264 2265 2266 2267\n",
      " 2268 2269 2270 2271 2272 2273 2274 2275 2276 2277 2278 2279 2280 2281\n",
      " 2282 2283 2284 2285 2286 2287 2288 2289 2290 2291 2292 2293 2294 2295\n",
      " 2296 2297 2298 2299 2300 2301 2302 2303 2304 2305 2306 2307 2308 2309\n",
      " 2310 2311 2312 2313 2314 2315 2316 2317 2318 2319 2320 2321 2322 2323\n",
      " 2324 2325 2326 2327 2328 2329 2330 2331 2332 2333 2334 2335 2336 2337]\n",
      "Fold 2:\n",
      "  Train: index=[   0    1    2 ... 2938 2939 2940]\n",
      "  Test:  index=[ 556  557  558  559  560  561  562  563  564  565  566  567  568  569\n",
      "  570  571  572  573  574  575  576  577  578  579  580  581  582  583\n",
      "  584  585  586  587  588  589  590  591  592  593  594  595  596  597\n",
      "  598  599  600  601  602  603  604  605  606  607  608  609  610  611\n",
      "  612  613  614  615  616  617  618  619  620  621  622  623  624  625\n",
      "  626  627  628  629  630  631  632  633  634  635  636  637  638  639\n",
      "  640  641  642  643  644  645  646  647  648  649  650  651  652  653\n",
      "  654  655  656  657  658  659  660  661  662  663  664  665  666  667\n",
      "  668  669  670  671  672  673  674  675  676  677  678  679  680  681\n",
      "  682  683  684  685  686  687  688  689  690  691  692  693  694  695\n",
      "  696  697  698  699  700  701  702  703  704  705  706  707  708  709\n",
      "  710  711  712  713  714  715  716  717  718  719  720  721  722  723\n",
      "  724  725  726  727  728  729  730  731  732  733  734  735  736  737\n",
      "  738  739  740  741  742  743  744  745  746  747  748  749  750  751\n",
      "  752  753  754  755  756  757  758  759  760  761  762  763  764  765\n",
      "  766  767  768  769  770  771  772  773  774  775  776  777  778  779\n",
      "  780  781  782  783  784  785  786  787  788  789  790  791  792  793\n",
      "  794  795  796  797  798  799  800  801  802  803  804  805  806  807\n",
      "  808  809  810  811  812  813  814  815  816  817  818  819  820  821\n",
      "  822  823  824  825  826  827  828  829  830  831  832  833 1408 1409\n",
      " 1410 1411 1412 1413 1414 1415 1416 1503 1504 1505 1506 1507 1508 1509\n",
      " 1510 1511 1512 1515 1516 1517 1518 1519 1520 1521 1522 1523 1524 1525\n",
      " 1526 1527 1587 1588 1589 1590 1591 1769 1770 1771 1772 1773 1774 1775\n",
      " 1776 1777 1778 1779 1780 1781 1782 1783 1784 1785 1786 1787 1788 1789\n",
      " 1790 1795 1796 1797 1798 1799 1800 1801 1802 1803 1804 1805 1806 1807\n",
      " 1808 1809 1810 1811 1812 1813 1814 1949 1950 1951 1952 1953 1954 1955\n",
      " 1956 1957 1958 1959 1960 1961 2000 2001 2002 2003 2004 2005 2006 2007\n",
      " 2008 2009 2010 2011 2012 2013 2014 2015 2016 2338 2339 2340 2341 2342\n",
      " 2343 2344 2345 2346 2347 2348 2349 2350 2351 2352 2353 2354 2355 2356\n",
      " 2357 2358 2359 2360 2361 2362 2363 2364 2365 2366 2367 2368 2369 2370\n",
      " 2371 2372 2373 2374 2375 2376 2377 2378 2379 2380 2381 2382 2383 2384\n",
      " 2385 2386 2387 2388 2389 2390 2391 2392 2393 2394 2395 2396 2397 2398\n",
      " 2399 2400 2401 2402 2403 2404 2405 2406 2407 2408 2409 2410 2411 2412\n",
      " 2413 2414 2415 2416 2417 2418 2419 2420 2421 2422 2423 2424 2425 2426\n",
      " 2427 2428 2429 2430 2431 2432 2433 2434 2435 2436 2437 2438 2439 2440\n",
      " 2441 2442 2443 2444 2445 2446 2447 2448 2449 2450 2451 2452 2453 2454\n",
      " 2455 2456 2457 2458 2459 2460 2461 2462 2463 2464 2465 2466 2467 2468\n",
      " 2469 2470 2471 2472 2473 2474 2475 2476 2477 2478 2479 2480 2481 2482\n",
      " 2483 2484 2485 2486 2487 2488 2489 2490 2491 2492 2493 2494 2495 2496\n",
      " 2497 2498 2499 2500 2501 2502 2503 2504 2505 2506 2507 2508 2509 2510\n",
      " 2511 2512 2513 2514 2515 2516 2517 2518 2519 2520 2521 2522 2523 2524\n",
      " 2525 2526 2527 2528 2529 2530 2531 2532 2533 2534 2535 2536 2537 2538]\n",
      "Fold 3:\n",
      "  Train: index=[   0    1    2 ... 2938 2939 2940]\n",
      "  Test:  index=[ 834  835  836  837  838  839  840  841  842  843  844  845  846  847\n",
      "  848  849  850  851  852  853  854  855  856  857  858  859  860  861\n",
      "  862  863  864  865  866  867  868  869  870  871  872  873  874  875\n",
      "  876  877  878  879  880  881  882  883  884  885  886  887  888  889\n",
      "  890  891  892  893  894  895  896  897  898  899  900  901  902  903\n",
      "  904  905  906  907  908  909  910  911  912  913  914  915  916  917\n",
      "  918  919  920  921  922  923  924  925  926  927  928  929  930  931\n",
      "  932  933  934  935  936  937  938  939  940  941  942  943  944  945\n",
      "  946  947  948  949  950  951  952  953  954  955  956  957  958  959\n",
      "  960  961  962  963  964  965  966  967  968  969  970  971  972  973\n",
      "  974  975  976  977  978  979  980  981  982  983  984  985  986  987\n",
      "  988  989  990  991  992  993  994  995  996  997  998  999 1000 1001\n",
      " 1002 1003 1004 1005 1006 1007 1008 1009 1010 1011 1012 1013 1014 1015\n",
      " 1016 1017 1018 1019 1020 1021 1022 1023 1024 1025 1026 1027 1028 1029\n",
      " 1030 1031 1032 1033 1034 1035 1036 1037 1038 1039 1040 1041 1042 1043\n",
      " 1044 1045 1046 1047 1048 1049 1050 1051 1052 1053 1054 1055 1056 1057\n",
      " 1058 1059 1060 1061 1062 1063 1064 1065 1066 1067 1068 1069 1070 1071\n",
      " 1072 1073 1074 1075 1076 1077 1078 1079 1080 1081 1082 1083 1084 1085\n",
      " 1086 1087 1088 1089 1090 1091 1092 1093 1094 1095 1096 1097 1098 1099\n",
      " 1100 1101 1102 1103 1104 1105 1106 1107 1108 1109 1110 1111 1417 1418\n",
      " 1419 1420 1421 1422 1423 1424 1425 1528 1529 1530 1531 1532 1533 1534\n",
      " 1535 1536 1537 1538 1539 1540 1541 1542 1543 1544 1545 1546 1547 1548\n",
      " 1549 1550 1592 1593 1594 1596 1597 1815 1816 1817 1818 1819 1820 1821\n",
      " 1822 1823 1824 1825 1826 1827 1828 1829 1830 1831 1832 1833 1834 1835\n",
      " 1836 1837 1838 1839 1841 1842 1855 1859 1860 1861 1862 1863 1864 1866\n",
      " 1867 1868 1869 1870 1871 1875 1876 1962 1963 1990 2017 2018 2019 2020\n",
      " 2021 2022 2023 2024 2025 2026 2027 2028 2029 2030 2031 2032 2033 2051\n",
      " 2052 2053 2054 2055 2057 2058 2059 2060 2061 2539 2540 2541 2542 2543\n",
      " 2544 2545 2546 2547 2548 2549 2550 2551 2552 2553 2554 2555 2556 2557\n",
      " 2558 2559 2560 2561 2562 2563 2564 2565 2566 2567 2568 2569 2570 2571\n",
      " 2572 2573 2574 2575 2576 2577 2578 2579 2580 2581 2582 2583 2584 2585\n",
      " 2586 2587 2588 2589 2590 2591 2592 2593 2594 2595 2596 2597 2598 2599\n",
      " 2600 2601 2602 2603 2604 2605 2606 2607 2608 2609 2610 2611 2612 2613\n",
      " 2614 2615 2616 2617 2618 2619 2620 2621 2622 2623 2624 2625 2626 2627\n",
      " 2628 2629 2630 2631 2632 2633 2634 2635 2636 2637 2638 2639 2640 2641\n",
      " 2642 2643 2644 2645 2646 2647 2648 2649 2650 2651 2652 2653 2654 2655\n",
      " 2656 2657 2658 2659 2660 2661 2662 2663 2664 2665 2666 2667 2668 2669\n",
      " 2670 2671 2672 2673 2674 2675 2676 2677 2678 2679 2680 2681 2682 2683\n",
      " 2684 2685 2686 2687 2688 2689 2690 2691 2692 2693 2694 2695 2696 2697\n",
      " 2698 2699 2700 2701 2702 2703 2704 2705 2706 2707 2708 2709 2710 2711\n",
      " 2712 2713 2714 2715 2716 2717 2718 2719 2720 2721 2722 2723 2724 2725\n",
      " 2726 2727 2728 2729 2730 2731 2732 2733 2734 2735 2736 2737 2738 2739]\n",
      "Fold 4:\n",
      "  Train: index=[   0    1    2 ... 2737 2738 2739]\n",
      "  Test:  index=[1112 1113 1114 1115 1116 1117 1118 1119 1120 1121 1122 1123 1124 1125\n",
      " 1126 1127 1128 1129 1130 1131 1132 1133 1134 1135 1136 1137 1138 1139\n",
      " 1140 1141 1142 1143 1144 1145 1146 1147 1148 1149 1150 1151 1152 1153\n",
      " 1154 1155 1156 1157 1158 1159 1160 1161 1162 1163 1164 1165 1166 1167\n",
      " 1168 1169 1170 1171 1172 1173 1174 1175 1176 1177 1178 1179 1180 1181\n",
      " 1182 1183 1184 1185 1186 1187 1188 1189 1190 1191 1192 1193 1194 1195\n",
      " 1196 1197 1198 1199 1200 1201 1202 1203 1204 1205 1206 1207 1208 1209\n",
      " 1210 1211 1212 1213 1214 1215 1216 1217 1218 1219 1220 1221 1222 1223\n",
      " 1224 1225 1226 1227 1228 1229 1230 1231 1232 1233 1234 1235 1236 1237\n",
      " 1238 1239 1240 1241 1242 1243 1244 1245 1246 1247 1248 1249 1250 1251\n",
      " 1252 1253 1254 1255 1256 1257 1258 1259 1260 1261 1262 1263 1264 1265\n",
      " 1266 1267 1268 1269 1270 1271 1272 1273 1274 1275 1276 1277 1278 1279\n",
      " 1280 1281 1282 1283 1284 1285 1286 1287 1288 1289 1290 1291 1292 1293\n",
      " 1294 1295 1296 1297 1298 1299 1300 1301 1302 1303 1304 1305 1306 1307\n",
      " 1308 1309 1310 1311 1312 1313 1314 1315 1316 1317 1318 1319 1320 1321\n",
      " 1322 1323 1324 1325 1326 1327 1328 1329 1330 1331 1332 1333 1334 1335\n",
      " 1336 1337 1338 1339 1340 1341 1342 1343 1344 1345 1346 1347 1348 1349\n",
      " 1350 1351 1352 1353 1354 1355 1356 1357 1358 1359 1360 1361 1362 1363\n",
      " 1364 1365 1366 1367 1368 1369 1370 1371 1372 1373 1374 1375 1376 1377\n",
      " 1378 1379 1380 1381 1382 1383 1384 1385 1386 1387 1388 1389 1426 1427\n",
      " 1428 1429 1430 1431 1432 1433 1551 1552 1553 1554 1555 1556 1557 1558\n",
      " 1559 1560 1561 1562 1563 1564 1565 1566 1568 1569 1570 1571 1572 1573\n",
      " 1574 1575 1598 1599 1600 1601 1877 1878 1879 1880 1881 1882 1883 1884\n",
      " 1885 1886 1887 1888 1889 1890 1891 1892 1893 1894 1895 1896 1897 1898\n",
      " 1899 1900 1901 1904 1905 1906 1907 1908 1909 1910 1911 1912 1917 1918\n",
      " 1919 1920 1921 1922 1923 2034 2035 2036 2037 2038 2039 2040 2041 2042\n",
      " 2043 2044 2045 2046 2047 2048 2049 2050 2056 2062 2063 2064 2065 2066\n",
      " 2067 2068 2069 2070 2071 2072 2073 2074 2075 2740 2741 2742 2743 2744\n",
      " 2745 2746 2747 2748 2749 2750 2751 2752 2753 2754 2755 2756 2757 2758\n",
      " 2759 2760 2761 2762 2763 2764 2765 2766 2767 2768 2769 2770 2771 2772\n",
      " 2773 2774 2775 2776 2777 2778 2779 2780 2781 2782 2783 2784 2785 2786\n",
      " 2787 2788 2789 2790 2791 2792 2793 2794 2795 2796 2797 2798 2799 2800\n",
      " 2801 2802 2803 2804 2805 2806 2807 2808 2809 2810 2811 2812 2813 2814\n",
      " 2815 2816 2817 2818 2819 2820 2821 2822 2823 2824 2825 2826 2827 2828\n",
      " 2829 2830 2831 2832 2833 2834 2835 2836 2837 2838 2839 2840 2841 2842\n",
      " 2843 2844 2845 2846 2847 2848 2849 2850 2851 2852 2853 2854 2855 2856\n",
      " 2857 2858 2859 2860 2861 2862 2863 2864 2865 2866 2867 2868 2869 2870\n",
      " 2871 2872 2873 2874 2875 2876 2877 2878 2879 2880 2881 2882 2883 2884\n",
      " 2885 2886 2887 2888 2889 2890 2891 2892 2893 2894 2895 2896 2897 2898\n",
      " 2899 2900 2901 2902 2903 2904 2905 2906 2907 2908 2909 2910 2911 2912\n",
      " 2913 2914 2915 2916 2917 2918 2919 2920 2921 2922 2923 2924 2925 2926\n",
      " 2927 2928 2929 2930 2931 2932 2933 2934 2935 2936 2937 2938 2939 2940]\n"
     ]
    }
   ],
   "source": [
    "for i, (train_index, test_index) in enumerate(kf.split(df, df['target'])):\n",
    "    print(f\"Fold {i}:\")\n",
    "    print(f\"  Train: index={train_index}\")\n",
    "    print(f\"  Test:  index={test_index}\")"
   ]
  },
  {
   "cell_type": "code",
   "execution_count": 12,
   "metadata": {},
   "outputs": [
    {
     "data": {
      "text/plain": [
       "0       AGN\n",
       "1       AGN\n",
       "2       AGN\n",
       "3       AGN\n",
       "4       AGN\n",
       "       ... \n",
       "2936    YSO\n",
       "2937    YSO\n",
       "2938    YSO\n",
       "2939    YSO\n",
       "2940    YSO\n",
       "Name: target, Length: 2941, dtype: object"
      ]
     },
     "execution_count": 12,
     "metadata": {},
     "output_type": "execute_result"
    }
   ],
   "source": [
    "predictor.predict(df)"
   ]
  },
  {
   "cell_type": "code",
   "execution_count": 9,
   "metadata": {},
   "outputs": [],
   "source": [
    "y_test = df_test[label]\n",
    "df_test_nolab = df_test.drop(columns=[label])\n",
    "y_pred = predictor.predict(df_test_nolab)"
   ]
  },
  {
   "cell_type": "code",
   "execution_count": 13,
   "metadata": {},
   "outputs": [
    {
     "name": "stdout",
     "output_type": "stream",
     "text": [
      "              precision    recall  f1-score   support\n",
      "\n",
      "         AGN       0.95      0.98      0.96       263\n",
      "          CV       0.83      0.62      0.71         8\n",
      "     HM-STAR       0.68      0.60      0.64        25\n",
      "        HMXB       1.00      0.40      0.57         5\n",
      "     LM-STAR       0.84      0.81      0.83        53\n",
      "        LMXB       0.25      0.10      0.14        10\n",
      "          NS       0.76      0.76      0.76        17\n",
      "         YSO       0.92      0.96      0.94       208\n",
      "\n",
      "   micro avg       0.91      0.91      0.91       589\n",
      "   macro avg       0.78      0.65      0.69       589\n",
      "weighted avg       0.90      0.91      0.90       589\n",
      " samples avg       0.91      0.91      0.91       589\n",
      "\n"
     ]
    }
   ],
   "source": [
    "mlb = LabelBinarizer()\n",
    "\n",
    "y_true = mlb.fit_transform(y_test)\n",
    "y_pred = mlb.transform(y_pred)\n",
    "\n",
    "classes = mlb.classes_\n",
    "\n",
    "# classes, labels.shape\n",
    "\n",
    "print(classification_report(y_true, y_pred, \n",
    "                            output_dict=False,\n",
    "                            target_names=classes))"
   ]
  },
  {
   "cell_type": "code",
   "execution_count": null,
   "metadata": {},
   "outputs": [],
   "source": []
  },
  {
   "cell_type": "code",
   "execution_count": null,
   "metadata": {},
   "outputs": [],
   "source": []
  },
  {
   "cell_type": "code",
   "execution_count": 5,
   "metadata": {},
   "outputs": [
    {
     "name": "stderr",
     "output_type": "stream",
     "text": [
      "Loaded data from: https://autogluon.s3.amazonaws.com/datasets/Inc/test.csv | Columns = 15 / 15 | Rows = 9769 -> 9769\n"
     ]
    },
    {
     "data": {
      "text/html": [
       "<div>\n",
       "<style scoped>\n",
       "    .dataframe tbody tr th:only-of-type {\n",
       "        vertical-align: middle;\n",
       "    }\n",
       "\n",
       "    .dataframe tbody tr th {\n",
       "        vertical-align: top;\n",
       "    }\n",
       "\n",
       "    .dataframe thead th {\n",
       "        text-align: right;\n",
       "    }\n",
       "</style>\n",
       "<table border=\"1\" class=\"dataframe\">\n",
       "  <thead>\n",
       "    <tr style=\"text-align: right;\">\n",
       "      <th></th>\n",
       "      <th>age</th>\n",
       "      <th>workclass</th>\n",
       "      <th>fnlwgt</th>\n",
       "      <th>education</th>\n",
       "      <th>education-num</th>\n",
       "      <th>marital-status</th>\n",
       "      <th>occupation</th>\n",
       "      <th>relationship</th>\n",
       "      <th>race</th>\n",
       "      <th>sex</th>\n",
       "      <th>capital-gain</th>\n",
       "      <th>capital-loss</th>\n",
       "      <th>hours-per-week</th>\n",
       "      <th>native-country</th>\n",
       "    </tr>\n",
       "  </thead>\n",
       "  <tbody>\n",
       "    <tr>\n",
       "      <th>0</th>\n",
       "      <td>31</td>\n",
       "      <td>Private</td>\n",
       "      <td>169085</td>\n",
       "      <td>11th</td>\n",
       "      <td>7</td>\n",
       "      <td>Married-civ-spouse</td>\n",
       "      <td>Sales</td>\n",
       "      <td>Wife</td>\n",
       "      <td>White</td>\n",
       "      <td>Female</td>\n",
       "      <td>0</td>\n",
       "      <td>0</td>\n",
       "      <td>20</td>\n",
       "      <td>United-States</td>\n",
       "    </tr>\n",
       "    <tr>\n",
       "      <th>1</th>\n",
       "      <td>17</td>\n",
       "      <td>Self-emp-not-inc</td>\n",
       "      <td>226203</td>\n",
       "      <td>12th</td>\n",
       "      <td>8</td>\n",
       "      <td>Never-married</td>\n",
       "      <td>Sales</td>\n",
       "      <td>Own-child</td>\n",
       "      <td>White</td>\n",
       "      <td>Male</td>\n",
       "      <td>0</td>\n",
       "      <td>0</td>\n",
       "      <td>45</td>\n",
       "      <td>United-States</td>\n",
       "    </tr>\n",
       "    <tr>\n",
       "      <th>2</th>\n",
       "      <td>47</td>\n",
       "      <td>Private</td>\n",
       "      <td>54260</td>\n",
       "      <td>Assoc-voc</td>\n",
       "      <td>11</td>\n",
       "      <td>Married-civ-spouse</td>\n",
       "      <td>Exec-managerial</td>\n",
       "      <td>Husband</td>\n",
       "      <td>White</td>\n",
       "      <td>Male</td>\n",
       "      <td>0</td>\n",
       "      <td>1887</td>\n",
       "      <td>60</td>\n",
       "      <td>United-States</td>\n",
       "    </tr>\n",
       "    <tr>\n",
       "      <th>3</th>\n",
       "      <td>21</td>\n",
       "      <td>Private</td>\n",
       "      <td>176262</td>\n",
       "      <td>Some-college</td>\n",
       "      <td>10</td>\n",
       "      <td>Never-married</td>\n",
       "      <td>Exec-managerial</td>\n",
       "      <td>Own-child</td>\n",
       "      <td>White</td>\n",
       "      <td>Female</td>\n",
       "      <td>0</td>\n",
       "      <td>0</td>\n",
       "      <td>30</td>\n",
       "      <td>United-States</td>\n",
       "    </tr>\n",
       "    <tr>\n",
       "      <th>4</th>\n",
       "      <td>17</td>\n",
       "      <td>Private</td>\n",
       "      <td>241185</td>\n",
       "      <td>12th</td>\n",
       "      <td>8</td>\n",
       "      <td>Never-married</td>\n",
       "      <td>Prof-specialty</td>\n",
       "      <td>Own-child</td>\n",
       "      <td>White</td>\n",
       "      <td>Male</td>\n",
       "      <td>0</td>\n",
       "      <td>0</td>\n",
       "      <td>20</td>\n",
       "      <td>United-States</td>\n",
       "    </tr>\n",
       "  </tbody>\n",
       "</table>\n",
       "</div>"
      ],
      "text/plain": [
       "   age          workclass  fnlwgt      education  education-num  \\\n",
       "0   31            Private  169085           11th              7   \n",
       "1   17   Self-emp-not-inc  226203           12th              8   \n",
       "2   47            Private   54260      Assoc-voc             11   \n",
       "3   21            Private  176262   Some-college             10   \n",
       "4   17            Private  241185           12th              8   \n",
       "\n",
       "        marital-status        occupation relationship    race      sex  \\\n",
       "0   Married-civ-spouse             Sales         Wife   White   Female   \n",
       "1        Never-married             Sales    Own-child   White     Male   \n",
       "2   Married-civ-spouse   Exec-managerial      Husband   White     Male   \n",
       "3        Never-married   Exec-managerial    Own-child   White   Female   \n",
       "4        Never-married    Prof-specialty    Own-child   White     Male   \n",
       "\n",
       "   capital-gain  capital-loss  hours-per-week  native-country  \n",
       "0             0             0              20   United-States  \n",
       "1             0             0              45   United-States  \n",
       "2             0          1887              60   United-States  \n",
       "3             0             0              30   United-States  \n",
       "4             0             0              20   United-States  "
      ]
     },
     "execution_count": 5,
     "metadata": {},
     "output_type": "execute_result"
    }
   ],
   "source": [
    "test_data = TabularDataset('https://autogluon.s3.amazonaws.com/datasets/Inc/test.csv')\n",
    "y_test = test_data[label]  # values to predict\n",
    "test_data_nolab = test_data.drop(columns=[label])  # delete label column to prove we're not cheating\n",
    "test_data_nolab.head()"
   ]
  },
  {
   "cell_type": "code",
   "execution_count": 6,
   "metadata": {},
   "outputs": [
    {
     "name": "stderr",
     "output_type": "stream",
     "text": [
      "Evaluation: accuracy on test data: 0.8374449790152523\n",
      "Evaluations on test data:\n",
      "{\n",
      "    \"accuracy\": 0.8374449790152523,\n",
      "    \"balanced_accuracy\": 0.7430558394221018,\n",
      "    \"mcc\": 0.5243657567117436,\n",
      "    \"f1\": 0.621904761904762,\n",
      "    \"precision\": 0.69394261424017,\n",
      "    \"recall\": 0.5634167385677308\n",
      "}\n"
     ]
    },
    {
     "name": "stdout",
     "output_type": "stream",
     "text": [
      "Predictions:  \n",
      " 0        <=50K\n",
      "1        <=50K\n",
      "2        <=50K\n",
      "3        <=50K\n",
      "4        <=50K\n",
      "         ...  \n",
      "9764     <=50K\n",
      "9765     <=50K\n",
      "9766     <=50K\n",
      "9767     <=50K\n",
      "9768     <=50K\n",
      "Name: class, Length: 9769, dtype: object\n"
     ]
    }
   ],
   "source": [
    "predictor = TabularPredictor.load(save_path)  # unnecessary, just demonstrates how to load previously-trained predictor from file\n",
    "\n",
    "y_pred = predictor.predict(test_data_nolab)\n",
    "print(\"Predictions:  \\n\", y_pred)\n",
    "perf = predictor.evaluate_predictions(y_true=y_test, y_pred=y_pred, auxiliary_metrics=True)"
   ]
  },
  {
   "cell_type": "code",
   "execution_count": 7,
   "metadata": {},
   "outputs": [
    {
     "data": {
      "text/plain": [
       "{'accuracy': 0.8374449790152523,\n",
       " 'balanced_accuracy': 0.7430558394221018,\n",
       " 'mcc': 0.5243657567117436,\n",
       " 'f1': 0.621904761904762,\n",
       " 'precision': 0.69394261424017,\n",
       " 'recall': 0.5634167385677308}"
      ]
     },
     "execution_count": 7,
     "metadata": {},
     "output_type": "execute_result"
    }
   ],
   "source": [
    "perf"
   ]
  },
  {
   "cell_type": "code",
   "execution_count": 1,
   "metadata": {
    "id": "pUnlnXGt2NET"
   },
   "outputs": [],
   "source": [
    "# import os\n",
    "# # os.environ['TF_CPP_MIN_LOG_LEVEL'] = '3'\n",
    "\n",
    "# import numpy as np\n",
    "# import pandas as pd\n",
    "\n",
    "# import pickle as pkl\n",
    "# import re\n",
    "# import json\n",
    "# from collections import Counter\n",
    "\n",
    "# import matplotlib.pyplot as plt\n",
    "\n",
    "# import tensorflow as tf\n",
    "# from tensorflow import keras\n",
    "# from tensorflow.keras.callbacks import EarlyStopping\n",
    "# from tensorflow.keras import layers\n",
    "\n",
    "# import autokeras as ak # !pip install autokeras\n",
    "\n",
    "# from sklearn.preprocessing import MultiLabelBinarizer, LabelBinarizer\n",
    "# from sklearn.model_selection import train_test_split\n",
    "# from sklearn.metrics import classification_report\n",
    "\n",
    "# from pandarallel import pandarallel\n",
    "# pandarallel.initialize(progress_bar=False)\n",
    "\n",
    "# # import datetime\n",
    "# # import hvplot"
   ]
  },
  {
   "cell_type": "code",
   "execution_count": 2,
   "metadata": {},
   "outputs": [],
   "source": [
    "# %env CLEARML_WEB_HOST=https://app.clear.ml\n",
    "# %env CLEARML_API_HOST=https://api.clear.ml\n",
    "# %env CLEARML_FILES_HOST=https://files.clear.ml\n",
    "# %env CLEARML_API_ACCESS_KEY=Z0Z7YQU3HMJI84E6VJFE\n",
    "# %env CLEARML_API_SECRET_KEY=GLBnwfxSOb2lzWDibL9uHR5FQwg5bAKFxBllsYMUwB8ljyZtrl"
   ]
  },
  {
   "cell_type": "code",
   "execution_count": 3,
   "metadata": {},
   "outputs": [],
   "source": [
    "# from clearml import Task"
   ]
  },
  {
   "cell_type": "code",
   "execution_count": 4,
   "metadata": {},
   "outputs": [],
   "source": [
    "# task = Task.init(project_name='great project', task_name='best experiment')"
   ]
  },
  {
   "cell_type": "code",
   "execution_count": 5,
   "metadata": {},
   "outputs": [],
   "source": [
    "# %load_ext tensorboard"
   ]
  },
  {
   "cell_type": "code",
   "execution_count": 6,
   "metadata": {},
   "outputs": [],
   "source": [
    "# rm -rf ./logs/"
   ]
  },
  {
   "cell_type": "code",
   "execution_count": 7,
   "metadata": {},
   "outputs": [],
   "source": [
    "# log_dir = \"logs/fit/\" + datetime.datetime.now().strftime(\"%Y%m%d-%H%M%S\")\n",
    "# tensorboard_callback = tf.keras.callbacks.TensorBoard(log_dir=log_dir, histogram_freq=1)"
   ]
  },
  {
   "cell_type": "code",
   "execution_count": 8,
   "metadata": {},
   "outputs": [],
   "source": [
    "# %tensorboard --logdir logs/fit --host localhost"
   ]
  },
  {
   "cell_type": "code",
   "execution_count": 9,
   "metadata": {},
   "outputs": [],
   "source": [
    "SEED = 321 #165 #321 #434"
   ]
  },
  {
   "cell_type": "code",
   "execution_count": 10,
   "metadata": {},
   "outputs": [],
   "source": [
    "# if not os.path.exists(out_dir):\n",
    "#     os.mkdir(out_dir)"
   ]
  },
  {
   "cell_type": "code",
   "execution_count": 11,
   "metadata": {},
   "outputs": [],
   "source": [
    "log_features = ['Fs', 'Fm', 'Fh', 'Fb', \n",
    "                'rgeo', 'b_rgeo', 'B_rgeo',\n",
    "                'PM'\n",
    "               ]\n",
    "\n",
    "features = ['Fs', 'Fm', 'Fh', 'Fb',\n",
    "            'P_intra', 'P_inter',\n",
    "            'Gmag', 'BPmag', 'RPmag', 'Jmag', 'Hmag', 'Kmag',\n",
    "            'W1mag', 'W2mag', 'W3mag',\n",
    "            'Plx', 'PM',\n",
    "            'rgeo', 'b_rgeo', 'B_rgeo'\n",
    "           ]\n",
    "\n",
    "errors = ['e_Fs', 'e_Fm', 'e_Fh', 'e_Fb',\n",
    "          'e_Gmag', 'e_BPmag', 'e_RPmag', 'e_Jmag', 'e_Hmag', 'e_Kmag',\n",
    "          'e_W1mag', 'e_W2mag', 'e_W3mag', \n",
    "          'e_Plx']"
   ]
  },
  {
   "cell_type": "code",
   "execution_count": 12,
   "metadata": {},
   "outputs": [
    {
     "data": {
      "text/html": [
       "<div>\n",
       "<style scoped>\n",
       "    .dataframe tbody tr th:only-of-type {\n",
       "        vertical-align: middle;\n",
       "    }\n",
       "\n",
       "    .dataframe tbody tr th {\n",
       "        vertical-align: top;\n",
       "    }\n",
       "\n",
       "    .dataframe thead th {\n",
       "        text-align: right;\n",
       "    }\n",
       "</style>\n",
       "<table border=\"1\" class=\"dataframe\">\n",
       "  <thead>\n",
       "    <tr style=\"text-align: right;\">\n",
       "      <th></th>\n",
       "      <th>CSCv2_name</th>\n",
       "      <th>CSCv2_RA</th>\n",
       "      <th>CSCv2_DEC</th>\n",
       "      <th>CSCv2_PU</th>\n",
       "      <th>CSCv2_S/N</th>\n",
       "      <th>Fs</th>\n",
       "      <th>e_Fs</th>\n",
       "      <th>Fm</th>\n",
       "      <th>e_Fm</th>\n",
       "      <th>Fh</th>\n",
       "      <th>...</th>\n",
       "      <th>e_P_NS</th>\n",
       "      <th>e_P_YSO</th>\n",
       "      <th>Class</th>\n",
       "      <th>Class_prob</th>\n",
       "      <th>e_Class_prob</th>\n",
       "      <th>CT</th>\n",
       "      <th>CSCv2_flags</th>\n",
       "      <th>Catalog_name</th>\n",
       "      <th>True_Class</th>\n",
       "      <th>Class_ref</th>\n",
       "    </tr>\n",
       "  </thead>\n",
       "  <tbody>\n",
       "    <tr>\n",
       "      <th>0</th>\n",
       "      <td>2CXO J000009.3+135618</td>\n",
       "      <td>0.039115</td>\n",
       "      <td>13.938493</td>\n",
       "      <td>0.79</td>\n",
       "      <td>1.95</td>\n",
       "      <td>-14.698970</td>\n",
       "      <td>1.000000e-15</td>\n",
       "      <td>-15.301030</td>\n",
       "      <td>5.000000e-16</td>\n",
       "      <td>-14.698970</td>\n",
       "      <td>...</td>\n",
       "      <td>0.0040</td>\n",
       "      <td>0.0500</td>\n",
       "      <td>AGN</td>\n",
       "      <td>0.900</td>\n",
       "      <td>0.100</td>\n",
       "      <td>5.307</td>\n",
       "      <td>NaN</td>\n",
       "      <td>SDSS J00001+1356</td>\n",
       "      <td>AGN</td>\n",
       "      <td>2010A&amp;A...518A..10V</td>\n",
       "    </tr>\n",
       "    <tr>\n",
       "      <th>1</th>\n",
       "      <td>2CXO J000230.7+004959</td>\n",
       "      <td>0.627974</td>\n",
       "      <td>0.833072</td>\n",
       "      <td>0.72</td>\n",
       "      <td>11.07</td>\n",
       "      <td>-13.244125</td>\n",
       "      <td>7.000000e-15</td>\n",
       "      <td>-13.537602</td>\n",
       "      <td>5.000000e-15</td>\n",
       "      <td>-13.221849</td>\n",
       "      <td>...</td>\n",
       "      <td>0.0003</td>\n",
       "      <td>0.0004</td>\n",
       "      <td>AGN</td>\n",
       "      <td>0.999</td>\n",
       "      <td>0.004</td>\n",
       "      <td>145.799</td>\n",
       "      <td>NaN</td>\n",
       "      <td>PB 5698</td>\n",
       "      <td>AGN</td>\n",
       "      <td>2010A&amp;A...518A..10V</td>\n",
       "    </tr>\n",
       "    <tr>\n",
       "      <th>2</th>\n",
       "      <td>2CXO J000622.6-000424</td>\n",
       "      <td>1.594324</td>\n",
       "      <td>-0.073573</td>\n",
       "      <td>0.78</td>\n",
       "      <td>25.42</td>\n",
       "      <td>-12.823909</td>\n",
       "      <td>1.000000e-14</td>\n",
       "      <td>-12.931814</td>\n",
       "      <td>8.000000e-15</td>\n",
       "      <td>-12.397940</td>\n",
       "      <td>...</td>\n",
       "      <td>0.0050</td>\n",
       "      <td>0.0009</td>\n",
       "      <td>AGN</td>\n",
       "      <td>0.970</td>\n",
       "      <td>0.020</td>\n",
       "      <td>20.820</td>\n",
       "      <td>extent</td>\n",
       "      <td>3C   2.0</td>\n",
       "      <td>AGN</td>\n",
       "      <td>2010A&amp;A...518A..10V</td>\n",
       "    </tr>\n",
       "    <tr>\n",
       "      <th>3</th>\n",
       "      <td>2CXO J000659.2-001740</td>\n",
       "      <td>1.747051</td>\n",
       "      <td>-0.294661</td>\n",
       "      <td>0.84</td>\n",
       "      <td>4.11</td>\n",
       "      <td>-13.958607</td>\n",
       "      <td>4.000000e-15</td>\n",
       "      <td>-14.221849</td>\n",
       "      <td>3.000000e-15</td>\n",
       "      <td>-13.853872</td>\n",
       "      <td>...</td>\n",
       "      <td>0.0030</td>\n",
       "      <td>0.0070</td>\n",
       "      <td>AGN</td>\n",
       "      <td>0.950</td>\n",
       "      <td>0.060</td>\n",
       "      <td>8.318</td>\n",
       "      <td>NaN</td>\n",
       "      <td>SDSS J00069-0017</td>\n",
       "      <td>AGN</td>\n",
       "      <td>2010A&amp;A...518A..10V</td>\n",
       "    </tr>\n",
       "    <tr>\n",
       "      <th>4</th>\n",
       "      <td>2CXO J000703.6+155423</td>\n",
       "      <td>1.765007</td>\n",
       "      <td>15.906575</td>\n",
       "      <td>0.72</td>\n",
       "      <td>8.63</td>\n",
       "      <td>-14.301030</td>\n",
       "      <td>3.000000e-15</td>\n",
       "      <td>-13.795880</td>\n",
       "      <td>6.000000e-15</td>\n",
       "      <td>-12.267606</td>\n",
       "      <td>...</td>\n",
       "      <td>0.0004</td>\n",
       "      <td>0.0090</td>\n",
       "      <td>AGN</td>\n",
       "      <td>0.990</td>\n",
       "      <td>0.010</td>\n",
       "      <td>47.057</td>\n",
       "      <td>NaN</td>\n",
       "      <td>2MASS J00070+1554</td>\n",
       "      <td>AGN</td>\n",
       "      <td>2010A&amp;A...518A..10V</td>\n",
       "    </tr>\n",
       "    <tr>\n",
       "      <th>...</th>\n",
       "      <td>...</td>\n",
       "      <td>...</td>\n",
       "      <td>...</td>\n",
       "      <td>...</td>\n",
       "      <td>...</td>\n",
       "      <td>...</td>\n",
       "      <td>...</td>\n",
       "      <td>...</td>\n",
       "      <td>...</td>\n",
       "      <td>...</td>\n",
       "      <td>...</td>\n",
       "      <td>...</td>\n",
       "      <td>...</td>\n",
       "      <td>...</td>\n",
       "      <td>...</td>\n",
       "      <td>...</td>\n",
       "      <td>...</td>\n",
       "      <td>...</td>\n",
       "      <td>...</td>\n",
       "      <td>...</td>\n",
       "      <td>...</td>\n",
       "    </tr>\n",
       "    <tr>\n",
       "      <th>2936</th>\n",
       "      <td>2CXO J183000.6+011340</td>\n",
       "      <td>277.502734</td>\n",
       "      <td>1.227794</td>\n",
       "      <td>0.71</td>\n",
       "      <td>20.82</td>\n",
       "      <td>-14.657577</td>\n",
       "      <td>4.000000e-16</td>\n",
       "      <td>-13.795880</td>\n",
       "      <td>1.000000e-15</td>\n",
       "      <td>-13.200659</td>\n",
       "      <td>...</td>\n",
       "      <td>0.0010</td>\n",
       "      <td>0.0300</td>\n",
       "      <td>YSO</td>\n",
       "      <td>0.930</td>\n",
       "      <td>0.030</td>\n",
       "      <td>16.735</td>\n",
       "      <td>NaN</td>\n",
       "      <td>2MASS J18300065+0113402</td>\n",
       "      <td>YSO</td>\n",
       "      <td>2007A&amp;A...463..275G</td>\n",
       "    </tr>\n",
       "    <tr>\n",
       "      <th>2937</th>\n",
       "      <td>2CXO J183001.1+011324</td>\n",
       "      <td>277.504621</td>\n",
       "      <td>1.223367</td>\n",
       "      <td>0.75</td>\n",
       "      <td>8.10</td>\n",
       "      <td>-16.154902</td>\n",
       "      <td>7.000000e-17</td>\n",
       "      <td>-15.000000</td>\n",
       "      <td>3.000000e-16</td>\n",
       "      <td>-13.795880</td>\n",
       "      <td>...</td>\n",
       "      <td>0.0010</td>\n",
       "      <td>0.0900</td>\n",
       "      <td>YSO</td>\n",
       "      <td>0.800</td>\n",
       "      <td>0.090</td>\n",
       "      <td>3.192</td>\n",
       "      <td>NaN</td>\n",
       "      <td>2MASS J18300111+0113242</td>\n",
       "      <td>YSO</td>\n",
       "      <td>2007A&amp;A...463..275G</td>\n",
       "    </tr>\n",
       "    <tr>\n",
       "      <th>2938</th>\n",
       "      <td>2CXO J183003.4+011619</td>\n",
       "      <td>277.514213</td>\n",
       "      <td>1.271981</td>\n",
       "      <td>0.73</td>\n",
       "      <td>13.69</td>\n",
       "      <td>-14.508638</td>\n",
       "      <td>5.000000e-16</td>\n",
       "      <td>-14.136677</td>\n",
       "      <td>8.000000e-16</td>\n",
       "      <td>-13.744727</td>\n",
       "      <td>...</td>\n",
       "      <td>0.0000</td>\n",
       "      <td>0.0050</td>\n",
       "      <td>YSO</td>\n",
       "      <td>0.998</td>\n",
       "      <td>0.005</td>\n",
       "      <td>124.848</td>\n",
       "      <td>NaN</td>\n",
       "      <td>2MASS J18300341+0116191</td>\n",
       "      <td>YSO</td>\n",
       "      <td>2007A&amp;A...463..275G</td>\n",
       "    </tr>\n",
       "    <tr>\n",
       "      <th>2939</th>\n",
       "      <td>2CXO J183007.7+011204</td>\n",
       "      <td>277.532159</td>\n",
       "      <td>1.201211</td>\n",
       "      <td>0.75</td>\n",
       "      <td>15.60</td>\n",
       "      <td>-14.420216</td>\n",
       "      <td>6.000000e-16</td>\n",
       "      <td>-14.000000</td>\n",
       "      <td>1.000000e-15</td>\n",
       "      <td>-13.619789</td>\n",
       "      <td>...</td>\n",
       "      <td>0.0000</td>\n",
       "      <td>0.0070</td>\n",
       "      <td>YSO</td>\n",
       "      <td>0.996</td>\n",
       "      <td>0.007</td>\n",
       "      <td>84.887</td>\n",
       "      <td>extent</td>\n",
       "      <td>2MASS J18300770+0112043</td>\n",
       "      <td>YSO</td>\n",
       "      <td>2007A&amp;A...463..275G</td>\n",
       "    </tr>\n",
       "    <tr>\n",
       "      <th>2940</th>\n",
       "      <td>2CXO J183011.1+011237</td>\n",
       "      <td>277.546341</td>\n",
       "      <td>1.210521</td>\n",
       "      <td>0.73</td>\n",
       "      <td>39.96</td>\n",
       "      <td>-13.657577</td>\n",
       "      <td>1.000000e-15</td>\n",
       "      <td>-13.180456</td>\n",
       "      <td>2.000000e-15</td>\n",
       "      <td>-12.657577</td>\n",
       "      <td>...</td>\n",
       "      <td>0.0100</td>\n",
       "      <td>0.0500</td>\n",
       "      <td>LMXB</td>\n",
       "      <td>0.410</td>\n",
       "      <td>0.070</td>\n",
       "      <td>1.452</td>\n",
       "      <td>extent</td>\n",
       "      <td>2MASS J18301111+0112379</td>\n",
       "      <td>YSO</td>\n",
       "      <td>2007A&amp;A...463..275G</td>\n",
       "    </tr>\n",
       "  </tbody>\n",
       "</table>\n",
       "<p>2941 rows × 63 columns</p>\n",
       "</div>"
      ],
      "text/plain": [
       "                 CSCv2_name    CSCv2_RA  CSCv2_DEC  CSCv2_PU  CSCv2_S/N  \\\n",
       "0     2CXO J000009.3+135618    0.039115  13.938493      0.79       1.95   \n",
       "1     2CXO J000230.7+004959    0.627974   0.833072      0.72      11.07   \n",
       "2     2CXO J000622.6-000424    1.594324  -0.073573      0.78      25.42   \n",
       "3     2CXO J000659.2-001740    1.747051  -0.294661      0.84       4.11   \n",
       "4     2CXO J000703.6+155423    1.765007  15.906575      0.72       8.63   \n",
       "...                     ...         ...        ...       ...        ...   \n",
       "2936  2CXO J183000.6+011340  277.502734   1.227794      0.71      20.82   \n",
       "2937  2CXO J183001.1+011324  277.504621   1.223367      0.75       8.10   \n",
       "2938  2CXO J183003.4+011619  277.514213   1.271981      0.73      13.69   \n",
       "2939  2CXO J183007.7+011204  277.532159   1.201211      0.75      15.60   \n",
       "2940  2CXO J183011.1+011237  277.546341   1.210521      0.73      39.96   \n",
       "\n",
       "             Fs          e_Fs         Fm          e_Fm         Fh  ...  \\\n",
       "0    -14.698970  1.000000e-15 -15.301030  5.000000e-16 -14.698970  ...   \n",
       "1    -13.244125  7.000000e-15 -13.537602  5.000000e-15 -13.221849  ...   \n",
       "2    -12.823909  1.000000e-14 -12.931814  8.000000e-15 -12.397940  ...   \n",
       "3    -13.958607  4.000000e-15 -14.221849  3.000000e-15 -13.853872  ...   \n",
       "4    -14.301030  3.000000e-15 -13.795880  6.000000e-15 -12.267606  ...   \n",
       "...         ...           ...        ...           ...        ...  ...   \n",
       "2936 -14.657577  4.000000e-16 -13.795880  1.000000e-15 -13.200659  ...   \n",
       "2937 -16.154902  7.000000e-17 -15.000000  3.000000e-16 -13.795880  ...   \n",
       "2938 -14.508638  5.000000e-16 -14.136677  8.000000e-16 -13.744727  ...   \n",
       "2939 -14.420216  6.000000e-16 -14.000000  1.000000e-15 -13.619789  ...   \n",
       "2940 -13.657577  1.000000e-15 -13.180456  2.000000e-15 -12.657577  ...   \n",
       "\n",
       "      e_P_NS  e_P_YSO  Class  Class_prob  e_Class_prob       CT  CSCv2_flags  \\\n",
       "0     0.0040   0.0500    AGN       0.900         0.100    5.307          NaN   \n",
       "1     0.0003   0.0004    AGN       0.999         0.004  145.799          NaN   \n",
       "2     0.0050   0.0009    AGN       0.970         0.020   20.820       extent   \n",
       "3     0.0030   0.0070    AGN       0.950         0.060    8.318          NaN   \n",
       "4     0.0004   0.0090    AGN       0.990         0.010   47.057          NaN   \n",
       "...      ...      ...    ...         ...           ...      ...          ...   \n",
       "2936  0.0010   0.0300    YSO       0.930         0.030   16.735          NaN   \n",
       "2937  0.0010   0.0900    YSO       0.800         0.090    3.192          NaN   \n",
       "2938  0.0000   0.0050    YSO       0.998         0.005  124.848          NaN   \n",
       "2939  0.0000   0.0070    YSO       0.996         0.007   84.887       extent   \n",
       "2940  0.0100   0.0500   LMXB       0.410         0.070    1.452       extent   \n",
       "\n",
       "                 Catalog_name  True_Class            Class_ref  \n",
       "0            SDSS J00001+1356         AGN  2010A&A...518A..10V  \n",
       "1                     PB 5698         AGN  2010A&A...518A..10V  \n",
       "2                    3C   2.0         AGN  2010A&A...518A..10V  \n",
       "3            SDSS J00069-0017         AGN  2010A&A...518A..10V  \n",
       "4           2MASS J00070+1554         AGN  2010A&A...518A..10V  \n",
       "...                       ...         ...                  ...  \n",
       "2936  2MASS J18300065+0113402         YSO  2007A&A...463..275G  \n",
       "2937  2MASS J18300111+0113242         YSO  2007A&A...463..275G  \n",
       "2938  2MASS J18300341+0116191         YSO  2007A&A...463..275G  \n",
       "2939  2MASS J18300770+0112043         YSO  2007A&A...463..275G  \n",
       "2940  2MASS J18301111+0112379         YSO  2007A&A...463..275G  \n",
       "\n",
       "[2941 rows x 63 columns]"
      ]
     },
     "execution_count": 12,
     "metadata": {},
     "output_type": "execute_result"
    }
   ],
   "source": [
    "df = pd.read_csv('TD.csv')\n",
    "df[log_features] = df[log_features].apply(np.log10)\n",
    "df"
   ]
  },
  {
   "cell_type": "code",
   "execution_count": 13,
   "metadata": {},
   "outputs": [],
   "source": [
    "# {f: [df[f].min(), df[f].max()] for f in features}"
   ]
  },
  {
   "cell_type": "code",
   "execution_count": 14,
   "metadata": {},
   "outputs": [],
   "source": [
    "df_feat = df[features].apply(lambda x : (x-x.mean())/x.std())"
   ]
  },
  {
   "cell_type": "code",
   "execution_count": 15,
   "metadata": {},
   "outputs": [
    {
     "data": {
      "text/plain": [
       "{'Fs': [-2.576097051867796, 3.037547888651721],\n",
       " 'Fm': [-3.1633175259424413, 3.353068673263792],\n",
       " 'Fh': [-3.167529234962109, 3.6737353736479137],\n",
       " 'Fb': [-2.359584277219483, 4.031512746439284],\n",
       " 'P_intra': [-2.292931596557009, 0.9472948406444076],\n",
       " 'P_inter': [-3.0385115023161156, 0.6455515963566589],\n",
       " 'Gmag': [-4.196046959939427, 1.5323452993212447],\n",
       " 'BPmag': [-4.0727319624873894, 1.731833276730117],\n",
       " 'RPmag': [-4.124723888688924, 1.6909016342756864],\n",
       " 'Jmag': [-4.425041079460414, 2.124007095008807],\n",
       " 'Hmag': [-4.71265263641138, 2.3305540821294275],\n",
       " 'Kmag': [-4.862626877029222, 2.3155364970244823],\n",
       " 'W1mag': [-4.481634646882916, 1.9060303148077884],\n",
       " 'W2mag': [-4.555152917342131, 2.0219436807633633],\n",
       " 'W3mag': [-6.329868656158829, 1.6005678318859842],\n",
       " 'Plx': [-2.4774673348866676, 13.867643841820009],\n",
       " 'PM': [-3.5940296284202304, 2.597799702665246],\n",
       " 'rgeo': [-3.0630369317925497, 2.322108818082452],\n",
       " 'b_rgeo': [-3.20847676381954, 2.6005180022943195],\n",
       " 'B_rgeo': [-2.9034591466815143, 2.3233648115374446]}"
      ]
     },
     "execution_count": 15,
     "metadata": {},
     "output_type": "execute_result"
    }
   ],
   "source": [
    "{f: [df_feat[f].min(), df_feat[f].max()] for f in features}"
   ]
  },
  {
   "cell_type": "code",
   "execution_count": 16,
   "metadata": {},
   "outputs": [],
   "source": [
    "# bins = np.arange(df_feat.min().min(), df_feat.max().max(), 0.1)\n",
    "\n",
    "# df_dig = df_feat.apply(lambda x : np.digitize(x, bins))\n",
    "# df_dig[df_feat.isna()] = 0\n",
    "\n",
    "# tf_dig = tf.constant(df_dig, dtype=tf.int32)\n",
    "\n",
    "# len(bins)"
   ]
  },
  {
   "cell_type": "code",
   "execution_count": 17,
   "metadata": {},
   "outputs": [
    {
     "name": "stdout",
     "output_type": "stream",
     "text": [
      "Fs          0.000000\n",
      "Fm          0.000000\n",
      "Fh          0.000000\n",
      "Fb          0.000000\n",
      "P_intra     7.446447\n",
      "P_inter    54.403264\n",
      "Gmag       24.311459\n",
      "BPmag      25.127508\n",
      "RPmag      24.957497\n",
      "Jmag       37.980279\n",
      "Hmag       37.980279\n",
      "Kmag       37.980279\n",
      "W1mag      23.937436\n",
      "W2mag      24.651479\n",
      "W3mag      38.796328\n",
      "Plx        32.709963\n",
      "PM         32.709963\n",
      "rgeo       32.709963\n",
      "b_rgeo     32.709963\n",
      "B_rgeo     32.709963\n",
      "dtype: float64\n"
     ]
    }
   ],
   "source": [
    "print((df_feat.isna().sum()/len(df_feat)*100))"
   ]
  },
  {
   "cell_type": "code",
   "execution_count": 18,
   "metadata": {},
   "outputs": [
    {
     "data": {
      "text/plain": [
       "Counter({'AGN': 1390,\n",
       "         'CV': 44,\n",
       "         'HM-STAR': 118,\n",
       "         'YSO': 1004,\n",
       "         'HMXB': 26,\n",
       "         'LMXB': 65,\n",
       "         'LM-STAR': 207,\n",
       "         'NS': 87})"
      ]
     },
     "execution_count": 18,
     "metadata": {},
     "output_type": "execute_result"
    }
   ],
   "source": [
    "Counter(df['True_Class'])"
   ]
  },
  {
   "cell_type": "code",
   "execution_count": 19,
   "metadata": {},
   "outputs": [
    {
     "name": "stdout",
     "output_type": "stream",
     "text": [
      "              precision    recall  f1-score   support\n",
      "\n",
      "         AGN       0.98      0.93      0.95      1390\n",
      "          CV       0.48      0.55      0.51        44\n",
      "     HM-STAR       0.67      0.72      0.69       118\n",
      "        HMXB       0.75      0.69      0.72        26\n",
      "     LM-STAR       0.81      0.86      0.84       207\n",
      "        LMXB       0.19      0.26      0.22        65\n",
      "          NS       0.51      0.68      0.58        87\n",
      "         YSO       0.93      0.94      0.93      1004\n",
      "\n",
      "   micro avg       0.89      0.89      0.89      2941\n",
      "   macro avg       0.67      0.70      0.68      2941\n",
      "weighted avg       0.90      0.89      0.89      2941\n",
      " samples avg       0.89      0.89      0.89      2941\n",
      "\n"
     ]
    }
   ],
   "source": [
    "mlb = LabelBinarizer()\n",
    "\n",
    "y_true = mlb.fit_transform(df['True_Class'])\n",
    "y_pred_hui = mlb.transform(df['Class'])\n",
    "\n",
    "classes = mlb.classes_\n",
    "\n",
    "# classes, labels.shape\n",
    "\n",
    "print(classification_report(y_true, y_pred_hui, \n",
    "                            output_dict=False,\n",
    "                            target_names=classes))"
   ]
  },
  {
   "cell_type": "code",
   "execution_count": 20,
   "metadata": {},
   "outputs": [],
   "source": [
    "# tf_y_true = tf.constant(y_true, dtype=tf.int32)\n",
    "# tf_y_true"
   ]
  },
  {
   "cell_type": "code",
   "execution_count": 21,
   "metadata": {},
   "outputs": [],
   "source": [
    "# model.get_config()"
   ]
  },
  {
   "cell_type": "code",
   "execution_count": 22,
   "metadata": {},
   "outputs": [],
   "source": [
    "# mod.get_config()"
   ]
  },
  {
   "cell_type": "code",
   "execution_count": 26,
   "metadata": {},
   "outputs": [
    {
     "data": {
      "text/html": [
       "<div>\n",
       "<style scoped>\n",
       "    .dataframe tbody tr th:only-of-type {\n",
       "        vertical-align: middle;\n",
       "    }\n",
       "\n",
       "    .dataframe tbody tr th {\n",
       "        vertical-align: top;\n",
       "    }\n",
       "\n",
       "    .dataframe thead th {\n",
       "        text-align: right;\n",
       "    }\n",
       "</style>\n",
       "<table border=\"1\" class=\"dataframe\">\n",
       "  <thead>\n",
       "    <tr style=\"text-align: right;\">\n",
       "      <th></th>\n",
       "      <th>Fs</th>\n",
       "      <th>Fm</th>\n",
       "      <th>Fh</th>\n",
       "      <th>Fb</th>\n",
       "      <th>P_intra</th>\n",
       "      <th>P_inter</th>\n",
       "      <th>Gmag</th>\n",
       "      <th>BPmag</th>\n",
       "      <th>RPmag</th>\n",
       "      <th>Jmag</th>\n",
       "      <th>Hmag</th>\n",
       "      <th>Kmag</th>\n",
       "      <th>W1mag</th>\n",
       "      <th>W2mag</th>\n",
       "      <th>W3mag</th>\n",
       "      <th>Plx</th>\n",
       "      <th>PM</th>\n",
       "      <th>rgeo</th>\n",
       "      <th>b_rgeo</th>\n",
       "      <th>B_rgeo</th>\n",
       "    </tr>\n",
       "  </thead>\n",
       "  <tbody>\n",
       "    <tr>\n",
       "      <th>0</th>\n",
       "      <td>-0.199449</td>\n",
       "      <td>-1.033569</td>\n",
       "      <td>-0.741320</td>\n",
       "      <td>-0.973895</td>\n",
       "      <td>0.697797</td>\n",
       "      <td>NaN</td>\n",
       "      <td>0.492168</td>\n",
       "      <td>0.535112</td>\n",
       "      <td>0.746560</td>\n",
       "      <td>NaN</td>\n",
       "      <td>NaN</td>\n",
       "      <td>NaN</td>\n",
       "      <td>0.853763</td>\n",
       "      <td>0.826402</td>\n",
       "      <td>0.487181</td>\n",
       "      <td>-0.742511</td>\n",
       "      <td>-1.095253</td>\n",
       "      <td>1.198046</td>\n",
       "      <td>1.122459</td>\n",
       "      <td>1.536628</td>\n",
       "    </tr>\n",
       "    <tr>\n",
       "      <th>1</th>\n",
       "      <td>1.242478</td>\n",
       "      <td>1.057694</td>\n",
       "      <td>0.753216</td>\n",
       "      <td>0.928074</td>\n",
       "      <td>-1.262540</td>\n",
       "      <td>NaN</td>\n",
       "      <td>0.288212</td>\n",
       "      <td>0.335138</td>\n",
       "      <td>0.531072</td>\n",
       "      <td>1.445468</td>\n",
       "      <td>1.631887</td>\n",
       "      <td>1.702818</td>\n",
       "      <td>0.548266</td>\n",
       "      <td>0.363090</td>\n",
       "      <td>0.268411</td>\n",
       "      <td>-0.514228</td>\n",
       "      <td>-1.089332</td>\n",
       "      <td>0.626017</td>\n",
       "      <td>0.611672</td>\n",
       "      <td>0.782127</td>\n",
       "    </tr>\n",
       "    <tr>\n",
       "      <th>2</th>\n",
       "      <td>1.658963</td>\n",
       "      <td>1.776103</td>\n",
       "      <td>1.586837</td>\n",
       "      <td>1.765626</td>\n",
       "      <td>-2.046674</td>\n",
       "      <td>NaN</td>\n",
       "      <td>0.969920</td>\n",
       "      <td>0.969431</td>\n",
       "      <td>1.193379</td>\n",
       "      <td>NaN</td>\n",
       "      <td>NaN</td>\n",
       "      <td>NaN</td>\n",
       "      <td>0.795132</td>\n",
       "      <td>0.706524</td>\n",
       "      <td>0.643446</td>\n",
       "      <td>-0.651198</td>\n",
       "      <td>-2.149547</td>\n",
       "      <td>0.370039</td>\n",
       "      <td>0.200022</td>\n",
       "      <td>0.403904</td>\n",
       "    </tr>\n",
       "    <tr>\n",
       "      <th>3</th>\n",
       "      <td>0.534340</td>\n",
       "      <td>0.246240</td>\n",
       "      <td>0.113741</td>\n",
       "      <td>0.121539</td>\n",
       "      <td>-0.290472</td>\n",
       "      <td>NaN</td>\n",
       "      <td>0.722391</td>\n",
       "      <td>0.706965</td>\n",
       "      <td>1.015919</td>\n",
       "      <td>NaN</td>\n",
       "      <td>NaN</td>\n",
       "      <td>NaN</td>\n",
       "      <td>1.180861</td>\n",
       "      <td>1.163357</td>\n",
       "      <td>NaN</td>\n",
       "      <td>-1.107765</td>\n",
       "      <td>-0.699429</td>\n",
       "      <td>0.800462</td>\n",
       "      <td>0.759952</td>\n",
       "      <td>0.929681</td>\n",
       "    </tr>\n",
       "    <tr>\n",
       "      <th>4</th>\n",
       "      <td>0.194958</td>\n",
       "      <td>0.751400</td>\n",
       "      <td>1.718708</td>\n",
       "      <td>1.669686</td>\n",
       "      <td>-1.855501</td>\n",
       "      <td>NaN</td>\n",
       "      <td>0.493095</td>\n",
       "      <td>0.407004</td>\n",
       "      <td>0.337767</td>\n",
       "      <td>0.820297</td>\n",
       "      <td>0.852450</td>\n",
       "      <td>0.694386</td>\n",
       "      <td>-0.343539</td>\n",
       "      <td>-0.476057</td>\n",
       "      <td>-0.731684</td>\n",
       "      <td>-0.559884</td>\n",
       "      <td>-0.458692</td>\n",
       "      <td>0.897704</td>\n",
       "      <td>0.625411</td>\n",
       "      <td>0.868525</td>\n",
       "    </tr>\n",
       "    <tr>\n",
       "      <th>...</th>\n",
       "      <td>...</td>\n",
       "      <td>...</td>\n",
       "      <td>...</td>\n",
       "      <td>...</td>\n",
       "      <td>...</td>\n",
       "      <td>...</td>\n",
       "      <td>...</td>\n",
       "      <td>...</td>\n",
       "      <td>...</td>\n",
       "      <td>...</td>\n",
       "      <td>...</td>\n",
       "      <td>...</td>\n",
       "      <td>...</td>\n",
       "      <td>...</td>\n",
       "      <td>...</td>\n",
       "      <td>...</td>\n",
       "      <td>...</td>\n",
       "      <td>...</td>\n",
       "      <td>...</td>\n",
       "      <td>...</td>\n",
       "    </tr>\n",
       "    <tr>\n",
       "      <th>2936</th>\n",
       "      <td>-0.158424</td>\n",
       "      <td>0.751400</td>\n",
       "      <td>0.774655</td>\n",
       "      <td>0.635347</td>\n",
       "      <td>0.947295</td>\n",
       "      <td>NaN</td>\n",
       "      <td>0.985371</td>\n",
       "      <td>1.263144</td>\n",
       "      <td>0.819445</td>\n",
       "      <td>0.096013</td>\n",
       "      <td>-0.407573</td>\n",
       "      <td>-0.599130</td>\n",
       "      <td>-0.942189</td>\n",
       "      <td>-0.916690</td>\n",
       "      <td>-0.419154</td>\n",
       "      <td>0.535877</td>\n",
       "      <td>1.124639</td>\n",
       "      <td>-0.078631</td>\n",
       "      <td>-0.521381</td>\n",
       "      <td>0.104488</td>\n",
       "    </tr>\n",
       "    <tr>\n",
       "      <th>2937</th>\n",
       "      <td>-1.642453</td>\n",
       "      <td>-0.676575</td>\n",
       "      <td>0.172417</td>\n",
       "      <td>-0.199851</td>\n",
       "      <td>0.947295</td>\n",
       "      <td>NaN</td>\n",
       "      <td>NaN</td>\n",
       "      <td>NaN</td>\n",
       "      <td>NaN</td>\n",
       "      <td>1.838106</td>\n",
       "      <td>1.304766</td>\n",
       "      <td>0.719916</td>\n",
       "      <td>-0.436114</td>\n",
       "      <td>-0.702853</td>\n",
       "      <td>-0.790283</td>\n",
       "      <td>NaN</td>\n",
       "      <td>NaN</td>\n",
       "      <td>NaN</td>\n",
       "      <td>NaN</td>\n",
       "      <td>NaN</td>\n",
       "    </tr>\n",
       "    <tr>\n",
       "      <th>2938</th>\n",
       "      <td>-0.010807</td>\n",
       "      <td>0.347246</td>\n",
       "      <td>0.224173</td>\n",
       "      <td>0.067089</td>\n",
       "      <td>0.947295</td>\n",
       "      <td>NaN</td>\n",
       "      <td>-0.176562</td>\n",
       "      <td>0.275771</td>\n",
       "      <td>-0.232641</td>\n",
       "      <td>-0.315685</td>\n",
       "      <td>-0.451997</td>\n",
       "      <td>-0.488500</td>\n",
       "      <td>-0.929846</td>\n",
       "      <td>-0.929650</td>\n",
       "      <td>-1.169225</td>\n",
       "      <td>0.357816</td>\n",
       "      <td>1.145793</td>\n",
       "      <td>-0.862243</td>\n",
       "      <td>-0.774274</td>\n",
       "      <td>-0.921537</td>\n",
       "    </tr>\n",
       "    <tr>\n",
       "      <th>2939</th>\n",
       "      <td>0.076830</td>\n",
       "      <td>0.509333</td>\n",
       "      <td>0.350584</td>\n",
       "      <td>0.230456</td>\n",
       "      <td>0.292769</td>\n",
       "      <td>NaN</td>\n",
       "      <td>0.145133</td>\n",
       "      <td>0.816326</td>\n",
       "      <td>0.005029</td>\n",
       "      <td>-0.327121</td>\n",
       "      <td>-0.536806</td>\n",
       "      <td>-0.620405</td>\n",
       "      <td>-1.081052</td>\n",
       "      <td>-1.149966</td>\n",
       "      <td>-1.149692</td>\n",
       "      <td>0.307594</td>\n",
       "      <td>1.262462</td>\n",
       "      <td>-0.782186</td>\n",
       "      <td>-0.755222</td>\n",
       "      <td>-0.788375</td>\n",
       "    </tr>\n",
       "    <tr>\n",
       "      <th>2940</th>\n",
       "      <td>0.832697</td>\n",
       "      <td>1.481236</td>\n",
       "      <td>1.324139</td>\n",
       "      <td>1.349867</td>\n",
       "      <td>0.947295</td>\n",
       "      <td>NaN</td>\n",
       "      <td>0.371957</td>\n",
       "      <td>1.044422</td>\n",
       "      <td>0.306078</td>\n",
       "      <td>0.057893</td>\n",
       "      <td>0.125513</td>\n",
       "      <td>0.183788</td>\n",
       "      <td>-0.470058</td>\n",
       "      <td>-0.433938</td>\n",
       "      <td>-0.364462</td>\n",
       "      <td>0.307594</td>\n",
       "      <td>1.227638</td>\n",
       "      <td>-0.804529</td>\n",
       "      <td>-0.744805</td>\n",
       "      <td>-0.838793</td>\n",
       "    </tr>\n",
       "  </tbody>\n",
       "</table>\n",
       "<p>2941 rows × 20 columns</p>\n",
       "</div>"
      ],
      "text/plain": [
       "            Fs        Fm        Fh        Fb   P_intra  P_inter      Gmag  \\\n",
       "0    -0.199449 -1.033569 -0.741320 -0.973895  0.697797      NaN  0.492168   \n",
       "1     1.242478  1.057694  0.753216  0.928074 -1.262540      NaN  0.288212   \n",
       "2     1.658963  1.776103  1.586837  1.765626 -2.046674      NaN  0.969920   \n",
       "3     0.534340  0.246240  0.113741  0.121539 -0.290472      NaN  0.722391   \n",
       "4     0.194958  0.751400  1.718708  1.669686 -1.855501      NaN  0.493095   \n",
       "...        ...       ...       ...       ...       ...      ...       ...   \n",
       "2936 -0.158424  0.751400  0.774655  0.635347  0.947295      NaN  0.985371   \n",
       "2937 -1.642453 -0.676575  0.172417 -0.199851  0.947295      NaN       NaN   \n",
       "2938 -0.010807  0.347246  0.224173  0.067089  0.947295      NaN -0.176562   \n",
       "2939  0.076830  0.509333  0.350584  0.230456  0.292769      NaN  0.145133   \n",
       "2940  0.832697  1.481236  1.324139  1.349867  0.947295      NaN  0.371957   \n",
       "\n",
       "         BPmag     RPmag      Jmag      Hmag      Kmag     W1mag     W2mag  \\\n",
       "0     0.535112  0.746560       NaN       NaN       NaN  0.853763  0.826402   \n",
       "1     0.335138  0.531072  1.445468  1.631887  1.702818  0.548266  0.363090   \n",
       "2     0.969431  1.193379       NaN       NaN       NaN  0.795132  0.706524   \n",
       "3     0.706965  1.015919       NaN       NaN       NaN  1.180861  1.163357   \n",
       "4     0.407004  0.337767  0.820297  0.852450  0.694386 -0.343539 -0.476057   \n",
       "...        ...       ...       ...       ...       ...       ...       ...   \n",
       "2936  1.263144  0.819445  0.096013 -0.407573 -0.599130 -0.942189 -0.916690   \n",
       "2937       NaN       NaN  1.838106  1.304766  0.719916 -0.436114 -0.702853   \n",
       "2938  0.275771 -0.232641 -0.315685 -0.451997 -0.488500 -0.929846 -0.929650   \n",
       "2939  0.816326  0.005029 -0.327121 -0.536806 -0.620405 -1.081052 -1.149966   \n",
       "2940  1.044422  0.306078  0.057893  0.125513  0.183788 -0.470058 -0.433938   \n",
       "\n",
       "         W3mag       Plx        PM      rgeo    b_rgeo    B_rgeo  \n",
       "0     0.487181 -0.742511 -1.095253  1.198046  1.122459  1.536628  \n",
       "1     0.268411 -0.514228 -1.089332  0.626017  0.611672  0.782127  \n",
       "2     0.643446 -0.651198 -2.149547  0.370039  0.200022  0.403904  \n",
       "3          NaN -1.107765 -0.699429  0.800462  0.759952  0.929681  \n",
       "4    -0.731684 -0.559884 -0.458692  0.897704  0.625411  0.868525  \n",
       "...        ...       ...       ...       ...       ...       ...  \n",
       "2936 -0.419154  0.535877  1.124639 -0.078631 -0.521381  0.104488  \n",
       "2937 -0.790283       NaN       NaN       NaN       NaN       NaN  \n",
       "2938 -1.169225  0.357816  1.145793 -0.862243 -0.774274 -0.921537  \n",
       "2939 -1.149692  0.307594  1.262462 -0.782186 -0.755222 -0.788375  \n",
       "2940 -0.364462  0.307594  1.227638 -0.804529 -0.744805 -0.838793  \n",
       "\n",
       "[2941 rows x 20 columns]"
      ]
     },
     "execution_count": 26,
     "metadata": {},
     "output_type": "execute_result"
    }
   ],
   "source": [
    "df_feat"
   ]
  },
  {
   "cell_type": "code",
   "execution_count": 23,
   "metadata": {},
   "outputs": [],
   "source": [
    "import autosklearn.classification\n",
    "cls = autosklearn.classification.AutoSklearnClassifier(\n",
    "    time_left_for_this_task=120,\n",
    "    per_run_time_limit=30,\n",
    "    tmp_folder=\"/tmp/autosklearn_classification_example_tmp\",\n",
    ")"
   ]
  },
  {
   "cell_type": "code",
   "execution_count": null,
   "metadata": {},
   "outputs": [],
   "source": [
    "autosklearn.classification.AutoSklearnClassifier?"
   ]
  },
  {
   "cell_type": "code",
   "execution_count": null,
   "metadata": {},
   "outputs": [],
   "source": [
    "cls.fit(df_feat, y_true)"
   ]
  },
  {
   "cell_type": "code",
   "execution_count": null,
   "metadata": {},
   "outputs": [],
   "source": [
    "predictions = cls.predict(X_test)"
   ]
  },
  {
   "cell_type": "code",
   "execution_count": null,
   "metadata": {},
   "outputs": [],
   "source": []
  },
  {
   "cell_type": "code",
   "execution_count": null,
   "metadata": {},
   "outputs": [],
   "source": []
  },
  {
   "cell_type": "code",
   "execution_count": null,
   "metadata": {},
   "outputs": [],
   "source": []
  },
  {
   "cell_type": "code",
   "execution_count": null,
   "metadata": {},
   "outputs": [],
   "source": []
  },
  {
   "cell_type": "code",
   "execution_count": null,
   "metadata": {},
   "outputs": [],
   "source": [
    "# df_train, df_test = train_test_split(df, test_size=0.2, random_state=SEED)"
   ]
  },
  {
   "cell_type": "code",
   "execution_count": null,
   "metadata": {},
   "outputs": [],
   "source": [
    "METRICS = [\n",
    "    keras.metrics.CategoricalAccuracy(name='accuracy'),\n",
    "    keras.metrics.Precision(name='precision'),\n",
    "    keras.metrics.Recall(name='recall'),\n",
    "]"
   ]
  },
  {
   "cell_type": "code",
   "execution_count": null,
   "metadata": {},
   "outputs": [],
   "source": [
    "df_inp = df_feat.copy()\n",
    "df_inp[df_inp.isna()] = 0"
   ]
  },
  {
   "cell_type": "code",
   "execution_count": null,
   "metadata": {},
   "outputs": [],
   "source": [
    "# use masking nans for RNN such as LSTM!!!\n",
    "# https://www.tensorflow.org/guide/keras/masking_and_padding\n",
    "\n",
    "dense_units = [16]*3\n",
    "\n",
    "dropout_units = [0.3]*3\n",
    "\n",
    "inputs = keras.layers.Input(shape=(20,))\n",
    "\n",
    "x = inputs\n",
    "\n",
    "# x = base_model.layers[1](x)\n",
    "# x = base_model.layers[2](x)\n",
    "\n",
    "x = keras.layers.Normalization()(x)\n",
    "\n",
    "x = keras.layers.Dense(dense_units[0], activation='relu')(x)\n",
    "\n",
    "x = keras.layers.Dropout(dropout_units[0])(x)\n",
    "\n",
    "x = keras.layers.Dense(dense_units[1], activation='relu')(x)\n",
    "\n",
    "x = keras.layers.Dropout(dropout_units[1])(x)\n",
    "\n",
    "x = keras.layers.Dense(dense_units[2], activation='relu')(x)\n",
    "\n",
    "x = keras.layers.Dropout(dropout_units[2])(x)\n",
    "\n",
    "x = keras.layers.Dense(8, activation='softmax')(x)\n",
    "\n",
    "model = keras.Model(inputs, x)"
   ]
  },
  {
   "cell_type": "code",
   "execution_count": null,
   "metadata": {},
   "outputs": [],
   "source": [
    "model.compile(optimizer='adam', loss=tf.keras.losses.CategoricalCrossentropy(), metrics=METRICS)"
   ]
  },
  {
   "cell_type": "code",
   "execution_count": null,
   "metadata": {},
   "outputs": [],
   "source": [
    "# model.fit?"
   ]
  },
  {
   "cell_type": "code",
   "execution_count": null,
   "metadata": {},
   "outputs": [],
   "source": [
    "# model.fit?"
   ]
  },
  {
   "cell_type": "code",
   "execution_count": null,
   "metadata": {
    "scrolled": true,
    "tags": []
   },
   "outputs": [],
   "source": [
    "%%time\n",
    "\n",
    "hist = model.fit(df_inp.to_numpy(), y_true,\n",
    "                 epochs=100, \n",
    "                 batch_size=32, \n",
    "                 # validation_data=(padded_docs_test, y_test),\n",
    "                     # verbose=1,\n",
    "                validation_split=0.2\n",
    "                    )"
   ]
  },
  {
   "cell_type": "code",
   "execution_count": null,
   "metadata": {},
   "outputs": [],
   "source": [
    "plt.plot(hist.history['loss'])\n",
    "plt.plot(hist.history['val_loss'])\n",
    "plt.title('Baseline Embedding model loss')\n",
    "plt.ylabel('loss')\n",
    "plt.xlabel('epoch')\n",
    "plt.legend(['train','val'], loc='upper right')\n",
    "plt.show()"
   ]
  },
  {
   "cell_type": "code",
   "execution_count": null,
   "metadata": {},
   "outputs": [],
   "source": [
    "y_pred_mod = model.predict(df_inp.to_numpy())"
   ]
  },
  {
   "cell_type": "code",
   "execution_count": null,
   "metadata": {},
   "outputs": [],
   "source": [
    "print(classification_report(y_true, y_pred_mod.round(), \n",
    "                            output_dict=False,\n",
    "                            target_names=classes))"
   ]
  },
  {
   "cell_type": "code",
   "execution_count": null,
   "metadata": {},
   "outputs": [],
   "source": [
    "y_pred_mod.round()"
   ]
  },
  {
   "cell_type": "code",
   "execution_count": null,
   "metadata": {},
   "outputs": [],
   "source": []
  },
  {
   "cell_type": "code",
   "execution_count": null,
   "metadata": {},
   "outputs": [],
   "source": []
  },
  {
   "cell_type": "code",
   "execution_count": null,
   "metadata": {},
   "outputs": [],
   "source": []
  },
  {
   "cell_type": "code",
   "execution_count": null,
   "metadata": {},
   "outputs": [],
   "source": []
  },
  {
   "cell_type": "code",
   "execution_count": null,
   "metadata": {},
   "outputs": [],
   "source": []
  },
  {
   "cell_type": "code",
   "execution_count": null,
   "metadata": {},
   "outputs": [],
   "source": []
  },
  {
   "cell_type": "code",
   "execution_count": null,
   "metadata": {
    "scrolled": true,
    "tags": []
   },
   "outputs": [],
   "source": [
    "%%time\n",
    "\n",
    "clf = ak.StructuredDataClassifier(\n",
    "    overwrite=True, \n",
    "    max_trials=1,\n",
    "    metrics=METRICS,\n",
    "    seed=SEED\n",
    ")\n",
    "\n",
    "history = clf.fit(\n",
    "    df_inp,\n",
    "    y_true,\n",
    "    epochs=100,\n",
    "    # callbacks=[tensorboard_callback]\n",
    "    # verbose=0\n",
    ")"
   ]
  },
  {
   "cell_type": "code",
   "execution_count": null,
   "metadata": {},
   "outputs": [],
   "source": [
    "history.model.summary()"
   ]
  },
  {
   "cell_type": "code",
   "execution_count": null,
   "metadata": {},
   "outputs": [],
   "source": []
  },
  {
   "cell_type": "code",
   "execution_count": null,
   "metadata": {},
   "outputs": [],
   "source": []
  },
  {
   "cell_type": "code",
   "execution_count": null,
   "metadata": {},
   "outputs": [],
   "source": []
  },
  {
   "cell_type": "code",
   "execution_count": null,
   "metadata": {},
   "outputs": [],
   "source": []
  },
  {
   "cell_type": "code",
   "execution_count": null,
   "metadata": {},
   "outputs": [],
   "source": []
  },
  {
   "cell_type": "code",
   "execution_count": null,
   "metadata": {},
   "outputs": [],
   "source": []
  },
  {
   "cell_type": "code",
   "execution_count": null,
   "metadata": {},
   "outputs": [],
   "source": []
  },
  {
   "cell_type": "code",
   "execution_count": null,
   "metadata": {},
   "outputs": [],
   "source": []
  },
  {
   "cell_type": "code",
   "execution_count": null,
   "metadata": {},
   "outputs": [],
   "source": []
  },
  {
   "cell_type": "code",
   "execution_count": null,
   "metadata": {},
   "outputs": [],
   "source": [
    "# ak.ClassificationHead?"
   ]
  },
  {
   "cell_type": "code",
   "execution_count": null,
   "metadata": {},
   "outputs": [],
   "source": [
    "# ak.ClassificationHead?"
   ]
  },
  {
   "cell_type": "code",
   "execution_count": null,
   "metadata": {},
   "outputs": [],
   "source": [
    "\n"
   ]
  },
  {
   "cell_type": "code",
   "execution_count": null,
   "metadata": {},
   "outputs": [],
   "source": [
    "df_dig.to_numpy()[0]"
   ]
  },
  {
   "cell_type": "code",
   "execution_count": null,
   "metadata": {},
   "outputs": [],
   "source": []
  },
  {
   "cell_type": "code",
   "execution_count": null,
   "metadata": {},
   "outputs": [],
   "source": [
    "rnn_mod.export_model().predict(df_dig.to_numpy()[:10])"
   ]
  },
  {
   "cell_type": "code",
   "execution_count": null,
   "metadata": {},
   "outputs": [],
   "source": []
  },
  {
   "cell_type": "code",
   "execution_count": null,
   "metadata": {},
   "outputs": [],
   "source": [
    "# df_feat.isna()"
   ]
  },
  {
   "cell_type": "code",
   "execution_count": null,
   "metadata": {
    "id": "aq55Ba1_2NEW"
   },
   "outputs": [],
   "source": [
    "ak_model = ak.TextClassifier(\n",
    "    multi_label=False,\n",
    "    overwrite=True, \n",
    "    max_trials=1,\n",
    "    project_name='ak_model_14_vanilla',\n",
    "    metrics=METRICS,\n",
    "    seed=SEED\n",
    ") "
   ]
  },
  {
   "cell_type": "code",
   "execution_count": null,
   "metadata": {},
   "outputs": [],
   "source": [
    "# ak.TextClassifier?"
   ]
  },
  {
   "cell_type": "code",
   "execution_count": null,
   "metadata": {},
   "outputs": [],
   "source": [
    "# z = ak.Embedding(max_features=20001, pretraining=None, embedding_dim=None, dropout=None, mask_zero=True)"
   ]
  },
  {
   "cell_type": "code",
   "execution_count": null,
   "metadata": {},
   "outputs": [],
   "source": []
  },
  {
   "cell_type": "code",
   "execution_count": null,
   "metadata": {},
   "outputs": [],
   "source": [
    "ak_model.export_model().summary()"
   ]
  },
  {
   "cell_type": "code",
   "execution_count": null,
   "metadata": {},
   "outputs": [],
   "source": [
    "data_str = np.array([' '.join(_) for _ in df_dig.to_numpy().astype(str)])"
   ]
  },
  {
   "cell_type": "code",
   "execution_count": null,
   "metadata": {
    "id": "aq55Ba1_2NEW",
    "scrolled": true,
    "tags": []
   },
   "outputs": [],
   "source": [
    "%time history = ak_model.fit(data_str, y_true, epochs=100)"
   ]
  },
  {
   "cell_type": "code",
   "execution_count": null,
   "metadata": {},
   "outputs": [],
   "source": [
    "plt.plot(history.history['loss'])\n",
    "plt.plot(history.history['val_loss'])\n",
    "plt.title('Baseline Embedding model loss')\n",
    "plt.ylabel('loss')\n",
    "plt.xlabel('epoch')\n",
    "plt.legend(['train','val'], loc='upper right')\n",
    "plt.show()"
   ]
  },
  {
   "cell_type": "code",
   "execution_count": null,
   "metadata": {},
   "outputs": [],
   "source": [
    "predicted_y = mlb.transform(predicted_y)"
   ]
  },
  {
   "cell_type": "code",
   "execution_count": null,
   "metadata": {},
   "outputs": [],
   "source": [
    "y_test_true = [[_] for _ in df_test['True_Class']]\n",
    "y_test_true = mlb.transform(y_test_true)"
   ]
  },
  {
   "cell_type": "code",
   "execution_count": null,
   "metadata": {},
   "outputs": [],
   "source": [
    "print(classification_report(y_test_true, predicted_y, \n",
    "                            target_names=classes))"
   ]
  },
  {
   "cell_type": "code",
   "execution_count": null,
   "metadata": {},
   "outputs": [],
   "source": []
  },
  {
   "cell_type": "code",
   "execution_count": null,
   "metadata": {},
   "outputs": [],
   "source": []
  },
  {
   "cell_type": "code",
   "execution_count": null,
   "metadata": {},
   "outputs": [],
   "source": []
  },
  {
   "cell_type": "code",
   "execution_count": null,
   "metadata": {},
   "outputs": [],
   "source": []
  },
  {
   "cell_type": "code",
   "execution_count": null,
   "metadata": {},
   "outputs": [],
   "source": []
  },
  {
   "cell_type": "code",
   "execution_count": null,
   "metadata": {},
   "outputs": [],
   "source": []
  },
  {
   "cell_type": "code",
   "execution_count": null,
   "metadata": {},
   "outputs": [],
   "source": [
    "model = keras.Sequential(\n",
    "    [layers.Embedding(len(bins)+1, 64, input_length=df_dig.shape[1], mask_zero=True), \n",
    "     layers.LSTM(128),\n",
    "     layers.Dropout(0.2),\n",
    "     layers.Dense(len(classes), activation='softmax')\n",
    "    ]\n",
    ")"
   ]
  },
  {
   "cell_type": "code",
   "execution_count": null,
   "metadata": {},
   "outputs": [],
   "source": [
    "model.compile(optimizer='adam', loss=tf.keras.losses.CategoricalCrossentropy(), metrics=METRICS)"
   ]
  },
  {
   "cell_type": "code",
   "execution_count": null,
   "metadata": {},
   "outputs": [],
   "source": [
    "# model.fit?"
   ]
  },
  {
   "cell_type": "code",
   "execution_count": null,
   "metadata": {},
   "outputs": [],
   "source": [
    "# layers.Embedding?"
   ]
  },
  {
   "cell_type": "code",
   "execution_count": null,
   "metadata": {
    "scrolled": true,
    "tags": []
   },
   "outputs": [],
   "source": [
    "%%time\n",
    "\n",
    "hist = model.fit(df_dig, y_true,\n",
    "                 epochs=10, \n",
    "                 batch_size=32, \n",
    "                 # validation_data=(padded_docs_test, y_test),\n",
    "                     # verbose=1,\n",
    "                validation_split=0.2\n",
    "                    )"
   ]
  },
  {
   "cell_type": "code",
   "execution_count": null,
   "metadata": {},
   "outputs": [],
   "source": [
    "plt.plot(hist.history['loss'])\n",
    "plt.plot(hist.history['val_loss'])\n",
    "plt.title('Baseline Embedding model loss')\n",
    "plt.ylabel('loss')\n",
    "plt.xlabel('epoch')\n",
    "plt.legend(['train','val'], loc='upper right')\n",
    "plt.show()"
   ]
  },
  {
   "cell_type": "code",
   "execution_count": null,
   "metadata": {},
   "outputs": [],
   "source": []
  },
  {
   "cell_type": "code",
   "execution_count": null,
   "metadata": {},
   "outputs": [],
   "source": []
  },
  {
   "cell_type": "code",
   "execution_count": null,
   "metadata": {},
   "outputs": [],
   "source": []
  },
  {
   "cell_type": "code",
   "execution_count": null,
   "metadata": {},
   "outputs": [],
   "source": []
  },
  {
   "cell_type": "code",
   "execution_count": null,
   "metadata": {},
   "outputs": [],
   "source": []
  },
  {
   "cell_type": "code",
   "execution_count": null,
   "metadata": {},
   "outputs": [],
   "source": [
    "model = tf.keras.Sequential()\n",
    "model.add(tf.keras.layers.Embedding(len(bins)+1, 1, input_length=df_dig.shape[1], mask_zero=True))"
   ]
  },
  {
   "cell_type": "code",
   "execution_count": null,
   "metadata": {},
   "outputs": [],
   "source": [
    "# input_array = np.random.randint(1000, size=(32, 10))\n",
    "model.compile('rmsprop', 'mse')\n",
    "output_array = model.predict(df_dig)\n",
    "print(output_array.shape)"
   ]
  },
  {
   "cell_type": "code",
   "execution_count": null,
   "metadata": {
    "scrolled": true,
    "tags": []
   },
   "outputs": [],
   "source": [
    "%%time\n",
    "\n",
    "clf = ak.StructuredDataClassifier(\n",
    "    overwrite=True, \n",
    "    max_trials=1,\n",
    "    metrics=METRICS,\n",
    "    seed=SEED\n",
    ")\n",
    "\n",
    "history = clf.fit(\n",
    "    df_feat,\n",
    "    y_true,\n",
    "    epochs=100,\n",
    "    # callbacks=[tensorboard_callback]\n",
    "    # verbose=0\n",
    ")"
   ]
  },
  {
   "cell_type": "code",
   "execution_count": null,
   "metadata": {},
   "outputs": [],
   "source": [
    "base_model = clf.export_model()"
   ]
  },
  {
   "cell_type": "code",
   "execution_count": null,
   "metadata": {},
   "outputs": [],
   "source": [
    "# %tensorboard --logdir logs/fit --host localhost"
   ]
  },
  {
   "cell_type": "code",
   "execution_count": null,
   "metadata": {},
   "outputs": [],
   "source": [
    "base_model.summary(expand_nested=True, show_trainable=True)"
   ]
  },
  {
   "cell_type": "code",
   "execution_count": null,
   "metadata": {},
   "outputs": [],
   "source": [
    "base_model.get_config().keys()"
   ]
  },
  {
   "cell_type": "code",
   "execution_count": null,
   "metadata": {
    "scrolled": true,
    "tags": []
   },
   "outputs": [],
   "source": [
    "[_['config'] for _ in base_model.get_config()['layers']]"
   ]
  },
  {
   "cell_type": "code",
   "execution_count": null,
   "metadata": {},
   "outputs": [],
   "source": [
    "# ak.StructuredDataInput?"
   ]
  },
  {
   "cell_type": "code",
   "execution_count": null,
   "metadata": {},
   "outputs": [],
   "source": [
    "# keras.layers.Dense?"
   ]
  },
  {
   "cell_type": "code",
   "execution_count": null,
   "metadata": {},
   "outputs": [],
   "source": [
    "inputs = keras.layers.Input(shape=(20,), dtype='float64')\n",
    "x = inputs\n",
    "x = base_model.layers[1](x)\n",
    "x = base_model.layers[2](x)\n",
    "\n",
    "mod_input = keras.Model(inputs, x)"
   ]
  },
  {
   "cell_type": "code",
   "execution_count": null,
   "metadata": {},
   "outputs": [],
   "source": [
    "_ = df_feat.to_numpy() \n",
    "_, _.min(), _.max()"
   ]
  },
  {
   "cell_type": "code",
   "execution_count": null,
   "metadata": {},
   "outputs": [],
   "source": [
    "inp = mod_input.predict(df_feat)\n",
    "inp, inp.shape, inp.min(), inp.max()"
   ]
  },
  {
   "cell_type": "code",
   "execution_count": null,
   "metadata": {},
   "outputs": [],
   "source": [
    "d = df_feat.to_numpy().astype(np.float32)\n",
    "d, d.shape"
   ]
  },
  {
   "cell_type": "code",
   "execution_count": null,
   "metadata": {},
   "outputs": [],
   "source": [
    "np.where(np.isnan(d))"
   ]
  },
  {
   "cell_type": "code",
   "execution_count": null,
   "metadata": {},
   "outputs": [],
   "source": [
    "d[0, 5], inp[0, 5]"
   ]
  },
  {
   "cell_type": "code",
   "execution_count": null,
   "metadata": {},
   "outputs": [],
   "source": [
    "inp[0]"
   ]
  },
  {
   "cell_type": "code",
   "execution_count": null,
   "metadata": {},
   "outputs": [],
   "source": [
    "# use masking nans for RNN such as LSTM!!!\n",
    "# https://www.tensorflow.org/guide/keras/masking_and_padding\n",
    "\n",
    "inputs = keras.layers.Input(shape=(20,))\n",
    "\n",
    "x = inputs\n",
    "\n",
    "# x = base_model.layers[1](x)\n",
    "# x = base_model.layers[2](x)\n",
    "\n",
    "x = keras.layers.Normalization()(x)\n",
    "\n",
    "x = keras.layers.Dense(32, activation='relu')(x)\n",
    "\n",
    "x = keras.layers.Dropout(0.2)(x)\n",
    "\n",
    "x = keras.layers.Dense(32, activation='relu')(x)\n",
    "\n",
    "x = keras.layers.Dropout(0.2)(x)\n",
    "\n",
    "# x = keras.layers.Dense(32, activation='relu')(x)\n",
    "\n",
    "# x = keras.layers.Dropout(0.2)(x)\n",
    "\n",
    "x = keras.layers.Dense(8, activation='softmax')(x)\n",
    "\n",
    "model = keras.Model(inputs, x)"
   ]
  },
  {
   "cell_type": "code",
   "execution_count": null,
   "metadata": {},
   "outputs": [],
   "source": [
    "keras.layers.Dropout?"
   ]
  },
  {
   "cell_type": "code",
   "execution_count": null,
   "metadata": {},
   "outputs": [],
   "source": [
    "# tf.keras.losses.CategoricalCrossentropy?"
   ]
  },
  {
   "cell_type": "code",
   "execution_count": null,
   "metadata": {},
   "outputs": [],
   "source": [
    "model.compile(optimizer='adam', loss=tf.keras.losses.CategoricalCrossentropy(from_logits=False), metrics=METRICS)"
   ]
  },
  {
   "cell_type": "code",
   "execution_count": null,
   "metadata": {},
   "outputs": [],
   "source": [
    "# model.fit?"
   ]
  },
  {
   "cell_type": "code",
   "execution_count": null,
   "metadata": {
    "scrolled": true,
    "tags": []
   },
   "outputs": [],
   "source": [
    "%%time\n",
    "\n",
    "hist = model.fit(df_feat.to_numpy().astype(np.float32), y_true,\n",
    "                 epochs=100, \n",
    "                 batch_size=32, \n",
    "                 # validation_data=(padded_docs_test, y_test),\n",
    "                     # verbose=1,\n",
    "                validation_split=0.2\n",
    "                    )"
   ]
  },
  {
   "cell_type": "code",
   "execution_count": null,
   "metadata": {},
   "outputs": [],
   "source": [
    "plt.plot(hist.history['loss'])\n",
    "plt.plot(hist.history['val_loss'])\n",
    "plt.title('Baseline Embedding model loss')\n",
    "plt.ylabel('loss')\n",
    "plt.xlabel('epoch')\n",
    "plt.legend(['train','val'], loc='upper right')\n",
    "plt.show()"
   ]
  },
  {
   "cell_type": "code",
   "execution_count": null,
   "metadata": {},
   "outputs": [],
   "source": []
  },
  {
   "cell_type": "code",
   "execution_count": null,
   "metadata": {},
   "outputs": [],
   "source": []
  },
  {
   "cell_type": "code",
   "execution_count": null,
   "metadata": {},
   "outputs": [],
   "source": []
  },
  {
   "cell_type": "code",
   "execution_count": null,
   "metadata": {},
   "outputs": [],
   "source": []
  },
  {
   "cell_type": "code",
   "execution_count": null,
   "metadata": {},
   "outputs": [],
   "source": []
  },
  {
   "cell_type": "code",
   "execution_count": null,
   "metadata": {},
   "outputs": [],
   "source": []
  },
  {
   "cell_type": "code",
   "execution_count": null,
   "metadata": {},
   "outputs": [],
   "source": [
    "input_layer = ak.StructuredDataInput()\n",
    "\n",
    "x = input_layer\n",
    "\n",
    "x = ak.Normalization()(x)\n",
    "\n",
    "x = ak.DenseBlock(num_layers=1, num_units=32, activation='relu')(x)\n",
    "\n",
    "x = ak.DenseBlock(num_layers=1, num_units=32, activation='relu')(x)\n",
    "\n",
    "x = ak.DenseBlock(num_layers=1, num_units=8, activation='softmax')(x)\n",
    "\n",
    "clf2 = ak.AutoModel(\n",
    "    inputs=input_layer,\n",
    "    outputs=x\n",
    ")"
   ]
  },
  {
   "cell_type": "code",
   "execution_count": null,
   "metadata": {
    "scrolled": true,
    "tags": []
   },
   "outputs": [],
   "source": [
    "%%time\n",
    "\n",
    "history = clf.fit(\n",
    "    df_feat,\n",
    "    y_pred,\n",
    "    epochs=100,\n",
    "    callbacks=[tensorboard_callback]\n",
    "    # verbose=0\n",
    ")"
   ]
  },
  {
   "cell_type": "code",
   "execution_count": null,
   "metadata": {},
   "outputs": [],
   "source": [
    "mod = clf.export_model()"
   ]
  },
  {
   "cell_type": "code",
   "execution_count": null,
   "metadata": {},
   "outputs": [],
   "source": [
    "mod.summary(expand_nested=True, show_trainable=True)"
   ]
  },
  {
   "cell_type": "code",
   "execution_count": null,
   "metadata": {},
   "outputs": [],
   "source": [
    "mod.get_config()"
   ]
  },
  {
   "cell_type": "code",
   "execution_count": null,
   "metadata": {},
   "outputs": [],
   "source": [
    "# import tensorflow as tf\n",
    "from tensorflow.keras import layers\n",
    "\n",
    "def build_model(input_shape=(20,), dtype='float32'):\n",
    "    \n",
    "    input_layer = layers.Input(shape=input_shape, name='input_1')\n",
    "    \n",
    "    # if encoding is not None:\n",
    "    #     multi_category_encoding = CustomMultiCategoryEncoding(encoding=encoding, name='multi_category_encoding')\n",
    "    #     x = multi_category_encoding(input_layer)\n",
    "    # else:\n",
    "    x = input_layer\n",
    "        \n",
    "    x = layers.Normalization(axis=(-1,), name='normalization')(x)\n",
    "    x = layers.Dense(32, activation='relu', name='dense')(x)\n",
    "    # x = layers.ReLU(dtype=dtype, name='re_lu')(x)\n",
    "    x = layers.Dense(32, activation='relu', name='dense_1')(x)\n",
    "    # x = layers.ReLU(dtype=dtype, name='re_lu_1')(x)\n",
    "    x = layers.Dense(8, activation='softmax', name='dense_2')(x)\n",
    "    \n",
    "    model = tf.keras.Model(inputs=input_layer, outputs=x, name='model')\n",
    "    \n",
    "    return model\n",
    "\n",
    "model = build_model()"
   ]
  },
  {
   "cell_type": "code",
   "execution_count": null,
   "metadata": {},
   "outputs": [],
   "source": [
    "model.evaluate(df_feat.iloc[0])"
   ]
  },
  {
   "cell_type": "code",
   "execution_count": null,
   "metadata": {},
   "outputs": [],
   "source": [
    "# tf.keras.optimizers.SGD(\n",
    "#     learning_rate=0.0001, momentum=0.7, nesterov=False, name='sgd'\n",
    "# )\n",
    "\n",
    "model.compile(optimizer='adam', loss=tf.keras.losses.CategoricalCrossentropy(from_logits=False), metrics=METRICS)"
   ]
  },
  {
   "cell_type": "code",
   "execution_count": null,
   "metadata": {},
   "outputs": [],
   "source": [
    "model.optimizer.learning_rate"
   ]
  },
  {
   "cell_type": "code",
   "execution_count": null,
   "metadata": {},
   "outputs": [],
   "source": [
    "df_feat.shape, y_true.shape"
   ]
  },
  {
   "cell_type": "code",
   "execution_count": null,
   "metadata": {},
   "outputs": [],
   "source": [
    "%%time\n",
    "\n",
    "hist = model.fit(df_feat, y_true,\n",
    "                 epochs=10, \n",
    "                 batch_size=8, \n",
    "                 # validation_data=(padded_docs_test, y_test),\n",
    "                     # verbose=1,\n",
    "                     validation_split=0.2\n",
    "                    )"
   ]
  },
  {
   "cell_type": "code",
   "execution_count": null,
   "metadata": {},
   "outputs": [],
   "source": []
  },
  {
   "cell_type": "code",
   "execution_count": null,
   "metadata": {},
   "outputs": [],
   "source": []
  },
  {
   "cell_type": "code",
   "execution_count": null,
   "metadata": {},
   "outputs": [],
   "source": []
  },
  {
   "cell_type": "code",
   "execution_count": null,
   "metadata": {},
   "outputs": [],
   "source": []
  },
  {
   "cell_type": "code",
   "execution_count": null,
   "metadata": {},
   "outputs": [],
   "source": [
    "y_true = [[0, 1, 0], [0, 0, 1]]\n",
    "y_pred = [[0., 0., 1.], [1., 1., 0.]] #[[0.05, 0.95, 0], [0.1, 0.8, 0.1]]\n",
    "# Using 'auto'/'sum_over_batch_size' reduction type.\n",
    "cce = tf.keras.losses.CategoricalCrossentropy(reduction=tf.keras.losses.Reduction.NONE)\n",
    "cce(y_true, y_pred).numpy()"
   ]
  },
  {
   "cell_type": "code",
   "execution_count": null,
   "metadata": {},
   "outputs": [],
   "source": [
    "tf.keras.losses.CategoricalCrossentropy??"
   ]
  },
  {
   "cell_type": "code",
   "execution_count": null,
   "metadata": {},
   "outputs": [],
   "source": []
  },
  {
   "cell_type": "code",
   "execution_count": null,
   "metadata": {},
   "outputs": [],
   "source": []
  },
  {
   "cell_type": "code",
   "execution_count": null,
   "metadata": {},
   "outputs": [],
   "source": [
    "# Predict with the best model.\n",
    "predicted_y = clf.predict(df_test[features])"
   ]
  },
  {
   "cell_type": "code",
   "execution_count": null,
   "metadata": {},
   "outputs": [],
   "source": [
    "predicted_y = mlb.transform(predicted_y)"
   ]
  },
  {
   "cell_type": "code",
   "execution_count": null,
   "metadata": {},
   "outputs": [],
   "source": [
    "y_test_true = [[_] for _ in df_test['True_Class']]\n",
    "y_test_true = mlb.transform(y_test_true)"
   ]
  },
  {
   "cell_type": "code",
   "execution_count": null,
   "metadata": {},
   "outputs": [],
   "source": [
    "print(classification_report(y_test_true, predicted_y, \n",
    "                            target_names=classes))"
   ]
  },
  {
   "cell_type": "code",
   "execution_count": null,
   "metadata": {},
   "outputs": [],
   "source": [
    "# classification_report?"
   ]
  },
  {
   "cell_type": "code",
   "execution_count": null,
   "metadata": {},
   "outputs": [],
   "source": [
    "Counter(df_test['True_Class'])"
   ]
  },
  {
   "cell_type": "code",
   "execution_count": null,
   "metadata": {},
   "outputs": [],
   "source": [
    "df_train"
   ]
  },
  {
   "cell_type": "code",
   "execution_count": null,
   "metadata": {},
   "outputs": [],
   "source": []
  },
  {
   "cell_type": "code",
   "execution_count": null,
   "metadata": {},
   "outputs": [],
   "source": []
  },
  {
   "cell_type": "code",
   "execution_count": null,
   "metadata": {},
   "outputs": [],
   "source": []
  },
  {
   "cell_type": "code",
   "execution_count": null,
   "metadata": {},
   "outputs": [],
   "source": []
  },
  {
   "cell_type": "code",
   "execution_count": null,
   "metadata": {},
   "outputs": [],
   "source": []
  },
  {
   "cell_type": "code",
   "execution_count": null,
   "metadata": {},
   "outputs": [],
   "source": []
  },
  {
   "cell_type": "code",
   "execution_count": null,
   "metadata": {},
   "outputs": [],
   "source": []
  },
  {
   "cell_type": "code",
   "execution_count": null,
   "metadata": {},
   "outputs": [],
   "source": []
  },
  {
   "cell_type": "code",
   "execution_count": null,
   "metadata": {},
   "outputs": [],
   "source": [
    "input_df = df[features].copy()\n",
    "df2['label'] = df['True_Class']\n",
    "# df2['old_pred'] = df['Class']\n",
    "\n",
    "df2.index = df['CSCv2_name']\n",
    "\n",
    "df2"
   ]
  },
  {
   "cell_type": "code",
   "execution_count": null,
   "metadata": {},
   "outputs": [],
   "source": [
    "mlb = MultiLabelBinarizer()\n",
    "\n",
    "labels = mlb.fit_transform([[_] for _ in df['True_Class']])\n",
    "classes = mlb.classes_\n",
    "\n",
    "classes, labels.shape"
   ]
  },
  {
   "cell_type": "code",
   "execution_count": null,
   "metadata": {},
   "outputs": [],
   "source": [
    "labels"
   ]
  },
  {
   "cell_type": "code",
   "execution_count": null,
   "metadata": {},
   "outputs": [],
   "source": [
    "x_train, x_test, y_train, y_test = train_test_split(df[features].to_numpy(), labels, test_size=0.2, random_state=SEED)"
   ]
  },
  {
   "cell_type": "code",
   "execution_count": null,
   "metadata": {},
   "outputs": [],
   "source": [
    "train_test_split?"
   ]
  },
  {
   "cell_type": "code",
   "execution_count": null,
   "metadata": {},
   "outputs": [],
   "source": [
    "Counter(df2['label'])"
   ]
  },
  {
   "cell_type": "code",
   "execution_count": null,
   "metadata": {},
   "outputs": [],
   "source": [
    "old_pred = mlb.transform([[_] for _ in df2['old_pred']])\n",
    "old_pred"
   ]
  },
  {
   "cell_type": "code",
   "execution_count": null,
   "metadata": {},
   "outputs": [],
   "source": [
    "# classification_report?"
   ]
  },
  {
   "cell_type": "code",
   "execution_count": null,
   "metadata": {},
   "outputs": [],
   "source": [
    "print(classification_report(labels, \n",
    "                            old_pred, \n",
    "                            output_dict=False,\n",
    "                            target_names=classes))"
   ]
  },
  {
   "cell_type": "code",
   "execution_count": null,
   "metadata": {},
   "outputs": [],
   "source": []
  },
  {
   "cell_type": "code",
   "execution_count": null,
   "metadata": {},
   "outputs": [],
   "source": []
  },
  {
   "cell_type": "code",
   "execution_count": null,
   "metadata": {},
   "outputs": [],
   "source": [
    "df2['label'].to_list()"
   ]
  },
  {
   "cell_type": "code",
   "execution_count": null,
   "metadata": {},
   "outputs": [],
   "source": []
  },
  {
   "cell_type": "code",
   "execution_count": null,
   "metadata": {},
   "outputs": [],
   "source": []
  },
  {
   "cell_type": "code",
   "execution_count": null,
   "metadata": {},
   "outputs": [],
   "source": []
  },
  {
   "cell_type": "code",
   "execution_count": null,
   "metadata": {},
   "outputs": [],
   "source": []
  },
  {
   "cell_type": "code",
   "execution_count": null,
   "metadata": {},
   "outputs": [],
   "source": []
  },
  {
   "cell_type": "code",
   "execution_count": null,
   "metadata": {},
   "outputs": [],
   "source": []
  },
  {
   "cell_type": "code",
   "execution_count": null,
   "metadata": {},
   "outputs": [],
   "source": []
  },
  {
   "cell_type": "code",
   "execution_count": null,
   "metadata": {},
   "outputs": [],
   "source": []
  },
  {
   "cell_type": "code",
   "execution_count": null,
   "metadata": {},
   "outputs": [],
   "source": []
  },
  {
   "cell_type": "code",
   "execution_count": null,
   "metadata": {},
   "outputs": [],
   "source": [
    "df = pkl.load(open(f'{tmp_dir}/data.pkl', 'rb'))"
   ]
  },
  {
   "cell_type": "code",
   "execution_count": null,
   "metadata": {},
   "outputs": [],
   "source": [
    "def remove_labels(df, labels, in_col='genres', out_col='genres2'):\n",
    "    \n",
    "    if type(labels)==str:\n",
    "        labels = [labels]\n",
    "        \n",
    "    df[out_col] = [sorted(list(set(_).difference(set(labels)))) for _ in df[in_col]]\n",
    "    \n",
    "    return df"
   ]
  },
  {
   "cell_type": "markdown",
   "metadata": {},
   "source": [
    "### Let us remove genres that have <1000 entries as well as 'Musical', 'Mystery', and 'Biography' (they were found to be poorly perfoming in training, which makes sense)."
   ]
  },
  {
   "cell_type": "code",
   "execution_count": null,
   "metadata": {},
   "outputs": [],
   "source": [
    "labels, abund = np.unique(np.concatenate(df['genres'].tolist()), return_counts=True)\n",
    "        \n",
    "to_remove = set(labels[np.where(abund<1000)[0]])\n",
    "to_remove = to_remove.union({'Musical', 'Mystery', 'Biography'})\n",
    "\n",
    "to_remove"
   ]
  },
  {
   "cell_type": "code",
   "execution_count": null,
   "metadata": {},
   "outputs": [],
   "source": [
    "df = remove_labels(df, to_remove)\n",
    "df"
   ]
  },
  {
   "cell_type": "code",
   "execution_count": null,
   "metadata": {},
   "outputs": [],
   "source": [
    "# from collections import Counter\n",
    "# Counter([len(_) for _ in df['genres2']])"
   ]
  },
  {
   "cell_type": "markdown",
   "metadata": {},
   "source": [
    "### Binarizing labels for multi-label classification with Autokeras' TextClassifier model. It appears to be the simplest method that provided good f1 micro scores. Also, it does not require a heavy cleaning of the input such as stemming.\n",
    "\n",
    "### Other models could include Bidirectional LSTM layers, or RoBERTa transformer model. Also one could fine-tune a pretrained model that calculates a semantic similarity between texts on pairs (synopsis, genres)."
   ]
  },
  {
   "cell_type": "code",
   "execution_count": null,
   "metadata": {},
   "outputs": [],
   "source": [
    "mlb = MultiLabelBinarizer()\n",
    "labels = mlb.fit_transform(df['genres2'])\n",
    "classes = mlb.classes_\n",
    "\n",
    "classes, labels.shape"
   ]
  },
  {
   "cell_type": "code",
   "execution_count": null,
   "metadata": {},
   "outputs": [],
   "source": [
    "text_input = df['clean'].to_numpy()\n",
    "\n",
    "x_train, x_test, y_train, y_test = train_test_split(text_input, labels, test_size=0.2, random_state=SEED)"
   ]
  },
  {
   "cell_type": "code",
   "execution_count": null,
   "metadata": {},
   "outputs": [],
   "source": [
    "METRICS = [\n",
    "    keras.metrics.CategoricalAccuracy(name='accuracy'),\n",
    "    keras.metrics.Precision(name='precision'),\n",
    "    keras.metrics.Recall(name='recall'),\n",
    "]"
   ]
  },
  {
   "cell_type": "code",
   "execution_count": null,
   "metadata": {
    "id": "aq55Ba1_2NEW"
   },
   "outputs": [],
   "source": [
    "ak_model = ak.TextClassifier(\n",
    "    multi_label=True,\n",
    "    overwrite=True, \n",
    "    max_trials=1,\n",
    "    project_name='ak_model_14_vanilla',\n",
    "    metrics=METRICS,\n",
    "    seed=SEED\n",
    ") "
   ]
  },
  {
   "cell_type": "code",
   "execution_count": null,
   "metadata": {
    "id": "aq55Ba1_2NEW"
   },
   "outputs": [],
   "source": [
    "%time history = ak_model.fit(x_train, y_train, epochs=10)"
   ]
  },
  {
   "cell_type": "code",
   "execution_count": null,
   "metadata": {},
   "outputs": [],
   "source": [
    "tf_model = ak_model.export_model()\n",
    "tf_model.summary()"
   ]
  },
  {
   "cell_type": "code",
   "execution_count": null,
   "metadata": {},
   "outputs": [],
   "source": [
    "y_pred = tf_model.predict(x_test)"
   ]
  },
  {
   "cell_type": "markdown",
   "metadata": {},
   "source": [
    "### We chose a threshold of 0.95 for a prediction array normalized by its maximum value in order to allow for multiple genres"
   ]
  },
  {
   "cell_type": "code",
   "execution_count": null,
   "metadata": {},
   "outputs": [],
   "source": [
    "new_y_pred = np.where((y_pred.T/y_pred.max(1)).T > 0.95, 1, 0)"
   ]
  },
  {
   "cell_type": "code",
   "execution_count": null,
   "metadata": {},
   "outputs": [],
   "source": [
    "from collections import Counter\n",
    "\n",
    "Counter(new_y_pred.sum(1))"
   ]
  },
  {
   "cell_type": "markdown",
   "metadata": {},
   "source": [
    "### f1 micro avg is 0.47. "
   ]
  },
  {
   "cell_type": "code",
   "execution_count": null,
   "metadata": {},
   "outputs": [],
   "source": [
    "print(classification_report(y_test, \n",
    "                            new_y_pred, \n",
    "                            output_dict=False,\n",
    "                            target_names=classes))"
   ]
  },
  {
   "cell_type": "code",
   "execution_count": null,
   "metadata": {},
   "outputs": [],
   "source": [
    "# np.sum(y_test * new_y_pred)/len(y_test)"
   ]
  },
  {
   "cell_type": "code",
   "execution_count": null,
   "metadata": {},
   "outputs": [],
   "source": [
    "# new_y_pred.sum(0).astype(int), np.unique(new_y_pred.sum(1).astype(int))"
   ]
  },
  {
   "cell_type": "code",
   "execution_count": null,
   "metadata": {},
   "outputs": [],
   "source": [
    "tf_model.save(f'{out_dir}/tf_model')"
   ]
  },
  {
   "cell_type": "markdown",
   "metadata": {},
   "source": [
    "### In order to choose similar moview, we compute predictions for each movie with revenue > $10 million."
   ]
  },
  {
   "cell_type": "code",
   "execution_count": null,
   "metadata": {},
   "outputs": [],
   "source": [
    "text_input_pred = tf_model.predict(text_input)"
   ]
  },
  {
   "cell_type": "code",
   "execution_count": null,
   "metadata": {},
   "outputs": [],
   "source": [
    "mask = df['revenue'] > 1e7\n",
    "len(mask)"
   ]
  },
  {
   "cell_type": "code",
   "execution_count": null,
   "metadata": {},
   "outputs": [],
   "source": [
    "df2 = df[mask]\n",
    "text_input_pred2 = text_input_pred[mask]"
   ]
  },
  {
   "cell_type": "code",
   "execution_count": null,
   "metadata": {},
   "outputs": [],
   "source": [
    "out_data = df2[['name', 'year', 'genres']].to_dict(orient='list')\n",
    "out_data['pred'] = text_input_pred2\n",
    "\n",
    "out_data.keys()"
   ]
  },
  {
   "cell_type": "code",
   "execution_count": null,
   "metadata": {},
   "outputs": [],
   "source": [
    "pkl.dump([classes, out_data], open(f'{out_dir}/aux_data.pkl', 'wb'))"
   ]
  },
  {
   "cell_type": "code",
   "execution_count": null,
   "metadata": {},
   "outputs": [],
   "source": []
  },
  {
   "cell_type": "code",
   "execution_count": null,
   "metadata": {},
   "outputs": [],
   "source": []
  },
  {
   "cell_type": "code",
   "execution_count": null,
   "metadata": {},
   "outputs": [],
   "source": []
  },
  {
   "cell_type": "markdown",
   "metadata": {},
   "source": [
    "### checking that spoiler database also produces a good f1 micro average"
   ]
  },
  {
   "cell_type": "code",
   "execution_count": null,
   "metadata": {},
   "outputs": [],
   "source": [
    "df_imdb = pkl.load(open(f'{tmp_dir}/df_imdb.pkl', 'rb'))\n",
    "df_imdb"
   ]
  },
  {
   "cell_type": "code",
   "execution_count": null,
   "metadata": {},
   "outputs": [],
   "source": [
    "imdb_labels = mlb.transform(df_imdb['genre'])"
   ]
  },
  {
   "cell_type": "code",
   "execution_count": null,
   "metadata": {},
   "outputs": [],
   "source": [
    "y_pred = tf_model.predict(df_imdb['clean'].tolist())"
   ]
  },
  {
   "cell_type": "code",
   "execution_count": null,
   "metadata": {},
   "outputs": [],
   "source": [
    "new_y_pred = np.where((y_pred.T/y_pred.max(1)).T > 0.95, 1, 0)"
   ]
  },
  {
   "cell_type": "code",
   "execution_count": null,
   "metadata": {},
   "outputs": [],
   "source": [
    "# from collections import Counter\n",
    "\n",
    "Counter(new_y_pred.sum(1))"
   ]
  },
  {
   "cell_type": "code",
   "execution_count": null,
   "metadata": {},
   "outputs": [],
   "source": [
    "print(classification_report(imdb_labels, \n",
    "                            new_y_pred, \n",
    "                            output_dict=False,\n",
    "                            target_names=classes))"
   ]
  },
  {
   "cell_type": "code",
   "execution_count": null,
   "metadata": {},
   "outputs": [],
   "source": [
    "# single_genre = lambda y_pred : np.floor((y_pred.T/y_pred.T.max(0)).T).astype(int)"
   ]
  },
  {
   "cell_type": "code",
   "execution_count": null,
   "metadata": {},
   "outputs": [],
   "source": [
    "# %%time \n",
    "\n",
    "# bins = np.arange(df_feat.min().min(), df_feat.max().max(), 0.1)\n",
    "\n",
    "# df_dig = df_feat.apply(lambda x : np.digitize(x, bins))\n",
    "# df_dig[df_feat.isna()] = 0\n",
    "\n",
    "# # len(bins)\n",
    "\n",
    "# input_layer = ak.Input()\n",
    "\n",
    "# x = input_layer\n",
    "\n",
    "# x = ak.Embedding(max_features=len(bins)+1, embedding_dim=None, pretraining='random')(x)\n",
    "\n",
    "# x = ak.RNNBlock()(x)\n",
    "\n",
    "# # x = ak.DenseBlock()(x)\n",
    "\n",
    "# x = ak.ClassificationHead()(x)\n",
    "\n",
    "# rnn_mod = ak.AutoModel(\n",
    "#     inputs=[input_layer],\n",
    "#     outputs=[x],\n",
    "#     project_name='rnn_model',\n",
    "#     max_trials=1,\n",
    "#     seed=SEED,\n",
    "#     overwrite=True\n",
    "# )\n",
    "\n",
    "# hist = rnn_mod.fit(df_dig.to_numpy(), y_true, \n",
    "#                    validation_split=0.2,\n",
    "#                    epochs=100, \n",
    "#                    batch_size=128)\n",
    "\n",
    "# rnn_mod.predict(df_dig.to_numpy()[:10])"
   ]
  },
  {
   "cell_type": "code",
   "execution_count": null,
   "metadata": {},
   "outputs": [],
   "source": [
    "# df['Plx'].apply(lambda x : np.log10()).hist(bins=100, log=False)"
   ]
  },
  {
   "cell_type": "code",
   "execution_count": null,
   "metadata": {},
   "outputs": [],
   "source": [
    "# df[df['Plx']>15]['True_Class']"
   ]
  }
 ],
 "metadata": {
  "colab": {
   "name": "text_classification",
   "provenance": [
    {
     "file_id": "https://github.com/keras-team/autokeras/blob/master/docs/ipynb/text_classification.ipynb",
     "timestamp": 1674128743914
    }
   ],
   "toc_visible": true
  },
  "kernelspec": {
   "display_name": "Python [conda env:autogluon]",
   "language": "python",
   "name": "conda-env-autogluon-py"
  },
  "language_info": {
   "codemirror_mode": {
    "name": "ipython",
    "version": 3
   },
   "file_extension": ".py",
   "mimetype": "text/x-python",
   "name": "python",
   "nbconvert_exporter": "python",
   "pygments_lexer": "ipython3",
   "version": "3.9.16"
  }
 },
 "nbformat": 4,
 "nbformat_minor": 4
}
